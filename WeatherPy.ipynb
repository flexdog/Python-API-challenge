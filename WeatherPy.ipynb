{
 "cells": [
  {
   "cell_type": "markdown",
   "metadata": {},
   "source": [
    "# WeatherPy\n",
    "----\n",
    "\n",
    "#### Note\n",
    "* Instructions have been included for each segment. You do not have to follow them exactly, but they are included to help you think through the steps."
   ]
  },
  {
   "cell_type": "code",
   "execution_count": null,
   "metadata": {},
   "outputs": [],
   "source": []
  },
  {
   "cell_type": "code",
   "execution_count": 125,
   "metadata": {
    "scrolled": true
   },
   "outputs": [],
   "source": [
    "# Dependencies and Setup\n",
    "import matplotlib.pyplot as plt\n",
    "import pandas as pd\n",
    "import numpy as np\n",
    "import requests\n",
    "import time\n",
    "from scipy.stats import linregress\n",
    "import json\n",
    "from api_keys import weather_api_key\n",
    "\n",
    "# Import API key\n",
    "from api_keys import weather_api_key\n",
    "\n",
    "# Incorporated citipy to determine city based on latitude and longitude\n",
    "from citipy import citipy\n",
    "\n",
    "# Output File (CSV)\n",
    "output_data_file = \"output_data/cities.csv\"\n",
    "\n",
    "# Range of latitudes and longitudes\n",
    "lat_range = (-90, 90)\n",
    "lng_range = (-180, 180)"
   ]
  },
  {
   "cell_type": "markdown",
   "metadata": {},
   "source": [
    "## Generate Cities List"
   ]
  },
  {
   "cell_type": "code",
   "execution_count": 126,
   "metadata": {},
<<<<<<< HEAD
   "outputs": [],
=======
   "outputs": [
    {
     "data": {
      "text/plain": [
       "604"
      ]
     },
     "execution_count": 2,
     "metadata": {},
     "output_type": "execute_result"
    }
   ],
>>>>>>> dbe2ae6d02381024c45489e0bfccf15f8869d645
   "source": [
    "# List for holding lat_lngs and cities\n",
    "lat_lngs = []\n",
    "cities = []\n",
    "\n",
    "# Create a set of random lat and lng combinations\n",
    "lats = np.random.uniform(low=-90.000, high=90.000, size=1500)\n",
    "lngs = np.random.uniform(low=-180.000, high=180.000, size=1500)\n",
    "lat_lngs = zip(lats, lngs)\n",
    "\n",
    "# Identify nearest city for each lat, lng combination\n",
    "for lat_lng in lat_lngs:\n",
    "    city = citipy.nearest_city(lat_lng[0], lat_lng[1]).city_name\n",
    "    \n",
    "    # If the city is unique, then add it to a our cities list\n",
    "    if city not in cities:\n",
    "        cities.append(city)\n",
    "\n",
    "# Print the city count to confirm sufficient count\n",
    "len(cities)\n",
    "city_df = pd.DataFrame(cities)\n",
    "city_df.to_csv('city_df.csv')"
   ]
  },
  {
   "cell_type": "markdown",
   "metadata": {},
   "source": [
    "### Perform API Calls\n",
    "* Perform a weather check on each city using a series of successive API calls.\n",
    "* Include a print log of each city as it'sbeing processed (with the city number and city name).\n"
   ]
  },
  {
   "cell_type": "code",
<<<<<<< HEAD
   "execution_count": 127,
   "metadata": {},
   "outputs": [
    {
     "data": {
      "text/plain": [
       "'http://api.openweathermap.org/data/2.5/weather?appid=ac665d5d67248e0fde30c078622831bb&q=gorno-chuyskiy'"
      ]
     },
     "execution_count": 127,
     "metadata": {},
     "output_type": "execute_result"
=======
   "execution_count": 6,
   "metadata": {},
   "outputs": [
    {
     "ename": "ConnectionError",
     "evalue": "HTTPConnectionPool(host='api.openweathermap.org', port=80): Max retries exceeded with url: /data/2.5/weather?appid=ac665d5d67248e0fde30c078622831bb&q=hondo (Caused by NewConnectionError('<urllib3.connection.HTTPConnection object at 0x000002C3CBF3ABC8>: Failed to establish a new connection: [Errno 11001] getaddrinfo failed'))",
     "output_type": "error",
     "traceback": [
      "\u001b[1;31m---------------------------------------------------------------------------\u001b[0m",
      "\u001b[1;31mgaierror\u001b[0m                                  Traceback (most recent call last)",
      "\u001b[1;32mC:\\ProgramData\\Anaconda3\\lib\\site-packages\\urllib3\\connection.py\u001b[0m in \u001b[0;36m_new_conn\u001b[1;34m(self)\u001b[0m\n\u001b[0;32m    156\u001b[0m             conn = connection.create_connection(\n\u001b[1;32m--> 157\u001b[1;33m                 \u001b[1;33m(\u001b[0m\u001b[0mself\u001b[0m\u001b[1;33m.\u001b[0m\u001b[0m_dns_host\u001b[0m\u001b[1;33m,\u001b[0m \u001b[0mself\u001b[0m\u001b[1;33m.\u001b[0m\u001b[0mport\u001b[0m\u001b[1;33m)\u001b[0m\u001b[1;33m,\u001b[0m \u001b[0mself\u001b[0m\u001b[1;33m.\u001b[0m\u001b[0mtimeout\u001b[0m\u001b[1;33m,\u001b[0m \u001b[1;33m**\u001b[0m\u001b[0mextra_kw\u001b[0m\u001b[1;33m\u001b[0m\u001b[1;33m\u001b[0m\u001b[0m\n\u001b[0m\u001b[0;32m    158\u001b[0m             )\n",
      "\u001b[1;32mC:\\ProgramData\\Anaconda3\\lib\\site-packages\\urllib3\\util\\connection.py\u001b[0m in \u001b[0;36mcreate_connection\u001b[1;34m(address, timeout, source_address, socket_options)\u001b[0m\n\u001b[0;32m     60\u001b[0m \u001b[1;33m\u001b[0m\u001b[0m\n\u001b[1;32m---> 61\u001b[1;33m     \u001b[1;32mfor\u001b[0m \u001b[0mres\u001b[0m \u001b[1;32min\u001b[0m \u001b[0msocket\u001b[0m\u001b[1;33m.\u001b[0m\u001b[0mgetaddrinfo\u001b[0m\u001b[1;33m(\u001b[0m\u001b[0mhost\u001b[0m\u001b[1;33m,\u001b[0m \u001b[0mport\u001b[0m\u001b[1;33m,\u001b[0m \u001b[0mfamily\u001b[0m\u001b[1;33m,\u001b[0m \u001b[0msocket\u001b[0m\u001b[1;33m.\u001b[0m\u001b[0mSOCK_STREAM\u001b[0m\u001b[1;33m)\u001b[0m\u001b[1;33m:\u001b[0m\u001b[1;33m\u001b[0m\u001b[1;33m\u001b[0m\u001b[0m\n\u001b[0m\u001b[0;32m     62\u001b[0m         \u001b[0maf\u001b[0m\u001b[1;33m,\u001b[0m \u001b[0msocktype\u001b[0m\u001b[1;33m,\u001b[0m \u001b[0mproto\u001b[0m\u001b[1;33m,\u001b[0m \u001b[0mcanonname\u001b[0m\u001b[1;33m,\u001b[0m \u001b[0msa\u001b[0m \u001b[1;33m=\u001b[0m \u001b[0mres\u001b[0m\u001b[1;33m\u001b[0m\u001b[1;33m\u001b[0m\u001b[0m\n",
      "\u001b[1;32mC:\\ProgramData\\Anaconda3\\lib\\socket.py\u001b[0m in \u001b[0;36mgetaddrinfo\u001b[1;34m(host, port, family, type, proto, flags)\u001b[0m\n\u001b[0;32m    751\u001b[0m     \u001b[0maddrlist\u001b[0m \u001b[1;33m=\u001b[0m \u001b[1;33m[\u001b[0m\u001b[1;33m]\u001b[0m\u001b[1;33m\u001b[0m\u001b[1;33m\u001b[0m\u001b[0m\n\u001b[1;32m--> 752\u001b[1;33m     \u001b[1;32mfor\u001b[0m \u001b[0mres\u001b[0m \u001b[1;32min\u001b[0m \u001b[0m_socket\u001b[0m\u001b[1;33m.\u001b[0m\u001b[0mgetaddrinfo\u001b[0m\u001b[1;33m(\u001b[0m\u001b[0mhost\u001b[0m\u001b[1;33m,\u001b[0m \u001b[0mport\u001b[0m\u001b[1;33m,\u001b[0m \u001b[0mfamily\u001b[0m\u001b[1;33m,\u001b[0m \u001b[0mtype\u001b[0m\u001b[1;33m,\u001b[0m \u001b[0mproto\u001b[0m\u001b[1;33m,\u001b[0m \u001b[0mflags\u001b[0m\u001b[1;33m)\u001b[0m\u001b[1;33m:\u001b[0m\u001b[1;33m\u001b[0m\u001b[1;33m\u001b[0m\u001b[0m\n\u001b[0m\u001b[0;32m    753\u001b[0m         \u001b[0maf\u001b[0m\u001b[1;33m,\u001b[0m \u001b[0msocktype\u001b[0m\u001b[1;33m,\u001b[0m \u001b[0mproto\u001b[0m\u001b[1;33m,\u001b[0m \u001b[0mcanonname\u001b[0m\u001b[1;33m,\u001b[0m \u001b[0msa\u001b[0m \u001b[1;33m=\u001b[0m \u001b[0mres\u001b[0m\u001b[1;33m\u001b[0m\u001b[1;33m\u001b[0m\u001b[0m\n",
      "\u001b[1;31mgaierror\u001b[0m: [Errno 11001] getaddrinfo failed",
      "\nDuring handling of the above exception, another exception occurred:\n",
      "\u001b[1;31mNewConnectionError\u001b[0m                        Traceback (most recent call last)",
      "\u001b[1;32mC:\\ProgramData\\Anaconda3\\lib\\site-packages\\urllib3\\connectionpool.py\u001b[0m in \u001b[0;36murlopen\u001b[1;34m(self, method, url, body, headers, retries, redirect, assert_same_host, timeout, pool_timeout, release_conn, chunked, body_pos, **response_kw)\u001b[0m\n\u001b[0;32m    671\u001b[0m                 \u001b[0mheaders\u001b[0m\u001b[1;33m=\u001b[0m\u001b[0mheaders\u001b[0m\u001b[1;33m,\u001b[0m\u001b[1;33m\u001b[0m\u001b[1;33m\u001b[0m\u001b[0m\n\u001b[1;32m--> 672\u001b[1;33m                 \u001b[0mchunked\u001b[0m\u001b[1;33m=\u001b[0m\u001b[0mchunked\u001b[0m\u001b[1;33m,\u001b[0m\u001b[1;33m\u001b[0m\u001b[1;33m\u001b[0m\u001b[0m\n\u001b[0m\u001b[0;32m    673\u001b[0m             )\n",
      "\u001b[1;32mC:\\ProgramData\\Anaconda3\\lib\\site-packages\\urllib3\\connectionpool.py\u001b[0m in \u001b[0;36m_make_request\u001b[1;34m(self, conn, method, url, timeout, chunked, **httplib_request_kw)\u001b[0m\n\u001b[0;32m    386\u001b[0m         \u001b[1;32melse\u001b[0m\u001b[1;33m:\u001b[0m\u001b[1;33m\u001b[0m\u001b[1;33m\u001b[0m\u001b[0m\n\u001b[1;32m--> 387\u001b[1;33m             \u001b[0mconn\u001b[0m\u001b[1;33m.\u001b[0m\u001b[0mrequest\u001b[0m\u001b[1;33m(\u001b[0m\u001b[0mmethod\u001b[0m\u001b[1;33m,\u001b[0m \u001b[0murl\u001b[0m\u001b[1;33m,\u001b[0m \u001b[1;33m**\u001b[0m\u001b[0mhttplib_request_kw\u001b[0m\u001b[1;33m)\u001b[0m\u001b[1;33m\u001b[0m\u001b[1;33m\u001b[0m\u001b[0m\n\u001b[0m\u001b[0;32m    388\u001b[0m \u001b[1;33m\u001b[0m\u001b[0m\n",
      "\u001b[1;32mC:\\ProgramData\\Anaconda3\\lib\\http\\client.py\u001b[0m in \u001b[0;36mrequest\u001b[1;34m(self, method, url, body, headers, encode_chunked)\u001b[0m\n\u001b[0;32m   1251\u001b[0m         \u001b[1;34m\"\"\"Send a complete request to the server.\"\"\"\u001b[0m\u001b[1;33m\u001b[0m\u001b[1;33m\u001b[0m\u001b[0m\n\u001b[1;32m-> 1252\u001b[1;33m         \u001b[0mself\u001b[0m\u001b[1;33m.\u001b[0m\u001b[0m_send_request\u001b[0m\u001b[1;33m(\u001b[0m\u001b[0mmethod\u001b[0m\u001b[1;33m,\u001b[0m \u001b[0murl\u001b[0m\u001b[1;33m,\u001b[0m \u001b[0mbody\u001b[0m\u001b[1;33m,\u001b[0m \u001b[0mheaders\u001b[0m\u001b[1;33m,\u001b[0m \u001b[0mencode_chunked\u001b[0m\u001b[1;33m)\u001b[0m\u001b[1;33m\u001b[0m\u001b[1;33m\u001b[0m\u001b[0m\n\u001b[0m\u001b[0;32m   1253\u001b[0m \u001b[1;33m\u001b[0m\u001b[0m\n",
      "\u001b[1;32mC:\\ProgramData\\Anaconda3\\lib\\http\\client.py\u001b[0m in \u001b[0;36m_send_request\u001b[1;34m(self, method, url, body, headers, encode_chunked)\u001b[0m\n\u001b[0;32m   1297\u001b[0m             \u001b[0mbody\u001b[0m \u001b[1;33m=\u001b[0m \u001b[0m_encode\u001b[0m\u001b[1;33m(\u001b[0m\u001b[0mbody\u001b[0m\u001b[1;33m,\u001b[0m \u001b[1;34m'body'\u001b[0m\u001b[1;33m)\u001b[0m\u001b[1;33m\u001b[0m\u001b[1;33m\u001b[0m\u001b[0m\n\u001b[1;32m-> 1298\u001b[1;33m         \u001b[0mself\u001b[0m\u001b[1;33m.\u001b[0m\u001b[0mendheaders\u001b[0m\u001b[1;33m(\u001b[0m\u001b[0mbody\u001b[0m\u001b[1;33m,\u001b[0m \u001b[0mencode_chunked\u001b[0m\u001b[1;33m=\u001b[0m\u001b[0mencode_chunked\u001b[0m\u001b[1;33m)\u001b[0m\u001b[1;33m\u001b[0m\u001b[1;33m\u001b[0m\u001b[0m\n\u001b[0m\u001b[0;32m   1299\u001b[0m \u001b[1;33m\u001b[0m\u001b[0m\n",
      "\u001b[1;32mC:\\ProgramData\\Anaconda3\\lib\\http\\client.py\u001b[0m in \u001b[0;36mendheaders\u001b[1;34m(self, message_body, encode_chunked)\u001b[0m\n\u001b[0;32m   1246\u001b[0m             \u001b[1;32mraise\u001b[0m \u001b[0mCannotSendHeader\u001b[0m\u001b[1;33m(\u001b[0m\u001b[1;33m)\u001b[0m\u001b[1;33m\u001b[0m\u001b[1;33m\u001b[0m\u001b[0m\n\u001b[1;32m-> 1247\u001b[1;33m         \u001b[0mself\u001b[0m\u001b[1;33m.\u001b[0m\u001b[0m_send_output\u001b[0m\u001b[1;33m(\u001b[0m\u001b[0mmessage_body\u001b[0m\u001b[1;33m,\u001b[0m \u001b[0mencode_chunked\u001b[0m\u001b[1;33m=\u001b[0m\u001b[0mencode_chunked\u001b[0m\u001b[1;33m)\u001b[0m\u001b[1;33m\u001b[0m\u001b[1;33m\u001b[0m\u001b[0m\n\u001b[0m\u001b[0;32m   1248\u001b[0m \u001b[1;33m\u001b[0m\u001b[0m\n",
      "\u001b[1;32mC:\\ProgramData\\Anaconda3\\lib\\http\\client.py\u001b[0m in \u001b[0;36m_send_output\u001b[1;34m(self, message_body, encode_chunked)\u001b[0m\n\u001b[0;32m   1025\u001b[0m         \u001b[1;32mdel\u001b[0m \u001b[0mself\u001b[0m\u001b[1;33m.\u001b[0m\u001b[0m_buffer\u001b[0m\u001b[1;33m[\u001b[0m\u001b[1;33m:\u001b[0m\u001b[1;33m]\u001b[0m\u001b[1;33m\u001b[0m\u001b[1;33m\u001b[0m\u001b[0m\n\u001b[1;32m-> 1026\u001b[1;33m         \u001b[0mself\u001b[0m\u001b[1;33m.\u001b[0m\u001b[0msend\u001b[0m\u001b[1;33m(\u001b[0m\u001b[0mmsg\u001b[0m\u001b[1;33m)\u001b[0m\u001b[1;33m\u001b[0m\u001b[1;33m\u001b[0m\u001b[0m\n\u001b[0m\u001b[0;32m   1027\u001b[0m \u001b[1;33m\u001b[0m\u001b[0m\n",
      "\u001b[1;32mC:\\ProgramData\\Anaconda3\\lib\\http\\client.py\u001b[0m in \u001b[0;36msend\u001b[1;34m(self, data)\u001b[0m\n\u001b[0;32m    965\u001b[0m             \u001b[1;32mif\u001b[0m \u001b[0mself\u001b[0m\u001b[1;33m.\u001b[0m\u001b[0mauto_open\u001b[0m\u001b[1;33m:\u001b[0m\u001b[1;33m\u001b[0m\u001b[1;33m\u001b[0m\u001b[0m\n\u001b[1;32m--> 966\u001b[1;33m                 \u001b[0mself\u001b[0m\u001b[1;33m.\u001b[0m\u001b[0mconnect\u001b[0m\u001b[1;33m(\u001b[0m\u001b[1;33m)\u001b[0m\u001b[1;33m\u001b[0m\u001b[1;33m\u001b[0m\u001b[0m\n\u001b[0m\u001b[0;32m    967\u001b[0m             \u001b[1;32melse\u001b[0m\u001b[1;33m:\u001b[0m\u001b[1;33m\u001b[0m\u001b[1;33m\u001b[0m\u001b[0m\n",
      "\u001b[1;32mC:\\ProgramData\\Anaconda3\\lib\\site-packages\\urllib3\\connection.py\u001b[0m in \u001b[0;36mconnect\u001b[1;34m(self)\u001b[0m\n\u001b[0;32m    183\u001b[0m     \u001b[1;32mdef\u001b[0m \u001b[0mconnect\u001b[0m\u001b[1;33m(\u001b[0m\u001b[0mself\u001b[0m\u001b[1;33m)\u001b[0m\u001b[1;33m:\u001b[0m\u001b[1;33m\u001b[0m\u001b[1;33m\u001b[0m\u001b[0m\n\u001b[1;32m--> 184\u001b[1;33m         \u001b[0mconn\u001b[0m \u001b[1;33m=\u001b[0m \u001b[0mself\u001b[0m\u001b[1;33m.\u001b[0m\u001b[0m_new_conn\u001b[0m\u001b[1;33m(\u001b[0m\u001b[1;33m)\u001b[0m\u001b[1;33m\u001b[0m\u001b[1;33m\u001b[0m\u001b[0m\n\u001b[0m\u001b[0;32m    185\u001b[0m         \u001b[0mself\u001b[0m\u001b[1;33m.\u001b[0m\u001b[0m_prepare_conn\u001b[0m\u001b[1;33m(\u001b[0m\u001b[0mconn\u001b[0m\u001b[1;33m)\u001b[0m\u001b[1;33m\u001b[0m\u001b[1;33m\u001b[0m\u001b[0m\n",
      "\u001b[1;32mC:\\ProgramData\\Anaconda3\\lib\\site-packages\\urllib3\\connection.py\u001b[0m in \u001b[0;36m_new_conn\u001b[1;34m(self)\u001b[0m\n\u001b[0;32m    168\u001b[0m             raise NewConnectionError(\n\u001b[1;32m--> 169\u001b[1;33m                 \u001b[0mself\u001b[0m\u001b[1;33m,\u001b[0m \u001b[1;34m\"Failed to establish a new connection: %s\"\u001b[0m \u001b[1;33m%\u001b[0m \u001b[0me\u001b[0m\u001b[1;33m\u001b[0m\u001b[1;33m\u001b[0m\u001b[0m\n\u001b[0m\u001b[0;32m    170\u001b[0m             )\n",
      "\u001b[1;31mNewConnectionError\u001b[0m: <urllib3.connection.HTTPConnection object at 0x000002C3CBF3ABC8>: Failed to establish a new connection: [Errno 11001] getaddrinfo failed",
      "\nDuring handling of the above exception, another exception occurred:\n",
      "\u001b[1;31mMaxRetryError\u001b[0m                             Traceback (most recent call last)",
      "\u001b[1;32mC:\\ProgramData\\Anaconda3\\lib\\site-packages\\requests\\adapters.py\u001b[0m in \u001b[0;36msend\u001b[1;34m(self, request, stream, timeout, verify, cert, proxies)\u001b[0m\n\u001b[0;32m    448\u001b[0m                     \u001b[0mretries\u001b[0m\u001b[1;33m=\u001b[0m\u001b[0mself\u001b[0m\u001b[1;33m.\u001b[0m\u001b[0mmax_retries\u001b[0m\u001b[1;33m,\u001b[0m\u001b[1;33m\u001b[0m\u001b[1;33m\u001b[0m\u001b[0m\n\u001b[1;32m--> 449\u001b[1;33m                     \u001b[0mtimeout\u001b[0m\u001b[1;33m=\u001b[0m\u001b[0mtimeout\u001b[0m\u001b[1;33m\u001b[0m\u001b[1;33m\u001b[0m\u001b[0m\n\u001b[0m\u001b[0;32m    450\u001b[0m                 )\n",
      "\u001b[1;32mC:\\ProgramData\\Anaconda3\\lib\\site-packages\\urllib3\\connectionpool.py\u001b[0m in \u001b[0;36murlopen\u001b[1;34m(self, method, url, body, headers, retries, redirect, assert_same_host, timeout, pool_timeout, release_conn, chunked, body_pos, **response_kw)\u001b[0m\n\u001b[0;32m    719\u001b[0m             retries = retries.increment(\n\u001b[1;32m--> 720\u001b[1;33m                 \u001b[0mmethod\u001b[0m\u001b[1;33m,\u001b[0m \u001b[0murl\u001b[0m\u001b[1;33m,\u001b[0m \u001b[0merror\u001b[0m\u001b[1;33m=\u001b[0m\u001b[0me\u001b[0m\u001b[1;33m,\u001b[0m \u001b[0m_pool\u001b[0m\u001b[1;33m=\u001b[0m\u001b[0mself\u001b[0m\u001b[1;33m,\u001b[0m \u001b[0m_stacktrace\u001b[0m\u001b[1;33m=\u001b[0m\u001b[0msys\u001b[0m\u001b[1;33m.\u001b[0m\u001b[0mexc_info\u001b[0m\u001b[1;33m(\u001b[0m\u001b[1;33m)\u001b[0m\u001b[1;33m[\u001b[0m\u001b[1;36m2\u001b[0m\u001b[1;33m]\u001b[0m\u001b[1;33m\u001b[0m\u001b[1;33m\u001b[0m\u001b[0m\n\u001b[0m\u001b[0;32m    721\u001b[0m             )\n",
      "\u001b[1;32mC:\\ProgramData\\Anaconda3\\lib\\site-packages\\urllib3\\util\\retry.py\u001b[0m in \u001b[0;36mincrement\u001b[1;34m(self, method, url, response, error, _pool, _stacktrace)\u001b[0m\n\u001b[0;32m    435\u001b[0m         \u001b[1;32mif\u001b[0m \u001b[0mnew_retry\u001b[0m\u001b[1;33m.\u001b[0m\u001b[0mis_exhausted\u001b[0m\u001b[1;33m(\u001b[0m\u001b[1;33m)\u001b[0m\u001b[1;33m:\u001b[0m\u001b[1;33m\u001b[0m\u001b[1;33m\u001b[0m\u001b[0m\n\u001b[1;32m--> 436\u001b[1;33m             \u001b[1;32mraise\u001b[0m \u001b[0mMaxRetryError\u001b[0m\u001b[1;33m(\u001b[0m\u001b[0m_pool\u001b[0m\u001b[1;33m,\u001b[0m \u001b[0murl\u001b[0m\u001b[1;33m,\u001b[0m \u001b[0merror\u001b[0m \u001b[1;32mor\u001b[0m \u001b[0mResponseError\u001b[0m\u001b[1;33m(\u001b[0m\u001b[0mcause\u001b[0m\u001b[1;33m)\u001b[0m\u001b[1;33m)\u001b[0m\u001b[1;33m\u001b[0m\u001b[1;33m\u001b[0m\u001b[0m\n\u001b[0m\u001b[0;32m    437\u001b[0m \u001b[1;33m\u001b[0m\u001b[0m\n",
      "\u001b[1;31mMaxRetryError\u001b[0m: HTTPConnectionPool(host='api.openweathermap.org', port=80): Max retries exceeded with url: /data/2.5/weather?appid=ac665d5d67248e0fde30c078622831bb&q=hondo (Caused by NewConnectionError('<urllib3.connection.HTTPConnection object at 0x000002C3CBF3ABC8>: Failed to establish a new connection: [Errno 11001] getaddrinfo failed'))",
      "\nDuring handling of the above exception, another exception occurred:\n",
      "\u001b[1;31mConnectionError\u001b[0m                           Traceback (most recent call last)",
      "\u001b[1;32m<ipython-input-6-319a7c10db05>\u001b[0m in \u001b[0;36m<module>\u001b[1;34m\u001b[0m\n\u001b[0;32m      9\u001b[0m \u001b[0mquery_url\u001b[0m\u001b[1;33m\u001b[0m\u001b[1;33m\u001b[0m\u001b[0m\n\u001b[0;32m     10\u001b[0m \u001b[1;33m\u001b[0m\u001b[0m\n\u001b[1;32m---> 11\u001b[1;33m \u001b[0mresponse\u001b[0m \u001b[1;33m=\u001b[0m \u001b[0mrequests\u001b[0m\u001b[1;33m.\u001b[0m\u001b[0mget\u001b[0m\u001b[1;33m(\u001b[0m\u001b[0mquery_url\u001b[0m\u001b[1;33m)\u001b[0m\u001b[1;33m.\u001b[0m\u001b[0mjson\u001b[0m\u001b[1;33m(\u001b[0m\u001b[1;33m)\u001b[0m\u001b[1;33m\u001b[0m\u001b[1;33m\u001b[0m\u001b[0m\n\u001b[0m\u001b[0;32m     12\u001b[0m \u001b[0mresponse\u001b[0m\u001b[1;33m\u001b[0m\u001b[1;33m\u001b[0m\u001b[0m\n",
      "\u001b[1;32mC:\\ProgramData\\Anaconda3\\lib\\site-packages\\requests\\api.py\u001b[0m in \u001b[0;36mget\u001b[1;34m(url, params, **kwargs)\u001b[0m\n\u001b[0;32m     73\u001b[0m \u001b[1;33m\u001b[0m\u001b[0m\n\u001b[0;32m     74\u001b[0m     \u001b[0mkwargs\u001b[0m\u001b[1;33m.\u001b[0m\u001b[0msetdefault\u001b[0m\u001b[1;33m(\u001b[0m\u001b[1;34m'allow_redirects'\u001b[0m\u001b[1;33m,\u001b[0m \u001b[1;32mTrue\u001b[0m\u001b[1;33m)\u001b[0m\u001b[1;33m\u001b[0m\u001b[1;33m\u001b[0m\u001b[0m\n\u001b[1;32m---> 75\u001b[1;33m     \u001b[1;32mreturn\u001b[0m \u001b[0mrequest\u001b[0m\u001b[1;33m(\u001b[0m\u001b[1;34m'get'\u001b[0m\u001b[1;33m,\u001b[0m \u001b[0murl\u001b[0m\u001b[1;33m,\u001b[0m \u001b[0mparams\u001b[0m\u001b[1;33m=\u001b[0m\u001b[0mparams\u001b[0m\u001b[1;33m,\u001b[0m \u001b[1;33m**\u001b[0m\u001b[0mkwargs\u001b[0m\u001b[1;33m)\u001b[0m\u001b[1;33m\u001b[0m\u001b[1;33m\u001b[0m\u001b[0m\n\u001b[0m\u001b[0;32m     76\u001b[0m \u001b[1;33m\u001b[0m\u001b[0m\n\u001b[0;32m     77\u001b[0m \u001b[1;33m\u001b[0m\u001b[0m\n",
      "\u001b[1;32mC:\\ProgramData\\Anaconda3\\lib\\site-packages\\requests\\api.py\u001b[0m in \u001b[0;36mrequest\u001b[1;34m(method, url, **kwargs)\u001b[0m\n\u001b[0;32m     58\u001b[0m     \u001b[1;31m# cases, and look like a memory leak in others.\u001b[0m\u001b[1;33m\u001b[0m\u001b[1;33m\u001b[0m\u001b[1;33m\u001b[0m\u001b[0m\n\u001b[0;32m     59\u001b[0m     \u001b[1;32mwith\u001b[0m \u001b[0msessions\u001b[0m\u001b[1;33m.\u001b[0m\u001b[0mSession\u001b[0m\u001b[1;33m(\u001b[0m\u001b[1;33m)\u001b[0m \u001b[1;32mas\u001b[0m \u001b[0msession\u001b[0m\u001b[1;33m:\u001b[0m\u001b[1;33m\u001b[0m\u001b[1;33m\u001b[0m\u001b[0m\n\u001b[1;32m---> 60\u001b[1;33m         \u001b[1;32mreturn\u001b[0m \u001b[0msession\u001b[0m\u001b[1;33m.\u001b[0m\u001b[0mrequest\u001b[0m\u001b[1;33m(\u001b[0m\u001b[0mmethod\u001b[0m\u001b[1;33m=\u001b[0m\u001b[0mmethod\u001b[0m\u001b[1;33m,\u001b[0m \u001b[0murl\u001b[0m\u001b[1;33m=\u001b[0m\u001b[0murl\u001b[0m\u001b[1;33m,\u001b[0m \u001b[1;33m**\u001b[0m\u001b[0mkwargs\u001b[0m\u001b[1;33m)\u001b[0m\u001b[1;33m\u001b[0m\u001b[1;33m\u001b[0m\u001b[0m\n\u001b[0m\u001b[0;32m     61\u001b[0m \u001b[1;33m\u001b[0m\u001b[0m\n\u001b[0;32m     62\u001b[0m \u001b[1;33m\u001b[0m\u001b[0m\n",
      "\u001b[1;32mC:\\ProgramData\\Anaconda3\\lib\\site-packages\\requests\\sessions.py\u001b[0m in \u001b[0;36mrequest\u001b[1;34m(self, method, url, params, data, headers, cookies, files, auth, timeout, allow_redirects, proxies, hooks, stream, verify, cert, json)\u001b[0m\n\u001b[0;32m    531\u001b[0m         }\n\u001b[0;32m    532\u001b[0m         \u001b[0msend_kwargs\u001b[0m\u001b[1;33m.\u001b[0m\u001b[0mupdate\u001b[0m\u001b[1;33m(\u001b[0m\u001b[0msettings\u001b[0m\u001b[1;33m)\u001b[0m\u001b[1;33m\u001b[0m\u001b[1;33m\u001b[0m\u001b[0m\n\u001b[1;32m--> 533\u001b[1;33m         \u001b[0mresp\u001b[0m \u001b[1;33m=\u001b[0m \u001b[0mself\u001b[0m\u001b[1;33m.\u001b[0m\u001b[0msend\u001b[0m\u001b[1;33m(\u001b[0m\u001b[0mprep\u001b[0m\u001b[1;33m,\u001b[0m \u001b[1;33m**\u001b[0m\u001b[0msend_kwargs\u001b[0m\u001b[1;33m)\u001b[0m\u001b[1;33m\u001b[0m\u001b[1;33m\u001b[0m\u001b[0m\n\u001b[0m\u001b[0;32m    534\u001b[0m \u001b[1;33m\u001b[0m\u001b[0m\n\u001b[0;32m    535\u001b[0m         \u001b[1;32mreturn\u001b[0m \u001b[0mresp\u001b[0m\u001b[1;33m\u001b[0m\u001b[1;33m\u001b[0m\u001b[0m\n",
      "\u001b[1;32mC:\\ProgramData\\Anaconda3\\lib\\site-packages\\requests\\sessions.py\u001b[0m in \u001b[0;36msend\u001b[1;34m(self, request, **kwargs)\u001b[0m\n\u001b[0;32m    644\u001b[0m \u001b[1;33m\u001b[0m\u001b[0m\n\u001b[0;32m    645\u001b[0m         \u001b[1;31m# Send the request\u001b[0m\u001b[1;33m\u001b[0m\u001b[1;33m\u001b[0m\u001b[1;33m\u001b[0m\u001b[0m\n\u001b[1;32m--> 646\u001b[1;33m         \u001b[0mr\u001b[0m \u001b[1;33m=\u001b[0m \u001b[0madapter\u001b[0m\u001b[1;33m.\u001b[0m\u001b[0msend\u001b[0m\u001b[1;33m(\u001b[0m\u001b[0mrequest\u001b[0m\u001b[1;33m,\u001b[0m \u001b[1;33m**\u001b[0m\u001b[0mkwargs\u001b[0m\u001b[1;33m)\u001b[0m\u001b[1;33m\u001b[0m\u001b[1;33m\u001b[0m\u001b[0m\n\u001b[0m\u001b[0;32m    647\u001b[0m \u001b[1;33m\u001b[0m\u001b[0m\n\u001b[0;32m    648\u001b[0m         \u001b[1;31m# Total elapsed time of the request (approximately)\u001b[0m\u001b[1;33m\u001b[0m\u001b[1;33m\u001b[0m\u001b[1;33m\u001b[0m\u001b[0m\n",
      "\u001b[1;32mC:\\ProgramData\\Anaconda3\\lib\\site-packages\\requests\\adapters.py\u001b[0m in \u001b[0;36msend\u001b[1;34m(self, request, stream, timeout, verify, cert, proxies)\u001b[0m\n\u001b[0;32m    514\u001b[0m                 \u001b[1;32mraise\u001b[0m \u001b[0mSSLError\u001b[0m\u001b[1;33m(\u001b[0m\u001b[0me\u001b[0m\u001b[1;33m,\u001b[0m \u001b[0mrequest\u001b[0m\u001b[1;33m=\u001b[0m\u001b[0mrequest\u001b[0m\u001b[1;33m)\u001b[0m\u001b[1;33m\u001b[0m\u001b[1;33m\u001b[0m\u001b[0m\n\u001b[0;32m    515\u001b[0m \u001b[1;33m\u001b[0m\u001b[0m\n\u001b[1;32m--> 516\u001b[1;33m             \u001b[1;32mraise\u001b[0m \u001b[0mConnectionError\u001b[0m\u001b[1;33m(\u001b[0m\u001b[0me\u001b[0m\u001b[1;33m,\u001b[0m \u001b[0mrequest\u001b[0m\u001b[1;33m=\u001b[0m\u001b[0mrequest\u001b[0m\u001b[1;33m)\u001b[0m\u001b[1;33m\u001b[0m\u001b[1;33m\u001b[0m\u001b[0m\n\u001b[0m\u001b[0;32m    517\u001b[0m \u001b[1;33m\u001b[0m\u001b[0m\n\u001b[0;32m    518\u001b[0m         \u001b[1;32mexcept\u001b[0m \u001b[0mClosedPoolError\u001b[0m \u001b[1;32mas\u001b[0m \u001b[0me\u001b[0m\u001b[1;33m:\u001b[0m\u001b[1;33m\u001b[0m\u001b[1;33m\u001b[0m\u001b[0m\n",
      "\u001b[1;31mConnectionError\u001b[0m: HTTPConnectionPool(host='api.openweathermap.org', port=80): Max retries exceeded with url: /data/2.5/weather?appid=ac665d5d67248e0fde30c078622831bb&q=hondo (Caused by NewConnectionError('<urllib3.connection.HTTPConnection object at 0x000002C3CBF3ABC8>: Failed to establish a new connection: [Errno 11001] getaddrinfo failed'))"
     ]
>>>>>>> dbe2ae6d02381024c45489e0bfccf15f8869d645
    }
   ],
   "source": [
    "# Build URL\n",
    "url = \"http://api.openweathermap.org/data/2.5/weather?\"\n",
<<<<<<< HEAD
    "city = \"gorno-chuyskiy\"\n",
    "query_url = url + \"appid=\" + weather_api_key + \"&q=\" + city\n",
    "query2_url = url + \"appid=\" + weather_api_key + \"&q=\"\n",
    "\n",
    "#Get weather data\n",
    "weather_response = requests.get(query_url)\n",
    "weather_json = weather_response.json()\n",
    "query_url\n",
    "#weather_json"
=======
    "citi = \"hondo\"\n",
    "query_url = url + \"appid=\" + weather_api_key + \"&q=\" + citi\n",
    "\n",
    "#Get weather data\n",
    "#weather_response = requests.get(query_url)\n",
    "#weather_json = weather_response.json()\n",
    "query_url\n",
    "\n",
    "response = requests.get(query_url).json()\n",
    "response"
>>>>>>> dbe2ae6d02381024c45489e0bfccf15f8869d645
   ]
  },
  {
   "cell_type": "code",
<<<<<<< HEAD
   "execution_count": 128,
   "metadata": {},
   "outputs": [],
   "source": [
    "#Create lists to hold data from response\n",
    "citi_name =[]\n",
    "citi_clouds=[]\n",
    "citi_country=[]\n",
    "citi_date=[]\n",
    "citi_humidity=[]\n",
    "citi_lat=[]\n",
    "citi_lng=[]\n",
    "citi_temp=[]\n",
    "citi_wind=[]\n"
=======
   "execution_count": 4,
   "metadata": {},
   "outputs": [],
   "source": [
    "# Create lists to store response.\n",
    "\n",
    "City=[]\n",
    "Cloudiness=[]\n",
    "Country=[]\n",
    "Date=[]\n",
    "Humidity=[]\n",
    "Lat=[]\n",
    "Lng=[]\n",
    "MaxTemp=[]\n",
    "Wind_Speed=[]\n",
    "\n",
    "# Create dictionary for dataframe\n",
    "city_dict ={\n",
    "    \"City\": City,\n",
    "    \"Cloudiness\": Cloudiness,\n",
    "    \"Country\": Country,\n",
    "    \"Date\": Date,\n",
    "    \"Humidity\": Humidity,\n",
    "    \"Lat\": Lat,\n",
    "    \"Lng\": Lng,\n",
    "    \"Max Temp\": MaxTemp,\n",
    "    \"Wind Speed\": Wind_Speed,\n",
    "}"
>>>>>>> dbe2ae6d02381024c45489e0bfccf15f8869d645
   ]
  },
  {
   "cell_type": "code",
<<<<<<< HEAD
   "execution_count": 129,
   "metadata": {},
   "outputs": [
    {
     "name": "stdout",
     "output_type": "stream",
     "text": [
      "Beginning Data Retrieval\n",
      "------------------------------------\n",
      "Processing Record 1 | erzin\n",
      "Processing Record 2 | mbekenyera\n",
      "Processing Record 3 | busselton\n",
      "Processing Record 4 | thompson\n",
      "Processing Record 5 | road town\n",
      "Processing Record 6 | mar del plata\n",
      "Processing Record 7 | dikson\n",
      "illoqqortoormiut not found. Skipping...\n",
      "Processing Record 8 | iranshahr\n",
      "Processing Record 9 | yellowknife\n",
      "Processing Record 10 | ushuaia\n",
      "Processing Record 11 | ouidah\n",
      "Processing Record 12 | mataura\n",
      "Processing Record 13 | hobart\n",
      "barentsburg not found. Skipping...\n",
      "Processing Record 14 | punta arenas\n",
      "Processing Record 15 | iqaluit\n",
      "Processing Record 16 | desbiens\n",
      "Processing Record 17 | laje\n",
      "Processing Record 18 | snasa\n",
      "Processing Record 19 | zachepylivka\n",
      "Processing Record 20 | porto novo\n",
      "Processing Record 21 | rosita\n",
      "Processing Record 22 | muros\n",
      "Processing Record 23 | fortuna\n",
      "Processing Record 24 | mahebourg\n",
      "Processing Record 25 | east london\n",
      "Processing Record 26 | khatanga\n",
      "Processing Record 27 | rikitea\n",
      "Processing Record 28 | avarua\n",
      "Processing Record 29 | usolye-sibirskoye\n",
      "Processing Record 30 | kachug\n",
      "Processing Record 31 | codrington\n",
      "Processing Record 32 | semnan\n",
      "Processing Record 33 | bethel\n",
      "Processing Record 34 | pisco\n",
      "Processing Record 35 | rio gallegos\n",
      "Processing Record 36 | georgetown\n",
      "Processing Record 37 | hithadhoo\n",
      "Processing Record 38 | kaitangata\n",
      "Processing Record 39 | barrow\n",
      "Processing Record 40 | delmas\n",
      "Processing Record 41 | victoria point\n",
      "nam tha not found. Skipping...\n",
      "Processing Record 42 | verkh-usugli\n",
      "karaul not found. Skipping...\n",
      "Processing Record 43 | san quintin\n",
      "nizhneyansk not found. Skipping...\n",
      "Processing Record 44 | albany\n",
      "Processing Record 45 | alofi\n",
      "Processing Record 46 | longyearbyen\n",
      "Processing Record 47 | san patricio\n",
      "Processing Record 48 | williamsport\n",
      "Processing Record 49 | dole\n",
      "Processing Record 50 | hilo\n",
      "taolanaro not found. Skipping...\n",
      "Processing Record 51 | jamestown\n",
      "Processing Record 52 | makakilo city\n",
      "Processing Record 53 | bagdarin\n",
      "Processing Record 54 | nanortalik\n",
      "Processing Record 55 | batagay\n",
      "Processing Record 56 | sakakah\n",
      "Processing Record 57 | saint anthony\n",
      "Processing Record 58 | port elizabeth\n",
      "Processing Record 59 | hambantota\n",
      "Processing Record 60 | san andres\n",
      "Processing Record 61 | wasilla\n",
      "Processing Record 62 | kapaa\n",
      "Processing Record 63 | qaanaaq\n",
      "Processing Record 64 | esperance\n",
      "Processing Record 65 | lompoc\n",
      "Processing Record 66 | sabha\n",
      "Processing Record 67 | karasjok\n",
      "Processing Record 68 | mvuma\n",
      "Processing Record 69 | carnarvon\n",
      "Processing Record 70 | reutlingen\n",
      "Processing Record 71 | torbay\n",
      "Processing Record 72 | katsuura\n",
      "Processing Record 73 | phuket\n",
      "Processing Record 74 | royken\n",
      "Processing Record 75 | upernavik\n",
      "Processing Record 76 | tabou\n",
      "halalo not found. Skipping...\n",
      "Processing Record 77 | dunedin\n",
      "Processing Record 78 | magistralnyy\n",
      "Processing Record 79 | shache\n",
      "Processing Record 80 | raga\n",
      "Processing Record 81 | butaritari\n",
      "Processing Record 82 | bikaner\n",
      "Processing Record 83 | lata\n",
      "Processing Record 84 | kodiak\n",
      "Processing Record 85 | tiksi\n",
      "Processing Record 86 | bonfim\n",
      "Processing Record 87 | yumen\n",
      "Processing Record 88 | castro\n",
      "Processing Record 89 | airai\n",
      "Processing Record 90 | port lincoln\n",
      "Processing Record 91 | gimli\n",
      "Processing Record 92 | chernyshevskiy\n",
      "Processing Record 93 | masunga\n",
      "Processing Record 94 | goulburn\n",
      "Processing Record 95 | lincoln\n",
      "Processing Record 96 | bengkulu\n",
      "Processing Record 97 | port alfred\n",
      "Processing Record 98 | wagga wagga\n",
      "Processing Record 99 | berlevag\n",
      "Processing Record 100 | zyryanka\n",
      "Processing Record 101 | bluff\n",
      "Processing Record 102 | shahrud\n",
      "Processing Record 103 | yar-sale\n",
      "Processing Record 104 | bambous virieux\n",
      "Processing Record 105 | jesus del monte\n",
      "vaitupu not found. Skipping...\n",
      "Processing Record 106 | palaikastron\n",
      "Processing Record 107 | vakhrushevo\n",
      "Processing Record 108 | sechura\n",
      "Processing Record 109 | tilichiki\n",
      "Processing Record 110 | namibe\n",
      "Processing Record 111 | puerto ayora\n",
      "Processing Record 112 | lebu\n",
      "Processing Record 113 | tuktoyaktuk\n",
      "Processing Record 114 | cherskiy\n",
      "Processing Record 115 | chimbote\n",
      "Processing Record 116 | bredasdorp\n",
      "Processing Record 117 | acapulco\n",
      "Processing Record 118 | lagos\n",
      "Processing Record 119 | nikolskoye\n",
      "Processing Record 120 | mandurah\n",
      "Processing Record 121 | corinto\n",
      "umzimvubu not found. Skipping...\n",
      "Processing Record 122 | banda aceh\n",
      "Processing Record 123 | amahai\n",
      "Processing Record 124 | svetlyy\n",
      "Processing Record 125 | provideniya\n",
      "Processing Record 126 | constitucion\n",
      "Processing Record 127 | atuona\n",
      "Processing Record 128 | anadyr\n",
      "Processing Record 129 | hasaki\n",
      "Processing Record 130 | prince rupert\n",
      "Processing Record 131 | saint-philippe\n",
      "Processing Record 132 | vardo\n",
      "Processing Record 133 | arraial do cabo\n",
      "Processing Record 134 | pringsewu\n",
      "grand river south east not found. Skipping...\n",
      "Processing Record 135 | luocheng\n",
      "Processing Record 136 | trelew\n",
      "Processing Record 137 | salvador\n",
      "Processing Record 138 | steamboat springs\n",
      "Processing Record 139 | barabai\n",
      "Processing Record 140 | tarko-sale\n",
      "Processing Record 141 | ambilobe\n",
      "Processing Record 142 | kysyl-syr\n",
      "Processing Record 143 | new norfolk\n",
      "Processing Record 144 | margate\n",
      "Processing Record 145 | havre-saint-pierre\n",
      "Processing Record 146 | auchi\n",
      "Processing Record 147 | tosagua\n",
      "Processing Record 148 | luanda\n",
      "Processing Record 149 | castiglione delle stiviere\n",
      "Processing Record 150 | pochutla\n",
      "Processing Record 151 | chumikan\n",
      "Processing Record 152 | lake havasu city\n",
      "Processing Record 153 | sabang\n",
      "lolua not found. Skipping...\n",
      "Processing Record 154 | vaini\n",
      "Processing Record 155 | mehamn\n",
      "Processing Record 156 | alekseyevka\n",
      "belushya guba not found. Skipping...\n",
      "Processing Record 157 | norman wells\n",
      "Processing Record 158 | peterhead\n",
      "Processing Record 159 | nioro\n",
      "Processing Record 160 | kruisfontein\n",
      "Processing Record 161 | erdenet\n",
      "Processing Record 162 | los llanos de aridane\n",
      "Processing Record 163 | launceston\n",
      "Processing Record 164 | henties bay\n",
      "Processing Record 165 | barmer\n",
      "Processing Record 166 | guerrero negro\n",
      "Processing Record 167 | mission\n",
      "Processing Record 168 | tura\n",
      "Processing Record 169 | ahipara\n",
      "Processing Record 170 | fairfield\n",
      "Processing Record 171 | sioux lookout\n",
      "Processing Record 172 | chuy\n",
      "Processing Record 173 | lasa\n",
      "amderma not found. Skipping...\n",
      "Processing Record 174 | te anau\n",
      "jiroft not found. Skipping...\n",
      "Processing Record 175 | mersing\n",
      "Processing Record 176 | susanville\n",
      "Processing Record 177 | orocue\n",
      "Processing Record 178 | porto murtinho\n",
      "Processing Record 179 | ribeira grande\n",
      "Processing Record 180 | ixtapa\n",
      "Processing Record 181 | westport\n",
      "Processing Record 182 | gerardmer\n",
      "Processing Record 183 | ponta do sol\n",
      "Processing Record 184 | thap than\n",
      "Processing Record 185 | husavik\n",
      "Processing Record 186 | kerrville\n",
      "samusu not found. Skipping...\n",
      "Processing Record 187 | tevaitoa\n",
      "Processing Record 188 | ust-kulom\n",
      "Processing Record 189 | buarcos\n",
      "Processing Record 190 | alice springs\n",
      "Processing Record 191 | tual\n",
      "Processing Record 192 | hamilton\n",
      "mys shmidta not found. Skipping...\n",
      "marcona not found. Skipping...\n",
      "Processing Record 193 | pouebo\n",
      "Processing Record 194 | melfi\n",
      "tanshui not found. Skipping...\n",
      "Processing Record 195 | kita\n",
      "Processing Record 196 | pavlogradka\n",
      "Processing Record 197 | broome\n",
      "Processing Record 198 | karratha\n",
      "Processing Record 199 | hirara\n",
      "artyk not found. Skipping...\n",
      "Processing Record 200 | ntcheu\n",
      "Processing Record 201 | jieshi\n",
      "Processing Record 202 | leningradskiy\n",
      "Processing Record 203 | hermanus\n",
      "Processing Record 204 | sao filipe\n",
      "Processing Record 205 | rongcheng\n",
      "Processing Record 206 | kenai\n",
      "Processing Record 207 | buala\n",
      "Processing Record 208 | rabo de peixe\n",
      "Processing Record 209 | bonthe\n",
      "Processing Record 210 | petropavlovsk-kamchatskiy\n",
      "attawapiskat not found. Skipping...\n",
      "tsihombe not found. Skipping...\n",
      "Processing Record 211 | lagoa\n",
      "Processing Record 212 | sorland\n",
      "Processing Record 213 | alvorada\n",
      "Processing Record 214 | samfya\n",
      "Processing Record 215 | singleton\n",
      "Processing Record 216 | lavrentiya\n",
      "Processing Record 217 | matagami\n",
      "Processing Record 218 | geraldton\n",
      "Processing Record 219 | ambikapur\n",
      "Processing Record 220 | poum\n",
      "Processing Record 221 | roma\n",
      "Processing Record 222 | emba\n",
      "Processing Record 223 | nagato\n",
      "Processing Record 224 | semirom\n",
      "Processing Record 225 | yeppoon\n",
      "Processing Record 226 | belmonte\n"
     ]
    },
    {
     "name": "stdout",
     "output_type": "stream",
     "text": [
      "Processing Record 227 | hauterive\n",
      "Processing Record 228 | saint-augustin\n",
      "Processing Record 229 | half moon bay\n",
      "Processing Record 230 | neuquen\n",
      "Processing Record 231 | rimbey\n",
      "Processing Record 232 | cap malheureux\n",
      "Processing Record 233 | port hedland\n",
      "Processing Record 234 | taoudenni\n",
      "Processing Record 235 | touros\n",
      "palabuhanratu not found. Skipping...\n",
      "Processing Record 236 | meulaboh\n",
      "Processing Record 237 | sawakin\n",
      "Processing Record 238 | atasu\n",
      "Processing Record 239 | cape town\n",
      "Processing Record 240 | powell river\n",
      "Processing Record 241 | bubaque\n",
      "Processing Record 242 | chokurdakh\n",
      "Processing Record 243 | victoria\n",
      "Processing Record 244 | axim\n",
      "Processing Record 245 | college\n",
      "Processing Record 246 | talnakh\n",
      "Processing Record 247 | alcaniz\n",
      "Processing Record 248 | bichura\n",
      "Processing Record 249 | korce\n",
      "Processing Record 250 | berbera\n",
      "katha not found. Skipping...\n",
      "Processing Record 251 | krasnodon\n",
      "sentyabrskiy not found. Skipping...\n",
      "Processing Record 252 | wellington\n",
      "Processing Record 253 | kamaishi\n",
      "Processing Record 254 | oranjestad\n",
      "Processing Record 255 | livramento\n",
      "Processing Record 256 | port-gentil\n",
      "Processing Record 257 | san pedro\n",
      "Processing Record 258 | souillac\n",
      "Processing Record 259 | marabba\n",
      "Processing Record 260 | vila velha\n",
      "Processing Record 261 | menongue\n",
      "Processing Record 262 | ginir\n",
      "Processing Record 263 | lensk\n",
      "Processing Record 264 | mikuni\n",
      "Processing Record 265 | ancud\n",
      "Processing Record 266 | thunder bay\n",
      "Processing Record 267 | puerto leguizamo\n",
      "Processing Record 268 | san pablo\n",
      "Processing Record 269 | korem\n",
      "Processing Record 270 | ishigaki\n",
      "Processing Record 271 | cidreira\n",
      "Processing Record 272 | presidencia roque saenz pena\n",
      "Processing Record 273 | lahaina\n",
      "Processing Record 274 | puerto escondido\n",
      "Processing Record 275 | villaviciosa\n",
      "Processing Record 276 | ngerengere\n",
      "Processing Record 277 | cabo san lucas\n",
      "Processing Record 278 | sattahip\n",
      "Processing Record 279 | salalah\n",
      "Processing Record 280 | ola\n",
      "Processing Record 281 | maniitsoq\n",
      "Processing Record 282 | daye\n",
      "Processing Record 283 | chapais\n",
      "Processing Record 284 | thinadhoo\n",
      "Processing Record 285 | senneterre\n",
      "Processing Record 286 | mahbubnagar\n",
      "Processing Record 287 | luderitz\n",
      "Processing Record 288 | salisbury\n",
      "Processing Record 289 | isangel\n",
      "Processing Record 290 | limon\n",
      "Processing Record 291 | faya\n",
      "Processing Record 292 | nemuro\n",
      "Processing Record 293 | acajutla\n",
      "mendahara not found. Skipping...\n",
      "Processing Record 294 | ostersund\n",
      "Processing Record 295 | aksu\n",
      "saleaula not found. Skipping...\n",
      "Processing Record 296 | buriti\n",
      "Processing Record 297 | sur\n",
      "Processing Record 298 | komsomolskiy\n",
      "Processing Record 299 | shenzhen\n",
      "Processing Record 300 | djenne\n",
      "Processing Record 301 | severo-kurilsk\n",
      "Processing Record 302 | tayu\n",
      "Processing Record 303 | enterprise\n",
      "Processing Record 304 | kloulklubed\n",
      "Processing Record 305 | korla\n",
      "Processing Record 306 | la democracia\n",
      "Processing Record 307 | olinda\n",
      "Processing Record 308 | kurilsk\n",
      "Processing Record 309 | vallenar\n",
      "Processing Record 310 | balabac\n",
      "Processing Record 311 | kutahya\n",
      "tumannyy not found. Skipping...\n",
      "Processing Record 312 | maragogi\n",
      "Processing Record 313 | mamakan\n",
      "Processing Record 314 | wajima\n",
      "Processing Record 315 | kieta\n",
      "Processing Record 316 | hanyang\n",
      "Processing Record 317 | praia da vitoria\n",
      "Processing Record 318 | tartagal\n",
      "Processing Record 319 | lumphat\n",
      "Processing Record 320 | manicore\n",
      "Processing Record 321 | avera\n",
      "Processing Record 322 | aigle\n",
      "Processing Record 323 | sitapur\n",
      "Processing Record 324 | sibu\n",
      "Processing Record 325 | bandarbeyla\n",
      "Processing Record 326 | marovoay\n",
      "Processing Record 327 | sitka\n",
      "Processing Record 328 | nurota\n",
      "Processing Record 329 | kokopo\n",
      "Processing Record 330 | fairbanks\n",
      "Processing Record 331 | manta\n",
      "Processing Record 332 | tasiilaq\n",
      "Processing Record 333 | qujing\n",
      "Processing Record 334 | kuusamo\n",
      "Processing Record 335 | vila do maio\n",
      "Processing Record 336 | aksarka\n",
      "Processing Record 337 | naze\n",
      "sedelnikovo not found. Skipping...\n",
      "Processing Record 338 | clyde river\n",
      "Processing Record 339 | kindu\n",
      "Processing Record 340 | adeje\n",
      "Processing Record 341 | revuca\n",
      "Processing Record 342 | deputatskiy\n",
      "Processing Record 343 | lorengau\n",
      "Processing Record 344 | pecos\n",
      "Processing Record 345 | novokizhinginsk\n",
      "Processing Record 346 | golynki\n",
      "Processing Record 347 | waipawa\n",
      "Processing Record 348 | takoradi\n",
      "Processing Record 349 | iberia\n",
      "Processing Record 350 | ngunguru\n",
      "Processing Record 351 | berdigestyakh\n",
      "Processing Record 352 | toora-khem\n",
      "Processing Record 353 | thaba-tseka\n",
      "Processing Record 354 | kavieng\n",
      "Processing Record 355 | salinopolis\n",
      "Processing Record 356 | kawalu\n",
      "Processing Record 357 | minot\n",
      "Processing Record 358 | pierre\n",
      "Processing Record 359 | chara\n",
      "Processing Record 360 | yarada\n",
      "Processing Record 361 | murmansk\n",
      "Processing Record 362 | tamworth\n",
      "Processing Record 363 | freeport\n",
      "Processing Record 364 | ulaangom\n",
      "Processing Record 365 | laguna\n",
      "Processing Record 366 | high level\n",
      "Processing Record 367 | elizabethtown\n",
      "Processing Record 368 | mackenzie\n",
      "Processing Record 369 | la ronge\n",
      "Processing Record 370 | port hardy\n",
      "Processing Record 371 | qandala\n",
      "Processing Record 372 | buffalo\n",
      "Processing Record 373 | ginda\n",
      "Processing Record 374 | pacasmayo\n",
      "Processing Record 375 | ulladulla\n",
      "Processing Record 376 | ruidoso\n",
      "Processing Record 377 | flinders\n",
      "Processing Record 378 | nizhniy tsasuchey\n",
      "Processing Record 379 | saint-denis\n",
      "Processing Record 380 | khipro\n",
      "ayer itam not found. Skipping...\n",
      "uralskiy not found. Skipping...\n",
      "okandja not found. Skipping...\n",
      "Processing Record 381 | sistranda\n",
      "Processing Record 382 | asau\n",
      "Processing Record 383 | sucre\n",
      "Processing Record 384 | montijo\n",
      "Processing Record 385 | shingu\n",
      "Processing Record 386 | shangrao\n",
      "Processing Record 387 | tuatapere\n",
      "Processing Record 388 | huarmey\n",
      "Processing Record 389 | mago\n",
      "Processing Record 390 | roald\n",
      "Processing Record 391 | san cristobal\n",
      "Processing Record 392 | honiara\n",
      "Processing Record 393 | acarau\n",
      "Processing Record 394 | yulara\n",
      "Processing Record 395 | stokmarknes\n",
      "Processing Record 396 | ilulissat\n",
      "Processing Record 397 | oshikango\n",
      "mullaitivu not found. Skipping...\n",
      "Processing Record 398 | saint-pierre\n",
      "Processing Record 399 | kuala terengganu\n",
      "Processing Record 400 | marsh harbour\n",
      "Processing Record 401 | tessalit\n",
      "Processing Record 402 | ukiah\n",
      "Processing Record 403 | minsk\n",
      "Processing Record 404 | pevek\n",
      "Processing Record 405 | caravelas\n",
      "Processing Record 406 | xai-xai\n",
      "Processing Record 407 | la rioja\n",
      "Processing Record 408 | bartoszyce\n",
      "Processing Record 409 | jumla\n",
      "Processing Record 410 | vanimo\n",
      "Processing Record 411 | saskylakh\n",
      "Processing Record 412 | madikeri\n",
      "Processing Record 413 | bethlehem\n",
      "Processing Record 414 | gazli\n",
      "Processing Record 415 | riyadh\n",
      "Processing Record 416 | flin flon\n",
      "Processing Record 417 | metro\n",
      "Processing Record 418 | sun valley\n",
      "Processing Record 419 | oga\n",
      "Processing Record 420 | harper\n",
      "Processing Record 421 | darhan\n",
      "Processing Record 422 | grand gaube\n",
      "Processing Record 423 | grao mogol\n",
      "Processing Record 424 | palmer\n",
      "Processing Record 425 | cap-aux-meules\n",
      "Processing Record 426 | bozhou\n",
      "Processing Record 427 | plettenberg bay\n",
      "Processing Record 428 | monte alto\n",
      "Processing Record 429 | mackay\n",
      "Processing Record 430 | wattegama\n",
      "Processing Record 431 | verkhnevilyuysk\n",
      "Processing Record 432 | qasigiannguit\n",
      "Processing Record 433 | saint-francois\n",
      "Processing Record 434 | dukat\n",
      "Processing Record 435 | birao\n",
      "Processing Record 436 | ballina\n",
      "Processing Record 437 | guacimo\n",
      "Processing Record 438 | pabrade\n",
      "Processing Record 439 | xining\n",
      "Processing Record 440 | lakhnadon\n",
      "Processing Record 441 | pagudpud\n",
      "Processing Record 442 | rocha\n",
      "Processing Record 443 | nouakchott\n",
      "ardistan not found. Skipping...\n",
      "Processing Record 444 | hualmay\n",
      "Processing Record 445 | cavalcante\n",
      "Processing Record 446 | moron\n",
      "Processing Record 447 | qaqortoq\n",
      "Processing Record 448 | paithan\n",
      "Processing Record 449 | namatanai\n",
      "Processing Record 450 | amarante do maranhao\n",
      "Processing Record 451 | gubkinskiy\n",
      "Processing Record 452 | pangnirtung\n",
      "Processing Record 453 | mechanicsville\n",
      "Processing Record 454 | dalmatovo\n",
      "Processing Record 455 | saldanha\n",
      "Processing Record 456 | tucumcari\n",
      "katsiveli not found. Skipping...\n",
      "Processing Record 457 | ponta delgada\n",
      "Processing Record 458 | novyy urgal\n",
      "Processing Record 459 | lima\n",
      "Processing Record 460 | mantua\n"
     ]
    },
    {
     "name": "stdout",
     "output_type": "stream",
     "text": [
      "Processing Record 461 | ambon\n",
      "Processing Record 462 | pudozh\n",
      "Processing Record 463 | whitehorse\n",
      "Processing Record 464 | ostrovnoy\n",
      "Processing Record 465 | katastarion\n",
      "Processing Record 466 | valparaiso\n",
      "Processing Record 467 | bambanglipuro\n",
      "Processing Record 468 | jinji\n",
      "Processing Record 469 | stornoway\n",
      "Processing Record 470 | gedo\n",
      "Processing Record 471 | maceio\n",
      "Processing Record 472 | seoul\n",
      "Processing Record 473 | xiamen\n",
      "Processing Record 474 | the valley\n",
      "Processing Record 475 | buraydah\n",
      "Processing Record 476 | samarai\n",
      "Processing Record 477 | micheweni\n",
      "Processing Record 478 | kununurra\n",
      "Processing Record 479 | miraflores\n",
      "Processing Record 480 | tecoanapa\n",
      "devyatka not found. Skipping...\n",
      "Processing Record 481 | bidor\n",
      "Processing Record 482 | omboue\n",
      "Processing Record 483 | makueni\n",
      "Processing Record 484 | dongying\n",
      "Processing Record 485 | masvingo\n",
      "Processing Record 486 | walkerburn\n",
      "Processing Record 487 | faanui\n",
      "Processing Record 488 | ati\n",
      "Processing Record 489 | bull savanna\n",
      "Processing Record 490 | zhatay\n",
      "Processing Record 491 | kroya\n",
      "Processing Record 492 | oudtshoorn\n",
      "Processing Record 493 | vila franca do campo\n",
      "Processing Record 494 | mujiayingzi\n",
      "Processing Record 495 | bastia\n",
      "Processing Record 496 | dongsheng\n",
      "Processing Record 497 | byron bay\n",
      "Processing Record 498 | sanmenxia\n",
      "Processing Record 499 | cabedelo\n",
      "Processing Record 500 | ozuluama\n",
      "Processing Record 501 | gizo\n",
      "Processing Record 502 | beringovskiy\n",
      "Processing Record 503 | ayan\n",
      "Processing Record 504 | nabire\n",
      "Processing Record 505 | mugumu\n",
      "Processing Record 506 | padang\n",
      "Processing Record 507 | balikpapan\n",
      "Processing Record 508 | gazojak\n",
      "Processing Record 509 | molteno\n",
      "tawkar not found. Skipping...\n",
      "Processing Record 510 | kyaikto\n",
      "Processing Record 511 | achit\n",
      "Processing Record 512 | yaan\n",
      "Processing Record 513 | kerrobert\n",
      "Processing Record 514 | mukono\n",
      "Processing Record 515 | puerto del rosario\n",
      "Processing Record 516 | umba\n",
      "Processing Record 517 | bograd\n",
      "Processing Record 518 | beitbridge\n",
      "Processing Record 519 | bereda\n",
      "Processing Record 520 | bam\n",
      "Processing Record 521 | sao jose da coroa grande\n",
      "ye not found. Skipping...\n",
      "Processing Record 522 | segou\n",
      "Processing Record 523 | ilebo\n",
      "Processing Record 524 | shubarkuduk\n",
      "Processing Record 525 | san lawrenz\n",
      "Processing Record 526 | safaga\n",
      "Processing Record 527 | san policarpo\n",
      "Processing Record 528 | khani\n",
      "Processing Record 529 | kisangani\n",
      "Processing Record 530 | mayo\n",
      "Processing Record 531 | adrar\n",
      "Processing Record 532 | muskegon\n",
      "Processing Record 533 | albrechtice\n",
      "Processing Record 534 | taitung\n",
      "Processing Record 535 | brae\n",
      "Processing Record 536 | quzhou\n",
      "Processing Record 537 | chuncheng\n",
      "Processing Record 538 | pacific grove\n",
      "Processing Record 539 | cove\n",
      "Processing Record 540 | hervey bay\n",
      "Processing Record 541 | cedar city\n",
      "Processing Record 542 | santa maria\n",
      "Processing Record 543 | labuhan\n",
      "Processing Record 544 | sinnamary\n",
      "Processing Record 545 | taltal\n",
      "Processing Record 546 | basco\n",
      "Processing Record 547 | jawhar\n",
      "Processing Record 548 | irbeyskoye\n",
      "Processing Record 549 | narsaq\n",
      "Processing Record 550 | cayambe\n",
      "Processing Record 551 | pimentel\n",
      "Processing Record 552 | nome\n"
=======
   "execution_count": 5,
   "metadata": {},
   "outputs": [
    {
     "ename": "ConnectionError",
     "evalue": "HTTPConnectionPool(host='api.openweathermap.org', port=80): Max retries exceeded with url: /data/2.5/weather?appid=ac665d5d67248e0fde30c078622831bb&q=hondo (Caused by NewConnectionError('<urllib3.connection.HTTPConnection object at 0x000002C3CBDBE048>: Failed to establish a new connection: [Errno 11001] getaddrinfo failed'))",
     "output_type": "error",
     "traceback": [
      "\u001b[1;31m---------------------------------------------------------------------------\u001b[0m",
      "\u001b[1;31mgaierror\u001b[0m                                  Traceback (most recent call last)",
      "\u001b[1;32mC:\\ProgramData\\Anaconda3\\lib\\site-packages\\urllib3\\connection.py\u001b[0m in \u001b[0;36m_new_conn\u001b[1;34m(self)\u001b[0m\n\u001b[0;32m    156\u001b[0m             conn = connection.create_connection(\n\u001b[1;32m--> 157\u001b[1;33m                 \u001b[1;33m(\u001b[0m\u001b[0mself\u001b[0m\u001b[1;33m.\u001b[0m\u001b[0m_dns_host\u001b[0m\u001b[1;33m,\u001b[0m \u001b[0mself\u001b[0m\u001b[1;33m.\u001b[0m\u001b[0mport\u001b[0m\u001b[1;33m)\u001b[0m\u001b[1;33m,\u001b[0m \u001b[0mself\u001b[0m\u001b[1;33m.\u001b[0m\u001b[0mtimeout\u001b[0m\u001b[1;33m,\u001b[0m \u001b[1;33m**\u001b[0m\u001b[0mextra_kw\u001b[0m\u001b[1;33m\u001b[0m\u001b[1;33m\u001b[0m\u001b[0m\n\u001b[0m\u001b[0;32m    158\u001b[0m             )\n",
      "\u001b[1;32mC:\\ProgramData\\Anaconda3\\lib\\site-packages\\urllib3\\util\\connection.py\u001b[0m in \u001b[0;36mcreate_connection\u001b[1;34m(address, timeout, source_address, socket_options)\u001b[0m\n\u001b[0;32m     60\u001b[0m \u001b[1;33m\u001b[0m\u001b[0m\n\u001b[1;32m---> 61\u001b[1;33m     \u001b[1;32mfor\u001b[0m \u001b[0mres\u001b[0m \u001b[1;32min\u001b[0m \u001b[0msocket\u001b[0m\u001b[1;33m.\u001b[0m\u001b[0mgetaddrinfo\u001b[0m\u001b[1;33m(\u001b[0m\u001b[0mhost\u001b[0m\u001b[1;33m,\u001b[0m \u001b[0mport\u001b[0m\u001b[1;33m,\u001b[0m \u001b[0mfamily\u001b[0m\u001b[1;33m,\u001b[0m \u001b[0msocket\u001b[0m\u001b[1;33m.\u001b[0m\u001b[0mSOCK_STREAM\u001b[0m\u001b[1;33m)\u001b[0m\u001b[1;33m:\u001b[0m\u001b[1;33m\u001b[0m\u001b[1;33m\u001b[0m\u001b[0m\n\u001b[0m\u001b[0;32m     62\u001b[0m         \u001b[0maf\u001b[0m\u001b[1;33m,\u001b[0m \u001b[0msocktype\u001b[0m\u001b[1;33m,\u001b[0m \u001b[0mproto\u001b[0m\u001b[1;33m,\u001b[0m \u001b[0mcanonname\u001b[0m\u001b[1;33m,\u001b[0m \u001b[0msa\u001b[0m \u001b[1;33m=\u001b[0m \u001b[0mres\u001b[0m\u001b[1;33m\u001b[0m\u001b[1;33m\u001b[0m\u001b[0m\n",
      "\u001b[1;32mC:\\ProgramData\\Anaconda3\\lib\\socket.py\u001b[0m in \u001b[0;36mgetaddrinfo\u001b[1;34m(host, port, family, type, proto, flags)\u001b[0m\n\u001b[0;32m    751\u001b[0m     \u001b[0maddrlist\u001b[0m \u001b[1;33m=\u001b[0m \u001b[1;33m[\u001b[0m\u001b[1;33m]\u001b[0m\u001b[1;33m\u001b[0m\u001b[1;33m\u001b[0m\u001b[0m\n\u001b[1;32m--> 752\u001b[1;33m     \u001b[1;32mfor\u001b[0m \u001b[0mres\u001b[0m \u001b[1;32min\u001b[0m \u001b[0m_socket\u001b[0m\u001b[1;33m.\u001b[0m\u001b[0mgetaddrinfo\u001b[0m\u001b[1;33m(\u001b[0m\u001b[0mhost\u001b[0m\u001b[1;33m,\u001b[0m \u001b[0mport\u001b[0m\u001b[1;33m,\u001b[0m \u001b[0mfamily\u001b[0m\u001b[1;33m,\u001b[0m \u001b[0mtype\u001b[0m\u001b[1;33m,\u001b[0m \u001b[0mproto\u001b[0m\u001b[1;33m,\u001b[0m \u001b[0mflags\u001b[0m\u001b[1;33m)\u001b[0m\u001b[1;33m:\u001b[0m\u001b[1;33m\u001b[0m\u001b[1;33m\u001b[0m\u001b[0m\n\u001b[0m\u001b[0;32m    753\u001b[0m         \u001b[0maf\u001b[0m\u001b[1;33m,\u001b[0m \u001b[0msocktype\u001b[0m\u001b[1;33m,\u001b[0m \u001b[0mproto\u001b[0m\u001b[1;33m,\u001b[0m \u001b[0mcanonname\u001b[0m\u001b[1;33m,\u001b[0m \u001b[0msa\u001b[0m \u001b[1;33m=\u001b[0m \u001b[0mres\u001b[0m\u001b[1;33m\u001b[0m\u001b[1;33m\u001b[0m\u001b[0m\n",
      "\u001b[1;31mgaierror\u001b[0m: [Errno 11001] getaddrinfo failed",
      "\nDuring handling of the above exception, another exception occurred:\n",
      "\u001b[1;31mNewConnectionError\u001b[0m                        Traceback (most recent call last)",
      "\u001b[1;32mC:\\ProgramData\\Anaconda3\\lib\\site-packages\\urllib3\\connectionpool.py\u001b[0m in \u001b[0;36murlopen\u001b[1;34m(self, method, url, body, headers, retries, redirect, assert_same_host, timeout, pool_timeout, release_conn, chunked, body_pos, **response_kw)\u001b[0m\n\u001b[0;32m    671\u001b[0m                 \u001b[0mheaders\u001b[0m\u001b[1;33m=\u001b[0m\u001b[0mheaders\u001b[0m\u001b[1;33m,\u001b[0m\u001b[1;33m\u001b[0m\u001b[1;33m\u001b[0m\u001b[0m\n\u001b[1;32m--> 672\u001b[1;33m                 \u001b[0mchunked\u001b[0m\u001b[1;33m=\u001b[0m\u001b[0mchunked\u001b[0m\u001b[1;33m,\u001b[0m\u001b[1;33m\u001b[0m\u001b[1;33m\u001b[0m\u001b[0m\n\u001b[0m\u001b[0;32m    673\u001b[0m             )\n",
      "\u001b[1;32mC:\\ProgramData\\Anaconda3\\lib\\site-packages\\urllib3\\connectionpool.py\u001b[0m in \u001b[0;36m_make_request\u001b[1;34m(self, conn, method, url, timeout, chunked, **httplib_request_kw)\u001b[0m\n\u001b[0;32m    386\u001b[0m         \u001b[1;32melse\u001b[0m\u001b[1;33m:\u001b[0m\u001b[1;33m\u001b[0m\u001b[1;33m\u001b[0m\u001b[0m\n\u001b[1;32m--> 387\u001b[1;33m             \u001b[0mconn\u001b[0m\u001b[1;33m.\u001b[0m\u001b[0mrequest\u001b[0m\u001b[1;33m(\u001b[0m\u001b[0mmethod\u001b[0m\u001b[1;33m,\u001b[0m \u001b[0murl\u001b[0m\u001b[1;33m,\u001b[0m \u001b[1;33m**\u001b[0m\u001b[0mhttplib_request_kw\u001b[0m\u001b[1;33m)\u001b[0m\u001b[1;33m\u001b[0m\u001b[1;33m\u001b[0m\u001b[0m\n\u001b[0m\u001b[0;32m    388\u001b[0m \u001b[1;33m\u001b[0m\u001b[0m\n",
      "\u001b[1;32mC:\\ProgramData\\Anaconda3\\lib\\http\\client.py\u001b[0m in \u001b[0;36mrequest\u001b[1;34m(self, method, url, body, headers, encode_chunked)\u001b[0m\n\u001b[0;32m   1251\u001b[0m         \u001b[1;34m\"\"\"Send a complete request to the server.\"\"\"\u001b[0m\u001b[1;33m\u001b[0m\u001b[1;33m\u001b[0m\u001b[0m\n\u001b[1;32m-> 1252\u001b[1;33m         \u001b[0mself\u001b[0m\u001b[1;33m.\u001b[0m\u001b[0m_send_request\u001b[0m\u001b[1;33m(\u001b[0m\u001b[0mmethod\u001b[0m\u001b[1;33m,\u001b[0m \u001b[0murl\u001b[0m\u001b[1;33m,\u001b[0m \u001b[0mbody\u001b[0m\u001b[1;33m,\u001b[0m \u001b[0mheaders\u001b[0m\u001b[1;33m,\u001b[0m \u001b[0mencode_chunked\u001b[0m\u001b[1;33m)\u001b[0m\u001b[1;33m\u001b[0m\u001b[1;33m\u001b[0m\u001b[0m\n\u001b[0m\u001b[0;32m   1253\u001b[0m \u001b[1;33m\u001b[0m\u001b[0m\n",
      "\u001b[1;32mC:\\ProgramData\\Anaconda3\\lib\\http\\client.py\u001b[0m in \u001b[0;36m_send_request\u001b[1;34m(self, method, url, body, headers, encode_chunked)\u001b[0m\n\u001b[0;32m   1297\u001b[0m             \u001b[0mbody\u001b[0m \u001b[1;33m=\u001b[0m \u001b[0m_encode\u001b[0m\u001b[1;33m(\u001b[0m\u001b[0mbody\u001b[0m\u001b[1;33m,\u001b[0m \u001b[1;34m'body'\u001b[0m\u001b[1;33m)\u001b[0m\u001b[1;33m\u001b[0m\u001b[1;33m\u001b[0m\u001b[0m\n\u001b[1;32m-> 1298\u001b[1;33m         \u001b[0mself\u001b[0m\u001b[1;33m.\u001b[0m\u001b[0mendheaders\u001b[0m\u001b[1;33m(\u001b[0m\u001b[0mbody\u001b[0m\u001b[1;33m,\u001b[0m \u001b[0mencode_chunked\u001b[0m\u001b[1;33m=\u001b[0m\u001b[0mencode_chunked\u001b[0m\u001b[1;33m)\u001b[0m\u001b[1;33m\u001b[0m\u001b[1;33m\u001b[0m\u001b[0m\n\u001b[0m\u001b[0;32m   1299\u001b[0m \u001b[1;33m\u001b[0m\u001b[0m\n",
      "\u001b[1;32mC:\\ProgramData\\Anaconda3\\lib\\http\\client.py\u001b[0m in \u001b[0;36mendheaders\u001b[1;34m(self, message_body, encode_chunked)\u001b[0m\n\u001b[0;32m   1246\u001b[0m             \u001b[1;32mraise\u001b[0m \u001b[0mCannotSendHeader\u001b[0m\u001b[1;33m(\u001b[0m\u001b[1;33m)\u001b[0m\u001b[1;33m\u001b[0m\u001b[1;33m\u001b[0m\u001b[0m\n\u001b[1;32m-> 1247\u001b[1;33m         \u001b[0mself\u001b[0m\u001b[1;33m.\u001b[0m\u001b[0m_send_output\u001b[0m\u001b[1;33m(\u001b[0m\u001b[0mmessage_body\u001b[0m\u001b[1;33m,\u001b[0m \u001b[0mencode_chunked\u001b[0m\u001b[1;33m=\u001b[0m\u001b[0mencode_chunked\u001b[0m\u001b[1;33m)\u001b[0m\u001b[1;33m\u001b[0m\u001b[1;33m\u001b[0m\u001b[0m\n\u001b[0m\u001b[0;32m   1248\u001b[0m \u001b[1;33m\u001b[0m\u001b[0m\n",
      "\u001b[1;32mC:\\ProgramData\\Anaconda3\\lib\\http\\client.py\u001b[0m in \u001b[0;36m_send_output\u001b[1;34m(self, message_body, encode_chunked)\u001b[0m\n\u001b[0;32m   1025\u001b[0m         \u001b[1;32mdel\u001b[0m \u001b[0mself\u001b[0m\u001b[1;33m.\u001b[0m\u001b[0m_buffer\u001b[0m\u001b[1;33m[\u001b[0m\u001b[1;33m:\u001b[0m\u001b[1;33m]\u001b[0m\u001b[1;33m\u001b[0m\u001b[1;33m\u001b[0m\u001b[0m\n\u001b[1;32m-> 1026\u001b[1;33m         \u001b[0mself\u001b[0m\u001b[1;33m.\u001b[0m\u001b[0msend\u001b[0m\u001b[1;33m(\u001b[0m\u001b[0mmsg\u001b[0m\u001b[1;33m)\u001b[0m\u001b[1;33m\u001b[0m\u001b[1;33m\u001b[0m\u001b[0m\n\u001b[0m\u001b[0;32m   1027\u001b[0m \u001b[1;33m\u001b[0m\u001b[0m\n",
      "\u001b[1;32mC:\\ProgramData\\Anaconda3\\lib\\http\\client.py\u001b[0m in \u001b[0;36msend\u001b[1;34m(self, data)\u001b[0m\n\u001b[0;32m    965\u001b[0m             \u001b[1;32mif\u001b[0m \u001b[0mself\u001b[0m\u001b[1;33m.\u001b[0m\u001b[0mauto_open\u001b[0m\u001b[1;33m:\u001b[0m\u001b[1;33m\u001b[0m\u001b[1;33m\u001b[0m\u001b[0m\n\u001b[1;32m--> 966\u001b[1;33m                 \u001b[0mself\u001b[0m\u001b[1;33m.\u001b[0m\u001b[0mconnect\u001b[0m\u001b[1;33m(\u001b[0m\u001b[1;33m)\u001b[0m\u001b[1;33m\u001b[0m\u001b[1;33m\u001b[0m\u001b[0m\n\u001b[0m\u001b[0;32m    967\u001b[0m             \u001b[1;32melse\u001b[0m\u001b[1;33m:\u001b[0m\u001b[1;33m\u001b[0m\u001b[1;33m\u001b[0m\u001b[0m\n",
      "\u001b[1;32mC:\\ProgramData\\Anaconda3\\lib\\site-packages\\urllib3\\connection.py\u001b[0m in \u001b[0;36mconnect\u001b[1;34m(self)\u001b[0m\n\u001b[0;32m    183\u001b[0m     \u001b[1;32mdef\u001b[0m \u001b[0mconnect\u001b[0m\u001b[1;33m(\u001b[0m\u001b[0mself\u001b[0m\u001b[1;33m)\u001b[0m\u001b[1;33m:\u001b[0m\u001b[1;33m\u001b[0m\u001b[1;33m\u001b[0m\u001b[0m\n\u001b[1;32m--> 184\u001b[1;33m         \u001b[0mconn\u001b[0m \u001b[1;33m=\u001b[0m \u001b[0mself\u001b[0m\u001b[1;33m.\u001b[0m\u001b[0m_new_conn\u001b[0m\u001b[1;33m(\u001b[0m\u001b[1;33m)\u001b[0m\u001b[1;33m\u001b[0m\u001b[1;33m\u001b[0m\u001b[0m\n\u001b[0m\u001b[0;32m    185\u001b[0m         \u001b[0mself\u001b[0m\u001b[1;33m.\u001b[0m\u001b[0m_prepare_conn\u001b[0m\u001b[1;33m(\u001b[0m\u001b[0mconn\u001b[0m\u001b[1;33m)\u001b[0m\u001b[1;33m\u001b[0m\u001b[1;33m\u001b[0m\u001b[0m\n",
      "\u001b[1;32mC:\\ProgramData\\Anaconda3\\lib\\site-packages\\urllib3\\connection.py\u001b[0m in \u001b[0;36m_new_conn\u001b[1;34m(self)\u001b[0m\n\u001b[0;32m    168\u001b[0m             raise NewConnectionError(\n\u001b[1;32m--> 169\u001b[1;33m                 \u001b[0mself\u001b[0m\u001b[1;33m,\u001b[0m \u001b[1;34m\"Failed to establish a new connection: %s\"\u001b[0m \u001b[1;33m%\u001b[0m \u001b[0me\u001b[0m\u001b[1;33m\u001b[0m\u001b[1;33m\u001b[0m\u001b[0m\n\u001b[0m\u001b[0;32m    170\u001b[0m             )\n",
      "\u001b[1;31mNewConnectionError\u001b[0m: <urllib3.connection.HTTPConnection object at 0x000002C3CBDBE048>: Failed to establish a new connection: [Errno 11001] getaddrinfo failed",
      "\nDuring handling of the above exception, another exception occurred:\n",
      "\u001b[1;31mMaxRetryError\u001b[0m                             Traceback (most recent call last)",
      "\u001b[1;32mC:\\ProgramData\\Anaconda3\\lib\\site-packages\\requests\\adapters.py\u001b[0m in \u001b[0;36msend\u001b[1;34m(self, request, stream, timeout, verify, cert, proxies)\u001b[0m\n\u001b[0;32m    448\u001b[0m                     \u001b[0mretries\u001b[0m\u001b[1;33m=\u001b[0m\u001b[0mself\u001b[0m\u001b[1;33m.\u001b[0m\u001b[0mmax_retries\u001b[0m\u001b[1;33m,\u001b[0m\u001b[1;33m\u001b[0m\u001b[1;33m\u001b[0m\u001b[0m\n\u001b[1;32m--> 449\u001b[1;33m                     \u001b[0mtimeout\u001b[0m\u001b[1;33m=\u001b[0m\u001b[0mtimeout\u001b[0m\u001b[1;33m\u001b[0m\u001b[1;33m\u001b[0m\u001b[0m\n\u001b[0m\u001b[0;32m    450\u001b[0m                 )\n",
      "\u001b[1;32mC:\\ProgramData\\Anaconda3\\lib\\site-packages\\urllib3\\connectionpool.py\u001b[0m in \u001b[0;36murlopen\u001b[1;34m(self, method, url, body, headers, retries, redirect, assert_same_host, timeout, pool_timeout, release_conn, chunked, body_pos, **response_kw)\u001b[0m\n\u001b[0;32m    719\u001b[0m             retries = retries.increment(\n\u001b[1;32m--> 720\u001b[1;33m                 \u001b[0mmethod\u001b[0m\u001b[1;33m,\u001b[0m \u001b[0murl\u001b[0m\u001b[1;33m,\u001b[0m \u001b[0merror\u001b[0m\u001b[1;33m=\u001b[0m\u001b[0me\u001b[0m\u001b[1;33m,\u001b[0m \u001b[0m_pool\u001b[0m\u001b[1;33m=\u001b[0m\u001b[0mself\u001b[0m\u001b[1;33m,\u001b[0m \u001b[0m_stacktrace\u001b[0m\u001b[1;33m=\u001b[0m\u001b[0msys\u001b[0m\u001b[1;33m.\u001b[0m\u001b[0mexc_info\u001b[0m\u001b[1;33m(\u001b[0m\u001b[1;33m)\u001b[0m\u001b[1;33m[\u001b[0m\u001b[1;36m2\u001b[0m\u001b[1;33m]\u001b[0m\u001b[1;33m\u001b[0m\u001b[1;33m\u001b[0m\u001b[0m\n\u001b[0m\u001b[0;32m    721\u001b[0m             )\n",
      "\u001b[1;32mC:\\ProgramData\\Anaconda3\\lib\\site-packages\\urllib3\\util\\retry.py\u001b[0m in \u001b[0;36mincrement\u001b[1;34m(self, method, url, response, error, _pool, _stacktrace)\u001b[0m\n\u001b[0;32m    435\u001b[0m         \u001b[1;32mif\u001b[0m \u001b[0mnew_retry\u001b[0m\u001b[1;33m.\u001b[0m\u001b[0mis_exhausted\u001b[0m\u001b[1;33m(\u001b[0m\u001b[1;33m)\u001b[0m\u001b[1;33m:\u001b[0m\u001b[1;33m\u001b[0m\u001b[1;33m\u001b[0m\u001b[0m\n\u001b[1;32m--> 436\u001b[1;33m             \u001b[1;32mraise\u001b[0m \u001b[0mMaxRetryError\u001b[0m\u001b[1;33m(\u001b[0m\u001b[0m_pool\u001b[0m\u001b[1;33m,\u001b[0m \u001b[0murl\u001b[0m\u001b[1;33m,\u001b[0m \u001b[0merror\u001b[0m \u001b[1;32mor\u001b[0m \u001b[0mResponseError\u001b[0m\u001b[1;33m(\u001b[0m\u001b[0mcause\u001b[0m\u001b[1;33m)\u001b[0m\u001b[1;33m)\u001b[0m\u001b[1;33m\u001b[0m\u001b[1;33m\u001b[0m\u001b[0m\n\u001b[0m\u001b[0;32m    437\u001b[0m \u001b[1;33m\u001b[0m\u001b[0m\n",
      "\u001b[1;31mMaxRetryError\u001b[0m: HTTPConnectionPool(host='api.openweathermap.org', port=80): Max retries exceeded with url: /data/2.5/weather?appid=ac665d5d67248e0fde30c078622831bb&q=hondo (Caused by NewConnectionError('<urllib3.connection.HTTPConnection object at 0x000002C3CBDBE048>: Failed to establish a new connection: [Errno 11001] getaddrinfo failed'))",
      "\nDuring handling of the above exception, another exception occurred:\n",
      "\u001b[1;31mConnectionError\u001b[0m                           Traceback (most recent call last)",
      "\u001b[1;32m<ipython-input-5-6eeb187c73a8>\u001b[0m in \u001b[0;36m<module>\u001b[1;34m\u001b[0m\n\u001b[1;32m----> 1\u001b[1;33m \u001b[0mresponse\u001b[0m \u001b[1;33m=\u001b[0m \u001b[0mrequests\u001b[0m\u001b[1;33m.\u001b[0m\u001b[0mget\u001b[0m\u001b[1;33m(\u001b[0m\u001b[0mquery_url\u001b[0m\u001b[1;33m)\u001b[0m\u001b[1;33m.\u001b[0m\u001b[0mjson\u001b[0m\u001b[1;33m(\u001b[0m\u001b[1;33m)\u001b[0m\u001b[1;33m\u001b[0m\u001b[1;33m\u001b[0m\u001b[0m\n\u001b[0m\u001b[0;32m      2\u001b[0m \u001b[0mresponse\u001b[0m\u001b[1;33m\u001b[0m\u001b[1;33m\u001b[0m\u001b[0m\n",
      "\u001b[1;32mC:\\ProgramData\\Anaconda3\\lib\\site-packages\\requests\\api.py\u001b[0m in \u001b[0;36mget\u001b[1;34m(url, params, **kwargs)\u001b[0m\n\u001b[0;32m     73\u001b[0m \u001b[1;33m\u001b[0m\u001b[0m\n\u001b[0;32m     74\u001b[0m     \u001b[0mkwargs\u001b[0m\u001b[1;33m.\u001b[0m\u001b[0msetdefault\u001b[0m\u001b[1;33m(\u001b[0m\u001b[1;34m'allow_redirects'\u001b[0m\u001b[1;33m,\u001b[0m \u001b[1;32mTrue\u001b[0m\u001b[1;33m)\u001b[0m\u001b[1;33m\u001b[0m\u001b[1;33m\u001b[0m\u001b[0m\n\u001b[1;32m---> 75\u001b[1;33m     \u001b[1;32mreturn\u001b[0m \u001b[0mrequest\u001b[0m\u001b[1;33m(\u001b[0m\u001b[1;34m'get'\u001b[0m\u001b[1;33m,\u001b[0m \u001b[0murl\u001b[0m\u001b[1;33m,\u001b[0m \u001b[0mparams\u001b[0m\u001b[1;33m=\u001b[0m\u001b[0mparams\u001b[0m\u001b[1;33m,\u001b[0m \u001b[1;33m**\u001b[0m\u001b[0mkwargs\u001b[0m\u001b[1;33m)\u001b[0m\u001b[1;33m\u001b[0m\u001b[1;33m\u001b[0m\u001b[0m\n\u001b[0m\u001b[0;32m     76\u001b[0m \u001b[1;33m\u001b[0m\u001b[0m\n\u001b[0;32m     77\u001b[0m \u001b[1;33m\u001b[0m\u001b[0m\n",
      "\u001b[1;32mC:\\ProgramData\\Anaconda3\\lib\\site-packages\\requests\\api.py\u001b[0m in \u001b[0;36mrequest\u001b[1;34m(method, url, **kwargs)\u001b[0m\n\u001b[0;32m     58\u001b[0m     \u001b[1;31m# cases, and look like a memory leak in others.\u001b[0m\u001b[1;33m\u001b[0m\u001b[1;33m\u001b[0m\u001b[1;33m\u001b[0m\u001b[0m\n\u001b[0;32m     59\u001b[0m     \u001b[1;32mwith\u001b[0m \u001b[0msessions\u001b[0m\u001b[1;33m.\u001b[0m\u001b[0mSession\u001b[0m\u001b[1;33m(\u001b[0m\u001b[1;33m)\u001b[0m \u001b[1;32mas\u001b[0m \u001b[0msession\u001b[0m\u001b[1;33m:\u001b[0m\u001b[1;33m\u001b[0m\u001b[1;33m\u001b[0m\u001b[0m\n\u001b[1;32m---> 60\u001b[1;33m         \u001b[1;32mreturn\u001b[0m \u001b[0msession\u001b[0m\u001b[1;33m.\u001b[0m\u001b[0mrequest\u001b[0m\u001b[1;33m(\u001b[0m\u001b[0mmethod\u001b[0m\u001b[1;33m=\u001b[0m\u001b[0mmethod\u001b[0m\u001b[1;33m,\u001b[0m \u001b[0murl\u001b[0m\u001b[1;33m=\u001b[0m\u001b[0murl\u001b[0m\u001b[1;33m,\u001b[0m \u001b[1;33m**\u001b[0m\u001b[0mkwargs\u001b[0m\u001b[1;33m)\u001b[0m\u001b[1;33m\u001b[0m\u001b[1;33m\u001b[0m\u001b[0m\n\u001b[0m\u001b[0;32m     61\u001b[0m \u001b[1;33m\u001b[0m\u001b[0m\n\u001b[0;32m     62\u001b[0m \u001b[1;33m\u001b[0m\u001b[0m\n",
      "\u001b[1;32mC:\\ProgramData\\Anaconda3\\lib\\site-packages\\requests\\sessions.py\u001b[0m in \u001b[0;36mrequest\u001b[1;34m(self, method, url, params, data, headers, cookies, files, auth, timeout, allow_redirects, proxies, hooks, stream, verify, cert, json)\u001b[0m\n\u001b[0;32m    531\u001b[0m         }\n\u001b[0;32m    532\u001b[0m         \u001b[0msend_kwargs\u001b[0m\u001b[1;33m.\u001b[0m\u001b[0mupdate\u001b[0m\u001b[1;33m(\u001b[0m\u001b[0msettings\u001b[0m\u001b[1;33m)\u001b[0m\u001b[1;33m\u001b[0m\u001b[1;33m\u001b[0m\u001b[0m\n\u001b[1;32m--> 533\u001b[1;33m         \u001b[0mresp\u001b[0m \u001b[1;33m=\u001b[0m \u001b[0mself\u001b[0m\u001b[1;33m.\u001b[0m\u001b[0msend\u001b[0m\u001b[1;33m(\u001b[0m\u001b[0mprep\u001b[0m\u001b[1;33m,\u001b[0m \u001b[1;33m**\u001b[0m\u001b[0msend_kwargs\u001b[0m\u001b[1;33m)\u001b[0m\u001b[1;33m\u001b[0m\u001b[1;33m\u001b[0m\u001b[0m\n\u001b[0m\u001b[0;32m    534\u001b[0m \u001b[1;33m\u001b[0m\u001b[0m\n\u001b[0;32m    535\u001b[0m         \u001b[1;32mreturn\u001b[0m \u001b[0mresp\u001b[0m\u001b[1;33m\u001b[0m\u001b[1;33m\u001b[0m\u001b[0m\n",
      "\u001b[1;32mC:\\ProgramData\\Anaconda3\\lib\\site-packages\\requests\\sessions.py\u001b[0m in \u001b[0;36msend\u001b[1;34m(self, request, **kwargs)\u001b[0m\n\u001b[0;32m    644\u001b[0m \u001b[1;33m\u001b[0m\u001b[0m\n\u001b[0;32m    645\u001b[0m         \u001b[1;31m# Send the request\u001b[0m\u001b[1;33m\u001b[0m\u001b[1;33m\u001b[0m\u001b[1;33m\u001b[0m\u001b[0m\n\u001b[1;32m--> 646\u001b[1;33m         \u001b[0mr\u001b[0m \u001b[1;33m=\u001b[0m \u001b[0madapter\u001b[0m\u001b[1;33m.\u001b[0m\u001b[0msend\u001b[0m\u001b[1;33m(\u001b[0m\u001b[0mrequest\u001b[0m\u001b[1;33m,\u001b[0m \u001b[1;33m**\u001b[0m\u001b[0mkwargs\u001b[0m\u001b[1;33m)\u001b[0m\u001b[1;33m\u001b[0m\u001b[1;33m\u001b[0m\u001b[0m\n\u001b[0m\u001b[0;32m    647\u001b[0m \u001b[1;33m\u001b[0m\u001b[0m\n\u001b[0;32m    648\u001b[0m         \u001b[1;31m# Total elapsed time of the request (approximately)\u001b[0m\u001b[1;33m\u001b[0m\u001b[1;33m\u001b[0m\u001b[1;33m\u001b[0m\u001b[0m\n",
      "\u001b[1;32mC:\\ProgramData\\Anaconda3\\lib\\site-packages\\requests\\adapters.py\u001b[0m in \u001b[0;36msend\u001b[1;34m(self, request, stream, timeout, verify, cert, proxies)\u001b[0m\n\u001b[0;32m    514\u001b[0m                 \u001b[1;32mraise\u001b[0m \u001b[0mSSLError\u001b[0m\u001b[1;33m(\u001b[0m\u001b[0me\u001b[0m\u001b[1;33m,\u001b[0m \u001b[0mrequest\u001b[0m\u001b[1;33m=\u001b[0m\u001b[0mrequest\u001b[0m\u001b[1;33m)\u001b[0m\u001b[1;33m\u001b[0m\u001b[1;33m\u001b[0m\u001b[0m\n\u001b[0;32m    515\u001b[0m \u001b[1;33m\u001b[0m\u001b[0m\n\u001b[1;32m--> 516\u001b[1;33m             \u001b[1;32mraise\u001b[0m \u001b[0mConnectionError\u001b[0m\u001b[1;33m(\u001b[0m\u001b[0me\u001b[0m\u001b[1;33m,\u001b[0m \u001b[0mrequest\u001b[0m\u001b[1;33m=\u001b[0m\u001b[0mrequest\u001b[0m\u001b[1;33m)\u001b[0m\u001b[1;33m\u001b[0m\u001b[1;33m\u001b[0m\u001b[0m\n\u001b[0m\u001b[0;32m    517\u001b[0m \u001b[1;33m\u001b[0m\u001b[0m\n\u001b[0;32m    518\u001b[0m         \u001b[1;32mexcept\u001b[0m \u001b[0mClosedPoolError\u001b[0m \u001b[1;32mas\u001b[0m \u001b[0me\u001b[0m\u001b[1;33m:\u001b[0m\u001b[1;33m\u001b[0m\u001b[1;33m\u001b[0m\u001b[0m\n",
      "\u001b[1;31mConnectionError\u001b[0m: HTTPConnectionPool(host='api.openweathermap.org', port=80): Max retries exceeded with url: /data/2.5/weather?appid=ac665d5d67248e0fde30c078622831bb&q=hondo (Caused by NewConnectionError('<urllib3.connection.HTTPConnection object at 0x000002C3CBDBE048>: Failed to establish a new connection: [Errno 11001] getaddrinfo failed'))"
>>>>>>> dbe2ae6d02381024c45489e0bfccf15f8869d645
     ]
    }
   ],
   "source": []
  },
  {
   "cell_type": "code",
   "execution_count": null,
   "metadata": {},
   "outputs": [],
   "source": [
<<<<<<< HEAD
    "#Initalize counter,iterate thru the list of cities and obtain openweathermap dat to load into the lists while disguarding unknown cities. \n",
    "x=0\n",
    "print(\"Beginning Data Retrieval\")\n",
    "print(\"------------------------------------\")\n",
    "for citi in cities:\n",
    "    response=requests.get(query2_url + citi + \"&units=imperial\")\n",
    "    try:\n",
    "        response.raise_for_status()\n",
    "        x=x+1\n",
    "        jaysponse=response.json()\n",
    "        print(f\"Processing Record {x} | {citi}\")\n",
    "        citi_name.append(jaysponse['name'])\n",
    "        citi_clouds.append(jaysponse['clouds']['all'])\n",
    "        citi_country.append(jaysponse['sys']['country'])\n",
    "        citi_date.append(jaysponse['dt'])\n",
    "        citi_humidity.append(jaysponse['main']['humidity'])\n",
    "        citi_lat.append(jaysponse['coord']['lat'])\n",
    "        citi_lng.append(jaysponse['coord']['lon'])\n",
    "        citi_temp.append(jaysponse['main']['temp'])\n",
    "        citi_wind.append(jaysponse['wind']['speed'])\n",
    "    except requests.HTTPError:\n",
    "        print(f\"{citi} not found. Skipping...\")\n"
=======
    "x = 0\n",
    "for city in cities:\n",
    "    try:\n",
    "        response = requests.get(url + \"appid=\" + weather_api_key + \"&q=\" + city).json()\n",
    "        City.append(response['name'])\n",
    "        Cloudiness.append(response['clouds']['all'])\n",
    "        Country.append(response['sys']['country'])\n",
    "        Date.append(response['dt'])\n",
    "        Humidity.append(response['main']['humidity'])\n",
    "        Lat.append(response['coord']['lat'])\n",
    "        Lng.append(response['coord']['log'])\n",
    "        MaxTemp.append(response['main']['temp_max'])\n",
    "        Wind_Speed.append(response['wind']['speed'])\n",
    "        x = x + 1\n",
    "        print(f\"Processing Record {x}. | {city}\")\n",
    "    except:\n",
    "        print(f\" City; {city} not found Skipping...\")\n",
    "        \n",
    "\n",
    "weather_df = pd.DataFrame(city_dict)"
>>>>>>> dbe2ae6d02381024c45489e0bfccf15f8869d645
   ]
  },
  {
   "cell_type": "code",
   "execution_count": 130,
   "metadata": {},
   "outputs": [],
   "source": [
    "#Create dataframe\n",
    "city_dict ={\n",
    "    \"City\": citi_name,\n",
    "    \"Cloudiness\": citi_clouds,\n",
    "    \"Country\": citi_country,\n",
    "    \"Date\": citi_date,\n",
    "    \"Humidity\": citi_humidity,\n",
    "    \"Lat\": citi_lat,\n",
    "    \"Lng\": citi_lng,\n",
    "    \"Temp\": citi_temp,\n",
    "    \"Wind Speed\": citi_wind,\n",
    "}\n",
    "weather_df = pd.DataFrame(city_dict)"
   ]
  },
  {
   "cell_type": "markdown",
   "metadata": {},
   "source": [
    "### Convert Raw Data to DataFrame\n",
    "* Export the city data into a .csv.\n",
    "* Display the DataFrame"
   ]
  },
  {
   "cell_type": "code",
   "execution_count": 131,
   "metadata": {},
   "outputs": [],
   "source": [
    "# Write dataframe to csv file.\n",
    "weather_df.to_csv(r'weather_df.csv', header=True)"
   ]
  },
  {
   "cell_type": "code",
   "execution_count": 132,
   "metadata": {
    "scrolled": true
   },
   "outputs": [
    {
     "data": {
      "text/plain": [
       "City          552\n",
       "Cloudiness    552\n",
       "Country       552\n",
       "Date          552\n",
       "Humidity      552\n",
       "Lat           552\n",
       "Lng           552\n",
       "Temp          552\n",
       "Wind Speed    552\n",
       "dtype: int64"
      ]
     },
     "execution_count": 132,
     "metadata": {},
     "output_type": "execute_result"
    }
   ],
   "source": [
    "#Count rows in dataframe\n",
    "weather_df.count()"
   ]
  },
  {
   "cell_type": "code",
   "execution_count": 133,
   "metadata": {
    "scrolled": true
   },
   "outputs": [
    {
     "data": {
      "text/html": [
       "<div>\n",
       "<style scoped>\n",
       "    .dataframe tbody tr th:only-of-type {\n",
       "        vertical-align: middle;\n",
       "    }\n",
       "\n",
       "    .dataframe tbody tr th {\n",
       "        vertical-align: top;\n",
       "    }\n",
       "\n",
       "    .dataframe thead th {\n",
       "        text-align: right;\n",
       "    }\n",
       "</style>\n",
       "<table border=\"1\" class=\"dataframe\">\n",
       "  <thead>\n",
       "    <tr style=\"text-align: right;\">\n",
       "      <th></th>\n",
       "      <th>City</th>\n",
       "      <th>Cloudiness</th>\n",
       "      <th>Country</th>\n",
       "      <th>Date</th>\n",
       "      <th>Humidity</th>\n",
       "      <th>Lat</th>\n",
       "      <th>Lng</th>\n",
       "      <th>Temp</th>\n",
       "      <th>Wind Speed</th>\n",
       "    </tr>\n",
       "  </thead>\n",
       "  <tbody>\n",
       "    <tr>\n",
       "      <th>0</th>\n",
       "      <td>Erzin</td>\n",
       "      <td>84</td>\n",
       "      <td>TR</td>\n",
       "      <td>1588217084</td>\n",
       "      <td>89</td>\n",
       "      <td>36.96</td>\n",
       "      <td>36.20</td>\n",
       "      <td>64.00</td>\n",
       "      <td>0.43</td>\n",
       "    </tr>\n",
       "    <tr>\n",
       "      <th>1</th>\n",
       "      <td>Mbekenyera</td>\n",
       "      <td>100</td>\n",
       "      <td>TZ</td>\n",
       "      <td>1588217173</td>\n",
       "      <td>87</td>\n",
       "      <td>-10.00</td>\n",
       "      <td>38.98</td>\n",
       "      <td>70.20</td>\n",
       "      <td>2.91</td>\n",
       "    </tr>\n",
       "    <tr>\n",
       "      <th>2</th>\n",
       "      <td>Busselton</td>\n",
       "      <td>0</td>\n",
       "      <td>AU</td>\n",
       "      <td>1588217050</td>\n",
       "      <td>33</td>\n",
       "      <td>-33.65</td>\n",
       "      <td>115.33</td>\n",
       "      <td>63.73</td>\n",
       "      <td>12.68</td>\n",
       "    </tr>\n",
       "    <tr>\n",
       "      <th>3</th>\n",
       "      <td>Thompson</td>\n",
       "      <td>75</td>\n",
       "      <td>CA</td>\n",
       "      <td>1588217057</td>\n",
       "      <td>56</td>\n",
       "      <td>55.74</td>\n",
       "      <td>-97.86</td>\n",
       "      <td>44.60</td>\n",
       "      <td>10.29</td>\n",
       "    </tr>\n",
       "    <tr>\n",
       "      <th>4</th>\n",
       "      <td>Road Town</td>\n",
       "      <td>90</td>\n",
       "      <td>VG</td>\n",
       "      <td>1588216882</td>\n",
       "      <td>94</td>\n",
       "      <td>18.42</td>\n",
       "      <td>-64.62</td>\n",
       "      <td>77.11</td>\n",
       "      <td>8.05</td>\n",
       "    </tr>\n",
       "  </tbody>\n",
       "</table>\n",
       "</div>"
      ],
      "text/plain": [
       "         City  Cloudiness Country        Date  Humidity    Lat     Lng   Temp  \\\n",
       "0       Erzin          84      TR  1588217084        89  36.96   36.20  64.00   \n",
       "1  Mbekenyera         100      TZ  1588217173        87 -10.00   38.98  70.20   \n",
       "2   Busselton           0      AU  1588217050        33 -33.65  115.33  63.73   \n",
       "3    Thompson          75      CA  1588217057        56  55.74  -97.86  44.60   \n",
       "4   Road Town          90      VG  1588216882        94  18.42  -64.62  77.11   \n",
       "\n",
       "   Wind Speed  \n",
       "0        0.43  \n",
       "1        2.91  \n",
       "2       12.68  \n",
       "3       10.29  \n",
       "4        8.05  "
      ]
     },
     "execution_count": 133,
     "metadata": {},
     "output_type": "execute_result"
    }
   ],
   "source": [
    "#List first 5 rows of dataframe\n",
    "weather_df.head()"
   ]
  },
  {
   "cell_type": "markdown",
   "metadata": {},
   "source": [
    "### Plotting the Data\n",
    "* Use proper labeling of the plots using plot titles (including date of analysis) and axes labels.\n",
    "* Save the plotted figures as .pngs."
   ]
  },
  {
   "cell_type": "markdown",
   "metadata": {},
   "source": [
    "#### Latitude vs. Temperature Plot"
   ]
  },
  {
   "cell_type": "code",
   "execution_count": 134,
   "metadata": {
    "scrolled": true
   },
   "outputs": [
    {
     "data": {
      "image/png": "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\n",
      "text/plain": [
       "<Figure size 432x288 with 1 Axes>"
      ]
     },
     "metadata": {
      "needs_background": "light"
     },
     "output_type": "display_data"
    }
   ],
   "source": [
    "wd = weather_df.plot(kind='scatter', x='Lat', y='Temp', color='blue', grid=True, title=\"City Latitude vs. Max Temperature\")\n",
    "wd.set_xlabel('Latitude')\n",
    "wd.set_ylabel('Max Temperture (F)')\n",
    "plt.savefig('LatVsTemp')"
   ]
  },
  {
   "cell_type": "markdown",
   "metadata": {},
   "source": [
    "- More northern hemisphere data is recorded than southern hemisphere which could indicate more cities in the north.\n",
    "- Max tempretures are consistent between North and Southern hemispheres."
   ]
  },
  {
   "cell_type": "markdown",
   "metadata": {},
   "source": [
    "#### Latitude vs. Humidity Plot"
   ]
  },
  {
   "cell_type": "code",
   "execution_count": 135,
   "metadata": {},
   "outputs": [
    {
     "data": {
      "image/png": "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\n",
      "text/plain": [
       "<Figure size 432x288 with 1 Axes>"
      ]
     },
     "metadata": {
      "needs_background": "light"
     },
     "output_type": "display_data"
    }
   ],
   "source": [
    "ax = weather_df.plot(kind='scatter', x='Lat', y='Humidity', color='blue', grid=True, title=\"City Latitude vs. Humidity (04/19/20)\")\n",
    "ax.set_xlabel=('Latitude') \n",
    "ax.set_ylabel=('Humidity (%)')\n",
    "plt.savefig('LatVsHum')\n",
    "plt.show()"
   ]
  },
  {
   "cell_type": "markdown",
   "metadata": {},
   "source": [
    "- The big takeway for the above scatter plot shows that there is not basically any humidity below 60% at the equator."
   ]
  },
  {
   "cell_type": "markdown",
   "metadata": {},
   "source": [
    "#### Latitude vs. Cloudiness Plot"
   ]
  },
  {
   "cell_type": "code",
   "execution_count": 136,
   "metadata": {
    "scrolled": true
   },
   "outputs": [
    {
     "data": {
      "image/png": "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\n",
      "text/plain": [
       "<Figure size 432x288 with 1 Axes>"
      ]
     },
     "metadata": {
      "needs_background": "light"
     },
     "output_type": "display_data"
    }
   ],
   "source": [
    "wd = weather_df.plot(kind='scatter', x='Lat', y='Cloudiness', color='blue', grid=True, title=\"City Latitude vs. Cloudiness (04/19/20)\")\n",
    "wd.set_xlabel=('Latitude') \n",
    "wd.set_ylabel=('Cloudiness (%)')\n",
    "plt.savefig('LatVsCloud')\n",
    "plt.show()"
   ]
  },
  {
   "cell_type": "markdown",
   "metadata": {},
   "source": [
    "- This scatter plot would indicat that there are more clouds at the equator because of the higher humidity."
   ]
  },
  {
   "cell_type": "markdown",
   "metadata": {},
   "source": [
    "#### Latitude vs. Wind Speed Plot"
   ]
  },
  {
   "cell_type": "code",
   "execution_count": 137,
   "metadata": {},
   "outputs": [
    {
     "data": {
      "image/png": "iVBORw0KGgoAAAANSUhEUgAAAX4AAAEWCAYAAABhffzLAAAABHNCSVQICAgIfAhkiAAAAAlwSFlzAAALEgAACxIB0t1+/AAAADh0RVh0U29mdHdhcmUAbWF0cGxvdGxpYiB2ZXJzaW9uMy4xLjMsIGh0dHA6Ly9tYXRwbG90bGliLm9yZy+AADFEAAAgAElEQVR4nO29e5gdVZX3/119PUmfRAg0kWtaHRmD4hAC8YIKGUNURBEcftoqL5c4xHGCiA4jg4pKgHdmjIlc9Bd0EoOXTkBR4VWckPA2aBg1ElCRtBeUhnCRbgyBdEIunaz3j13bU6fO3lW76lTVqXN6fZ6nnu5Tt71q165Vu9Zea21iZgiCIAgTh7ZGCyAIgiDkiyh+QRCECYYofkEQhAmGKH5BEIQJhih+QRCECYYofkEQhAmGKP4CQESXE9F/NVqOIGnLRUSfJaJvpnW+vCGih4jolITHriKiq1IWKVWI6BQiejxin9VE9K68ZMobIuomot8S0SGNliVLRPHnBBG9j4juI6IxInqKiH5ERG8AAGa+hpk/6O3XR0RMRB0JyzmPiDYkOK7moU9TrqJBRP1EtDmwbp1l3WUAwMyvZOa7M5Cli4i+QESPe+3jESJalnY59UJErwbwdwBu8617HxE9SkQ7iOj7RDTNcNzLiWiX6aVPRF8hoguJ6FAiup2InvTaWV9gv8OJ6DYi2urV04cM53ofEQ0Q0dHevqPe/muJ6G8D+15CRH8moueIaCURdQMAM+8GsBLAJ5LVUnMgij8HiOhjAL4I4BoA0wEcBeDLAM5opFwTnHsAzCSiXgDwXmh/B2ByYN3rAPw4Y1n+DcAJAOYAmAJgLoAHMi4zCQsBfIu9qE8ieiWAGwGcA9Wud0K16yBfAvALyznfCuAOAPsB/DeAd1v2+yaAR7xy3g7gGiKaG9jnNO9cBwC4HcDfevtvRPXL6i0ALgPwZgB9AF4K4HO+8wwAOFe/DFoSZpYlwwXAiwCMATg7ZJ/PAvim9/9jANg7ZgzAyQC2AjjWt/8hAF4A0Gs413kANljKOR/AEIDtAP4EYKG3vsc7335fuYdFyPU6/3Zvnz5vnw7v90ugFOx2AOsA3BDY/7UA/gfANgC/AnCKRe7LAHwnsO5aANf5rvlPXjmPAHi/4735I4B3e//PATAI4KbAup0AurzfwwDm+e7ZLQC+7pX7EIATfOeeBeB+b9vNANYAuMoixw8AfDREzmGol8NmAM8C+BqAkm/76QB+6dXj/wB4tW/bYQBuBTDq1c1HfNsmAVjlnXMzgEsBPB4ix58AvMH3+xoAA77fLwOwB8AU37r3evVU1Va8ba8G8OvAug6vDfX51pW9db2+dV8B8A3f7zYATwM42CD3NO/4g7zfAwCu8W1/M4A/B475A4CT89QVeS7S48+e1wEoAfie4/5v8v4ewMxlZr4HSml8wLdPP4D1zDwaU5YRKCUxFeolsIyIjmfmHQDeBuBJr8wyMz8ZIddPHcobALAJwMEAFgM4V28gosMB/BDAVVAP5r8AuFX3tgOsBnAaEU31jm0H8P8BGCCiHgDXAXgbM08B8HooJejCj33X9SYAPwGwIbDuZ8y8x3L8O6Huje5h3uDJ1wXg+wC+4V3bt2HvyQLAzwB8jIg+TETHEhEZ9nk/gLdAKdejAXzKK+t4KNPEQgAHQfXAb/ds1W0A/g/US/VwKAX3Ua/HCwCf8c73Mu/cf70/Qbx6fgmA3/lWv9I7NwCAmf8IpfiP9o6ZCuBKAB+3nPY0qDYQBQX+6v9f5fs9B8CfmPkZw/FvglLsfzHJ7f0/nYgO8q0bgvoCbElE8WfPQQCeYebxOs5xE4D3eQ8yoD6tvxH3JMz8Q2b+IyvuAXAngDfWIZcVIjoKwIkAPs3Mu5n5x1BKSPMBAHcw8x3MvJ+Z1wG4D0oZBOV+FKr3rAcV/x7ATmb+mfd7P4BXEdEkZn6KmR9yFPMeVJT8G6EU/08C6+4JOX6DJ/8+qPuhFcVrAXQC+CIz72Xm78Bu6gCA/w3gP6CU+30AniCioBK+gZm3MPNWAFdDvfwB4B8B3MjMP2fmfcx8E4DdngwnQvWSr2TmPcz8JwBfheqFA+rleTUzb2XmLVAvUBsHeH+3+9aVATwX2O85KHMVoF72K7xzm3g7lGkmFGbeDuBeAJ8mopL3sns3gMlR5yKiI6BMTR8LkVv/P8W3bjsq19xyiOLPnr8AOLieQVFm/jmAHQBOJqJXAPgbqB5mLIjobUT0M2/AaxuUkj04qVwRHAbgWe9rQvOo7/8ZAM4mom16AfAGAIdazjeAirJ7n/cb3vnfA+BDAJ4ioh96deTCjwG8mogOhFKUP2Xm3wI41Fv3BoTb9//s+38ngJJ3nw8D8AR7NgOPR2HBU9hfYuaToJTN1QBWEtFM325+5fmoVwag6vHjgXo80ts+A8BhgW2XQ9m94e0TPK+Nbd5fv3Icg/p69DMVwHYiOg7APADGQWoiOgDAK6BMUy68H+qLYwuA/x/AtwD4nRG0fd9fRi9U5+bLzLw6RG79v/+lNgWVa245RPFnz08B7EKltxqFLV3qTVC95HOg7N274gjhDVTdCmAJgOnMfADUg6I/n6PStJq270B1r+vFvv+fAnCgZyLQHOX7fwuUjfYA39LDzP9uKf/bAE7xenBnwlP8AMDMa5n5VKiXxm+herWReD3gJwFcCOAxZh7zNv3UW1eGMsPE5SkAhwdMNkfZdg7I9AIzfwnK7n6Mb9ORgXNpU9wWqF67vx4ne4puC4BHAtumMLP+qnrKcF6bXDugxkSO9q1+CD5zCBG9FEA3gN8DOAVqzOcxIvozlCnv3UR0v7f7WwDc5X0tRcLMjzLz6czcy8yvgfqS3uiV+2Koe6/PDe/FfSeA25n56sDpquT2/n/aZwoCgJmoNge1FKL4M4aZnwNwBYAvEdG7iGgyEXV6ve//NBwyCmW6eGlg/TegFN4HoAYUwyDvk/ivC4AuqIdyFMA4Eb0NwHzfMU8DOIiIXmQ5p0muXwJ4ExEd5R33b77rfhTKbPE5z13xDQDe4Tv2mwDeQURvIaJ2T06t2GvwxjPuhhrYfISZh7wLnU5E7/ReMLuhenNOysTjJ1BmgJ/41m3w1t3HzC/EOJfmpwDGAXyEiDqI6CwoG7QRIvqod+2TvP3Phepx+j17/pmIjiDlLnk51IAxoF5yHyKi15Cih4jeTkRToBTj80T0Ce/c7UT0KiI60Tv2FgD/RkQHevV+UcR13QHlbKD5FtQ9fKNX/1cC+K5nmvkK1NjBcd6yHMqer8cXakwzXjvVnjTd3m+9bSYRTfHa0geg2u5Sb/NpAP5bf2F5YwtrAdzLzJcZruPrABYQ0THeC+JTUIPcuqzDocZmkrz0m4NGjChPxAUV++0OKBPBDwG83tv2WVR7u1wJpWi3AXitb/16KA8PCinnPKjeeXDpAPDPUAp+G9SLpMrTBGqQ8C/e9iqvHptcUPbTbQAehrI3+716XgqlUMdg9up5DZQNfat33h8COCrk2s7xzn+pb92h3jme8+S4G8Ax3rY3AhiLuC8LvXOe5Vs3x1v3vwP7DqPaqyfMo+kEKMWtvXpuht2rZyHUILi+ho0ATg+Uq716tkF9/U32bX8r1BjCNqhe/LfhedZ493E1VJt7FkqZ6WuYDKUEt8HNq+dVUL1l8q17H5TH1w4ol8lplmP/Wl9QX5lPATgksE9Nu/Vt+6jXRnZAvZj9HlTfAfAPvt/nesfvQMULbczftqBe7E8DeB6qM9Ht23YpgKWN1hlZLuRdqNAEENFKKM+bTzVaFiE/iGgYwAeZeX0BZBkAcAszf7+Oc8yBGqy2fgXFOFcH1EvtZay+rus9XzeUiedNzDxS7/mKSktEYU4ESEUyngXlHy4IDYGZ35fSqT6T0nmmQXmO1a30gb9G7ro6BzQtovibACJaDOASKNPDI42WRxDqgZk3pniuESgvHyEGYuoRBEGYYIhXjyAIwgSjKUw9Bx98MPf19QEAduzYgZ6envADCojInS/NKHczygyI3HkTR+5NmzY9w8y1aVAa7VbkssyePZs1g4OD3IyI3PnSjHI3o8zMInfexJEbKhalRqeKqUcQBGGCIYpfEARhgiGKXxAEYYIhil8QBGGCIYpfEARhgiGKv4UYHQV+8Qv1VxAEwYYo/hZh9Wpgxgzg1FPV39Wro48RBGFiIoq/BRgdBRYsAF54AXjuOfV3wQLp+QuCYEYUfwswPAx0dVWv6+xU6wVBEIKI4m8B+vqAPXuq1+3dq9YLgiAEEcXfAvT2AitWAJMmAVOnqr8rVqj1giAIQZoiSZsQTX8/MG+eMu/09YnSFwTBjij+FqK3VxS+IAjRiKknI4aGgJtuUn8FQRCKhCj+DLjoIuCYY4DzzlN/L7qo0RIJgiBUEMWfMkNDwA03VK+74QZg167GyCMIghBEFH/KbLRMI71jR75yCEIjkfQhxUYUf8rMmWNe34QzvAlCIiR9SPERxZ8yM2cCixZVr1u0CCiVGiNPEqS3JiRF0oc0B6L4M+D664HNm4FVq9Tf669vtETuBHtrW7c2WiKhmZD0Ic2B+PFnxMyZamkm/L21F15Q6x59VK2X+ADBBUkf0hxIj1/4K6beGpH01gR3JH1IcyA9fuGvmHprzNJbE+Ih6UOKT2Y9fiI6kogGiWiIiB4ioou99Z8loieI6JfeclpWMgjxMPXWZsyQB1eIT28vcOKJ0naKSpY9/nEAH2fm+4loCoBNRLTO27aMmZdkWLaQkGBv7aGHGi2RIAhpk5niZ+anADzl/b+diIYAHJ5VeUJ6SLI3QWhtiJmzL4SoD8CPAbwKwMcAnAfgeQD3QX0VPGs45kIAFwLA9OnTZ69ZswYAMDY2hnK5nLnMaSNy50szyt2MMgMid97EkXvu3LmbmPmEmg3MnOkCoAxgE4CzvN/TAbRDjS9cDWBl1Dlmz57NmsHBQW5GRO58aUa5m1FmZpE7b+LIDeA+NujUTN05iagTwK0AvsXM3/VeNE8z8z5m3g/gqwAsSQ4EQRAaS6tGsWfp1UMAVgAYYualvvWH+nY7E8BvspJBEAQhKa2ccyhLr56TAJwD4EEi+qW37nIA/UR0HAAGMAxgYYYyCELTMjoqvvCNwhTFvmCB8nhrhXuRpVfPBgBk2HRHVmUKQquwerVSNF1dKqhuxQrlaivkg45i10ofqOQcagXFLykbBKFgNEOGy1a1fWtaPeeQKH5BKBhFz3A5ETK46ih2/30YHwfWr2+cTGkiil8QCkaRe5umrxGdwbXVmDcPaPNpyL17i/fllRRR/IJQMIqc4XIiZXAdHga6u6vXFenLqx4kO6cgFJCiZrgsegbXND2hivzlVS/S4xeEglLEDJdFzuCatt99kb+86kUUvyAIsejvV3b99evV32nTqrcPDQE33aT+5kVWnlDBa20Vl1ox9QiCEBtbBteLLgJuuKHye9GifOacztLvvhWz1UqPXxCEVBgaqlb6gPqdR8+/le3xWSCKXxCEVNi4Md76NGlle3wWiKlHEIRUmGPJs2tbnzZF9YQqItLjFwQhFWbOVDZ9P4sWqfV5UURPqCIiPf4GIFkXhVbl+uuBD39YmXfmzMlX6QvuiOLPGcm6KLQ6M2eKwi86YurJkWbIuigIQusjij9HXLMutnrKW0EQGoso/hxx8TVu5eneBEEoBqL4cyTK11hMQYIg5IEM7uZMmK9xI6Z7Ew+j5kfuoRAX6fE3AJuvcd5h52JWan7kHgpJEMVfIPIMOxezUvMj91BIiph6CkZeYeeNMCsJ6SL3UEiKKP4CkkcaWMlm2PxkfQ/rHTuQsYfiIqaeCYpkM2x+sryH9Y4dyNhDsZEe/wRGshk2P1ncQ//YgTYjLVigynE5f73HC9kjin+C04qzC0000r6H9Y4dyNhD8RFTjyAIVUSNHUSlFJHxo+KTmeInoiOJaJCIhojoISK62Fs/jYjWEdEfvL8HZiWDIAjxCRs7cLHdy/hR8cmyxz8O4OPMPBPAawH8MxEdA+AyAHcx88sB3OX9FgShQPT3A48+Cqxfr/7299vjBsbH3Y4XikNmNn5mfgrAU97/24loCMDhAM4AcIq3200A7gbwiazkEAQhGcGxA5vtPmjWsR0vFIdcbPxE1AdgFoCfA5juvRT0y+GQPGQQBKE+bLb7YKpxofgQM2dbAFEZwD0Armbm7xLRNmY+wLf9WWausfMT0YUALgSA6dOnz16zZg0AYGxsDOVyOVOZs0Dkzpc85R4fVwqxqwvo6Iheb2NsbAylUjnWMXmzdasy3RABzMrO39XVuDYSt479uLaResqoF1PZcdr23LlzNzHzCTUbmDmzBUAngLUAPuZb9zsAh3r/Hwrgd1HnmT17NmsGBwe5GRG58yUvuQcGmCdNYn7Ri9TfgYHw9WHceutg7GMawcgI88aN6i9z49pIkjr24yK3qYzg9WeF7fri1DeA+9igU7P06iEAKwAMMfNS36bbAZzr/X8ugNuykkEQssQ22Dk0FD952uio6kk3Q8I1W3bZPMkjQZ2pjHPPzSciOevry9LGfxKAcwD8PRH90ltOA/DvAE4loj8AONX7LQhNh20qzY0b3abYDJ6LKN4xExnXaUzTLmPv3nxezllfX5ZePRsAkGXzm7MqVxDywjbYOWdO/ACmvj5gw4Z4x7QyUQne8ggSM5URJKuI5LDre+ih+s8vkbuCkBBboNLMmfEDmHp7lelAgp6KEyQWLKNUMn8BZPFyzvr6Cug3IAjNgy1JWpLkadOmKTv/RE6aFyfBWx5JBoNlrF+v5OnsVEo/y5dzltcnil8Q6sQWqJQkgGmiBz3FTfCWR335y8g7o21W1yeKX2gIMkmHYKIZEry1wstZbPyCEZ2B0ZSHpV5kkg7BRpETvOlnYmgoPDtpMyCKX6jBr5gffDBdxSwThAtRFDHBm34mTj4ZOOYY9beZOy2i+IUqgop5//50FXMe/tdC81OEIDGNacBZ/9+snRZR/EIVWSvmZrDhCoIf0zOhadZOiyh+oYqsFXORbbiCYCIskKtZOy2i+IUqgoq5rS19xVxEG64g2PA/E5MmqXWlUnN3WsSdU6jB76v83HPq/7RpBZc4YeLgfybKZWBsrLldkUXxC0a0Yr777kZLIgjxyCpGpJU6K1bFT0QPArDO0sLMr85EIkEQCsm99wJ33gnMnw+cdFJ+5cZR5KtXK0+bri5ll1+xQkyJJsJs/KcDeAeA//aW93vLHQC+k71ogiAUhfnzgTe8AbjySvX3LW/Jp9w4wX4SI+KOVfEz86PM/CiAk5j5X5n5QW+5DEBOt10QhEZz773AunXV6+68U63PEpMiP/98FTlrQmJE3HHx6ukhojfoH0T0egA92YkkCEKR+N734q1Pi+Hh2jlud+8GZs0y9/wlRsQdF8W/AMCXiGiYiB4B8GUAF2QrliAIReEVr4i3Pi3uvx/Yvr12/e7dZhOOxIi4E+nVw8ybAPwdEU0FQMz8XPZiCYJQFM44A/jHfzSvz4rRUeCSS+zbbama806b3KxE9viJaDoRrQBwMzM/R0THENGCHGQTBKEA9PYCAwPKfq6XgYFslWpYmgQg3IRTpDw/RcXF1LMKwFoAh3m/fw/go1kJJAhC8ejvBx5/XM0L/Pjj2btI2tIkTJkiJpw0cFH8BzPzLQD2AwAzjwPYl6lUQma0Uk7xVmN8PN490feyCPfQJIuLfLb2aLLXL18O3HWXpPlIA5fI3R1EdBC8YC4iei0AsfM3ITq4BVCucTrviAS5NJ7Vq4E//xn43OfcAo/yDlQKK2/rVuVj798GRMsX1R7FXp8dLj3+jwG4HcDLiOheAF8HcFGmUgmp04o5xVsFfW/273cLPMo7UCmsvNFR1QMPbrvggnD5wtqj31df7PXZEKn4mfl+ACcDeD2AhQBeycy/zlowIV1aMad4qxA38CjvQKWw8oaHAaLqbURAe3u4fGHtMcxX34SYL+Pj4tUzGcBlAD7KzL8B0EdEp2cumZAqrZhTvJnx27/jBh7lHagUVl5fH8CBjF47dyrlHSZfWHsE7L76QVptSsS8cDH1fA3AHgCv834/DuCqzCQSMsE/WFYqqXU6v7h4SORLMP/M+vXqHrS1uQUe5R2oFFZeby9w5JG1x7S1qXZmk8/UHoO88AJw4412ucR8mRyXwd2XMfN7iKgfAJj5BaLgx53QDLRaTvFmxKSsFixQdvJf/Uq9BFzuSd4Dn2HlTZ6s3Cz9UbalEvDtbwMHHmiXz3/OPXuAN7+59kvh6quBhQvNx2tzka5HP7YAr7TJKgV01rgo/j1ENAkVr56XAdgdfohQVFopp3gzYlJWWkl1dKiBTFfyvpe6LG2r17+7upQrqp+9e5WdPko+/zV86lPApz9dvb2ry67AG22+bOYU0C6mns9ApWU+koi+BeAuAP8adRARrSSiESL6jW/dZ4noCSL6pbecllhyoYahIeCmm+zZC5P6fRfJX7zZScM+34j7MToKXHUVcNRRykR11FHq9+ioemFps01Pj+rtX355/DLe/e7aAd+oCN1GTYmYtWdV1vfYxatnHYCzAJwHYDWAE5j5bodzrwLwVsP6Zcx8nLfc4S6qEMZFF6nBrfPOU38vCjjcxslr7kf7aMc9rqg0+iVWr30+6X2sB13mpz8N7NqlFN2uXer3jBmqjQBqkHd8XG275pp48q1eDcyeXfEGch1/0vM333MPsHkz8OMf5xPglaVnVS73mJkjFyjFvxTAFwCc6XKMd1wfgN/4fn8WwL+4Hq+X2bNns2ZwcJCbkSzl3ryZWT121cvmzWr7yAjzpEnV2yZNUuvDGBlhXrp0MPZxRcBU3wMDSv4XvUj9HRjIXy7NyAjzxo3VdRnVRkz3sVRiXrs2u3tiKjO4LF06yKWSeZtrOwuW0d1dab9ZUc8zmfSZSuO8ceQGcB8bdCpx0BcrABF9GcDfQPX2AeA9AP7IzP8c9VIhoj4AP2DmV3m/Pwv15fA8gPsAfJyZn7UceyGACwFg+vTps9esWQMAGBsbQ7lcjiq6cGQp91/+Yu5p9PUBBx2k3Ot+/3tgny/RRns7cPTRamDOxs6dSu4tW8qxjisCwfoeHwcefFAFSWna2oBjj63N+d4ootqI6T4C6joA1TucNi1dmWxl+jnyyDE88US5qm79HHYYcOih8cpoawNe9jL1VZQV9T6TW7eqrwsipaLTqH+XZzWO3HPnzt3EzCfUbDC9DfwLgIeg0jHr320AHoo6js09/ukA2r1zXA1gpct5pMcfjvT4awnW98aNqqfvv5apU9X6opCkx5/1vam3x6+/SsLkspWR9VdZGs+k6cut3vPl0eN3Gdz9HYCjfL+PBJAocpeZn2bmfcy8H8BXAcxJch6hmpkzgUWLqtctWqTWA8ntyr29qhfTChNbtMLsTP772GOYAy+L6F1T2zn77OrfM2YAK1eq8k1oz5yoMoL+/M3gj592Som8YjRcPnIPAjBERBu93ycC+CkR3Q4AzPxO18KI6FBmfsr7eSaA34TtL7hz/fXAhz8MbNwIzJlTUfqapH7f06apz9lG+Sqn5SetH6gFC5SC2ru3OV9i+j4+8ADwrndVu4Vm9SIztR3/fXnoIeCVr1Qms717a493kau/X5klzzoL2LGjsj4vf/wikUeMhovivyLJiYloNYBTABxMRI9DuYWeQkTHQcUEDEPl/hEccFGAM2fWKnw/Sf2+G+X7n7afdKtke+ztBebPz/dFFmwDwd+2YKrubne5Zs1CzThBs32VpUXWz5zL1Iv3AICXmvlNAB5jNR1j1HGmR3RFbAmFXANFihKJaItwnTev/p5/URW+zsfvWvemSOzR0cZcX19fbdRtd7f6MgnrjPjp7QWWLQMuvrgSFJblyyxufbcSVhs/Ef2AiLQ3zqFQZpkLAHyDiGQGrpzIMwVvI3zEbZhswsytm0V09WrldRS37nt7gYcfVj7wed03UyzElVcq/31NRwfwta+5K31AyX3JJZUOzrJl2XVwktZ3qxA2uPsSVtk4AeB8AOuY+R0AXgP1AhByIK8UvLYXTDAUPy/K5Vqzwa5dan2rETcfv+nYvHLzmzoHu3YBN9xQvd/4OHDcce7n9V/H9u3q6+GSS7K5jnrqu1UIU/z+YZo3A7gDAJh5O7xpGIXsycsbxfaCCUudmyVjY5UwfM2kSWp9I8gy4jcs777LsXnl5re9ZJ5/3rz/xo3m9SbiXof/fsS9N1nWWaMjw10JU/xbiOgiIjoTwPFQ+XrgJWyzOG4JaZOXe5ftBWObLCNrwnLR503WJjDT180LL7h93eTppmpTmDY3zjkxnLXjXIf/fhxxBHD44fHuTVZ1ViRTaRRhin8BgFdCRdq+h5m3eetfC5WjX8gJnY9k/frs8pDYXjCNimpN8sLLoreVhynF9HVTKrl93eSZm9+mMKdMCY8jccH1OoL3Y88eJUOce6PLcp3/wIW8TW71Yn2smXkEwIcM6wcBDGYp1ETH5FmThzeKyd3x7ruzLTOuPDaCnk/f/GY6MoSlUU7rfph6mkTuPdC83FRtsRAdHdFxJC64XEdYDn7A/d7096uOlOv8B1Hk0U7SpCBZSgRNo3N8N8rd0eZG6iKPyfXz0UfTcW3Mw5SiFeqf/6x6oEl88vO6b2Gdg6g4kjQwuY36iXNv4s5/EEazRYa7pGwQcmJ0FLjggurPxfPPB265Jf9PxnvvBT7zmeooShNpmFfqtY2abM9E6QzWRZkg0jIvzZunkpJ9+9vh5jzX8rIcZOztVQpteLhy/jTKu/FGZbM/5RSV79/UDtavr01g1tlZe2/qnYA9OHh8551qsZ1HxyB0dalkaqWSkgUo6GCvKYFP0ZaJkqRt8WJ7oqvOzvzSCJ96aqXcJUsGef58835ppDlOI72t6RxLlw6mmrDMlIwrrTTP+jzLlg2Gnse1vKzTTwfP//WvD9Zd3vLl5jbvr++REeaurtp9Nm+uvjdaPt0m9P9BuWzPpP/6urqY29ujn8OBAbXNv9+iRdnchzSStFmVLYDrAVxnW2zHZbFMBMXvkgUxKsthGmzYUF3mkiWDDKj1UfImyQ6ZVtZM/bBOnar+3nrrYLwTxCSt6/efR6e0rnEAACAASURBVNe16Tyu5WWVJz7s/Fruel7cQYWul7VrK/utXRu9T9hz5JLlMslzODLCodlJ074PWWfnvA/AJgAlKHfOP3jLcQBCsnMLSTCZK4K0t2cfuXrnnW7r0/KFTss2GvR8SjsvfZC0rt/1PGnvlxSXdhq3PD3fcBqEyeciV5LncHi4MnNYGFnFVyTBqviZ+SZmvgnAywHMZebrmfl6qGCuGDF5ggthE0dr9u3LfrBo/ny39Wkp7DTdEdNOkRtGuVydogBIdv2u9Zj2fklxaadxy+vrq03OBihFOWtW5fesWbUxA8F96p2APclz2NcXPlFNnPLzwmVw9zAAU3y/y966CUfWA2YrVqjEViba21XO86yV2kkn1Sr5+fPVej9pKuw84hTSRM8Pq2e+cp0f1oS/Htvb7edxrW89yNjdrfzrXeVybdsmOQ45pL7B797e2nz+nZ3ATTfVengtDOTzXbiwdp96JmAPXl9XV3VvvrOz9jk0yd/VpWIZCjuXhcn+41+g8vQ8CjV5+ioAjwA4N+q4NJci2PjrHTBzlXvzZjXfqN82mOX8o7YZhDZsYL7iCuYf/GAw0fGNJk47iXMNWc0POzLC/MMfRg9IR8k6MKDszZMnK7v58uXRZSdp2345BgcHUxn8HhlR9nrbHMJxxi+0PMGBXz9hbcR/PVFyhcmfxfOR6eBu1U7AiwGc4S0vdjkmzaXRij+NAbM4cgcHKrPy5nF5MFt1MF0TVzllOYVj3LoOKpWRkWrPEpNnjOkcWbTtLAaZ0677Vm/bzMkGd/20AxgF8CyAo4noTel9cxSfPBNhAfmYPpotxDwLktRBUQJ1TLEPDzxQOwPW3r1qvY2s2nYW5y1K3bcCkYqfiP4DwL0APgngUm/5l4zlKhQuDS5t+3/WA5V5v8xcyDuzYZI6yDM3jg3bC2vbtuhjg2SlTLM4bxHqvlVw6fG/C8DfMvPbmfkd3uI8z24rENXgTL2voqdntT2Y5XJj5PbX4VFHAVddlb0MSZVT1l9kUW3H9sI64IDa9V1d1V4vQeIkR7PJpGey8m8LTgyfZNDXtE+WdV9vtK/pXEV9/l3s+z8CUI7aL8ul0TZ+jWmgxmTL7OystRsX0Z4YHEswRRrmIbctaKae8Y24Nv6sx1NcGBwcdBpzCLOf6+N7euJdT9ggZJhMAwMqStq2rVRSspRKlW0u15h19DFzdRtxifaNGqjV25cvr5Z9+fJ0B3hzGdwFcCuAhwHciAkcuTsywnzzzczXXVftwWEacDIpsHXrGiN3FH7vB5MyyUPusDpMOiCYhldP3h5L69YNOg+Ihr2w0pQ77CWjt/kjd4PbgsfZ2llUZyrN6GONbiMu0b5RLyK9fcoU83mmTEnvBZaG4neJl7vdWyYsq1cD55xTHaSxaJFKResS8NHImayi0Fkdf/ELc1rZtOU2ZeEMq8M8UtuaMlsmzZJaz2T1e/a4p/YNS2GcZqbOsHTDQPgYiem4jRujrzHvFMdhqZ47O9XgeDD76/nnq6klZ86sHnOxsX27+rtggbpvjR6XiLTxsxfBG1zyEK4I6IyZwci8G25QtsCgjbRUqn0YGjmTlSsm5bt7dyVIKQ1sWTh1HZZKtcfs2pWN10aYDTapx1O9WUb1S8ZP2JhDHpHKYeMgSbbNmRN9jXl770RF+wK1z+/u3WrsZPVqtzQPmkY7UGisjzUR3eL9fZCIfh1c8hOxsYTdJD2nqH/A6bHHgFWrijOTlSumiMe2NvVyS2MKuShl2t8P3H9/bc4TZuCZZ8KVdNxBtCgFncTbJw332I6O4nmt+F/KPT2VdMP6q8I2k5Vt0HjmzOhrzNt7x1+e7nz4o7FnzTK/GHbvVve4XDZv7+mpXVcY91OT/UeZhnCo93eGabEdl8XSSBt/WOa9sGjNoJ21iIO7JoKRw0uWDKZiX3UJvjHtM2mSksc2eKjtqt3d1VGqtvp2sR8nsTGnEVzktzkXKRo6asB43bpBq7z1jJ8krQfX44JtJCzad2CgNqLef4+DYy56QFcP9MYdbI8jdxhIYON/DxHdC+ABZh7P9vVTXHQeDpONP2y2oaR21npsxGkwNqZ6Pf5ZjtKwr7p8vpv20XZTLY+2ker//XbVD3kThQbzufhxsR/bphgMu/40zRONmgXNhMl+HbRTh81kFbwWf/uOmv0qST3UM4NdWHn9/cqmP2tW9bOh7/GJJ5rHXB5+WL0igMrfIhBmwT0CwLUARojobiK6hojeTkQZJ7wtHv39wFNPATffDFx3HbB5sxrYTZugCeLGG/P3Bc7Kvmr6fF+2rHoWp+A+3d21k5BrJW1L5XvxxelE3sbxF9fKbNkyJW+5rBTPlVemo8CHhlTCsqEhe/lJ20nUWMcdd9TWc9DsNT6u0nbfcov6a/ODt5nYTDIkuSabuc0mjyn+IKz8mTOBa6+1J8ALjrloeXbtUjPZ7dpVoOh402eAfwHQBeD1UNG6twJ4EsDmqOPSXIrgzlkvSSdiSdMNzBX/Z+vSpYOplm3zdTa5I4a5/m3eXJuXRtfXxo3h9Z2m737Qze/kk6vlWbTI/VwmmRctCj9fPf7uUf75NvdEv9lrYID5C18YNO7jP6fNfGZqB0mvyTSDXXe3SlYXPJcp/iCqbYaZFk1kldcpLz/+FwF4K4DFANZDTdDyNYfjVgIYAfAb37ppANZBTeiyDsCBUefhCaL4o+IBsvBjDkM/BFn48cexoZuUtF5nGnvR53F50dZrR3eZrSlqLMhPUObNm8PPV4+/u4t/frDccrlWmZdKtTNwmc5pat/lcq3d3HRfTWMwpkBK11mwdIfCL7cOurS96FziD+LUcT1kmqSNiL7i2fhvBvA6AP8D4GxmPoGZz3f4mFjlvTD8XAbgLmZ+OYC7vN8CouMB8nYD05+tWXgjxfGaCZpc5s2rfM77J0Ipl+N5f6ThCunqxrd+fbLza68x2/p68i2FHWs6vlRSLsx+s5fLzFP6nDYTW1CGtrbac7a1VRLN2cxFw8P2uSyC8uhYgqAsL7xQ8bd3OaYZ8jrZCLPxHwWgG8CfATwB4HEAzmmgmPnHALYGVp8BQMcA3ASVB0hAdSOZMqV2e2HcwFIg7jiCX0mbFFa5XKuU8sAleA8ALr00mUvsnDnh6+sZjwk7tlyuDUbatUuV61dafX3KTh6GPqdJCV57be3x+/fXxszs2AGccYYa87K5zLreC1ssQZJjkuZ1KkIeH1JfA5aNRATglVA2/tcDeBWUMv8pM38m8uREfQB+wMyv8n5vY+YDfNufZeYDLcdeCOBCAJg+ffrsNWvWAADGxsZQLpddrq1QuMo9Pq4a2M6dwJYtAJH6SJwxw30eWX2Orq76e+xZ1ffWrepBCF5flOzj48CDD1ZP1dfWBhx7bPX+ebWT4HWUy8Dzz9fuZ5IxiEnmLVuAkZHK70MOAY480l5+nHZiO3bnTuB3v6uuYyLgFa8AJk+uPn54GDj88DE8/ni13DrwLyhP8P6aZADUuuB0jERq8a9vbweOPlrJpc8FmKdyJFKKeto0te/4+BiefLL8132DqjB4DfXUtSaNc8Rp23Pnzt3EzCfUbDDZf4ILlIfPe6C8fP4IYJvjcX2otvFvC2x/1uU8E8HGbyKJHTrt5FZZ1nfw+lxldxmczbOdBK/j5ptr7c22Qb3gTFYmNm9mXrXKPlZQj0+8a+LBsFgHbSvv6lLXHjbrlatsl11Wa2vXg6ou9n89QKvbyOLFtfL44w9sfvhp5m9Ky+af6eAugI8AWANgC4A/AfgGgA8D+DsAbbbjAucIKv7foRIYdiiA37mcZ6Iq/rhkMZiUV33HlT3qAWx0FleXawm+6G69ddB4rnoHoZN0BqJerv7BWq3405qJzDZQ6/cCcvHICqu7kZHaqS6zDpxLy8sn6xm4+gB8B8AcZn4pM5/DzF9m5l8xs+FDyonbAZzr/X8ugNsSnqduGm1ny6L8LCZXCfN1TpO4sicZnHWt83rvjcug3tCQSvTlt1c/+milzNFRNSfBUUclz/2jzxOVSiJu3vvRUeCRR6oH14GKzTtp/enjHnigeuJyzeWXq+A8V5u5rY3oAeLf/742Z1RfX3VsSZoUagYx09sgjQXAagBPAdgLNTC8AMBBUN48f/D+TnM5V9o9/jxyfQcx5f5Ou/y0e/xhudbTJm3Zg+0krhkpjWu29SBt4f9Llw5Whf+n4dIb1cuMe70DA8qk4z+f7vF3dprndHDBL0dHR+21l0rma1++XNWla7yLyUSl69V2rjS/BNKIIcltsvVGL2kq/rxyfQcJy/2dZvlpBSeF5VrPiqDsJrusK/524lrnebSNMN//JUsGecMG+/YkZoG4/vpR5jWTbC5+/EnrRC8XXFB73PLl8cuzmag+8QnzucICDZNS74skz8nWW4ZGzzWbdflpTU3XiHrSsl96qXr0lixJbuLw43oteVxzmO8/kcrtYtuexCwQZnaKe73Dw/HTdLvUn0s8xLe+VWueuvji2v3a28PLM5lb9uwBvvjF2n3b2lQZ9WRcNZFHOu0oJpzib7SdLY/y02hYjayna65R9uO0HjbXa8njmsP8zYnsPub+dMhxsXUG4l5vX5/ZTTIMl/pz8cHv6qpW6LaXRVR5/hdhe7uq13PPNY8paLdTP0XJp18vE07xNzqartHluxKWaz1Lsuh1u9Z5HvfGNO9BqaT+nzHDnK9+8WI1z0M9wWmmzkDc69X7++9Pe7t6YenjFy2KX39BOWzxG8FMrqbgsWuvjS5PvwinT1eyDwyorLRBrrmmtgz/i6XRDiJ1YbL/FG3Jwp0z75znttzfRcm5biMs13oWZOnr7FrnSe9NlL+9qQy/z3twXKJeX3hXkpS1dq1aRkZq20hSWfzHuQzaxk2aFixr6dLasQmdP0ifyzZm1ggHEY0M7jYRIrc7eXs+pEFYFk1XRZhU5kYqIeb06zr4UgwLCEv6ktm4kXnZssEapb9qVXTQVqMcRDQyuBuTvD7N0i6nyJ+UWcgW5UOedV3ELWNoSOUK8qPnZA6b5jEqz76LLHFy0Efl3r/lFjXPRJg8puN27nSvqzAZhobUZDpHHqnqa/Zs4OtfV39PPVXFNFx1VfWxrr73wXJN4xX79gGnnWafOCY4GbyfprP9m94GRVvS6PHn1SuylVN0uW245LXP0uc9aXl51veqVVxjMgCYr7vO3jM0fSHYYg/CTBkmP/1SqXa6yqjc+0HfeZd5BPQ5ly0bdI4BsMkQrI+wJa7JxbRPcB6Bzs7aY23nboUef8OVustSr+JP+0aF5T2xlVMEuZNQz9y1rgQfMFOelLjlxa1vbbdOkjZiwwazgrr5ZnPw1M03m/f/0Y8Gq85t8m0PKn8XH/hSqXYfHRBlS48A1I5V+Nt9WCCUra5sdWubdyBK+bvkyDeVq+sjLEYlqr2lOZlPXMTU40ian2Zhn+5pfwIW+ZMyLdlMpooPfQh485tr862nVV7Q1KDv6Vln1aYjtpXhbwenngrMn1+9fdEiYO5cs7vk00+bZduxo/K/69SSLtNVtrfX+t/v2qXSHA8PK88WE/75AEzTggZhDo8BsN0/27wDYbjmyDeVa6oPl+P8+6QVL9MoJoTiT8s/OyrvSdp+4I2OOQgjLdls/tjbt0fnW49bnuml7b+nfsUbVoapHfzkJ8CGDcCqVZU5mW3uknqy+CA9PZX/bb7tpheRXwnpCUv87NtXm+MeUO6K5bJS2CZ03n/T9V59tTlnvy1bcNj9s8070N2tXqClUu22vXtVffonPvefM6zcfftq7fsux+3eXX19RQjESsqEUPxp+WdH9QLSKMffI83T5z/ugKZJtssvj1+u68xj9daF7aX9wAPmF09Pj70MWzvo6lLBQDNnVtabeoYzZyqF5ieo4Hp7lU96kH37zC87rYRMcQArVwKf/GTtMZ2dyn995crar4tFiyrXYes1B2e8mjTJ7A+v5bPdP1N9nH22movg+utVDMNll1UmOe/qUv71F16oFHhnp71NmMpduTI6RsUUb9HWpgaak0aSF8pJw2T/KdqSljtnvb7zcXK+BMtxkTtsMClLX/qwATKXuWsXL1Z206SDvLr8ctlsy3VNnevfFpTblqzMZNcvlSo+6qby0hrfCPr9m+r6859XA489Pe5JyEwukFEyj4yosYfrrjPb9k3H6rEBFxt/UD7TfrY4CP8gd1eXqo+gLPp+xSnXJUZl8+boOQBcSNMRQgZ3G0DSQR0XBdqIgdyocvOSWz+YcfKt+4nKbR8mZ5IgnSwG95J49YTVgc1LJYnMYZPeu3r1JMGkeINL0nkAXHRJGjn0036201D8GUyl3dr09ysbbdC3t17057TfbqoTToWVYfIzrrfc/fuB224DPvjBZMf7zTM2WfWxWm69nHiiGmSNc01+M46WQ+e218frT/cFC5R8e/dWPu9N99R0zgULgOOOU+aMefNUGSY5Xe+J3q9cVuf0pwfwl6+55BJVN6ZzmuS94AIl75Yt6ve8ecCmTWpQdM6capOUTSZ9Df39yszy/e8D73oXcPrplXP+4heqLpLUgalsfczq1WrOgqAdP8jevUreX/yiurykz4b/ONexpdHRyvjKrFnV5cV5RnLD9DYo2lKkHn9SkvScTe57ftL4fAxzB3zNa9TncNzjTb0Zv6ydnWpxzaEehalXtmzZYORUh2EsXlxbHyb/+OA5Xe6J3zym627SJJVCQO8ft6dp2h9gJqr8396u6j3qi8Avk97v1FOrzzt/fuW4pHMfhB2jv/xM7bKzs/rrY9EiVZc9PepvVNyCTW5mc6qIqC+l4BwFwZiAIvb4G67UXZaJoPiZ4+UXT9uP3vY5/YUvDEY+uFEPRpSveb0mLdP5ly4drGssx+bbHpTbn6+9VKqdpCR4bbZJVrStXO8fdn9t4w4uMttkC7tHwWvSy4YN6tgkcx9E3b/ubvP1dHerOvSPZQRt/h0dbjIEn0nb87d2rT1thK3eghPHpGkaFD/+FuP449XntB+bH3maPv79/bVeFRrm6LTIUT7NUfnWicxuiK6YPDdmzEj+GT08XOuxAtSu6+iozte+a1etWcB/T0zmmyBRXkzr15vjSHp7zZ47Yfhlc8mJH+TOO2vXJWmXpmM6OmqndgSAu+5S7UubBbdsUaYXP+PjtbEJUTIMDQEXXVS7/oUXlHlt9mw1V4LJw8s0R0FwXoCi+f2L4i8QplSzNl/1tH38zzzTvs3lhRLm0xzlsrlzp7Ib1zPhSvDBmjYt+blM8nZ31z7gpnztQfz3xEW5+vcPXtO8eeFxJAsX1gZvuZYVdo9MMQBAbdCa7TxR7dJ0zPh47Yu2VHJ/OQVlDpNh9Wpllw++QDQ7dtjnhbDNUWByuy2S378o/gIRx1c9bR//k04yP8hA/UFjflltpDHhSloPlqluv/a12nXXXlv7ou7stN+TMOU6aZJ6sZj8yfU1xY0jMU0uAqivyqBsYfeorQ04+eTqdfPnqzYDqDqoJ/bEdMy119a+aIlq2+GsWbV10tWljneRQX+FRQ0gA+YOkGmOgs5OFStQBAVvxWT/KdoyUWz8mjh++2n7+G/YwHzWWcqWOnVq9YBjvZgGNf1LT4+yp6ZBGu3EZkv3rzPZbsPuiWleYW0/TmsgPcr+Hebzvnatug+mQeUNG5ivuKJi29fXs3TpYCqxJy51a0LvF4x1iJJhcHDQOije2VmbuC5srELneoqKJ0gDGdxtAEkVbSPkrueloI+NUkZJ5TIFTulBsSjl6UKe9R1XVtv+LpP1xBkkTOKDbhtoNU0uo/cNS3ZWL651m6S9DA4Ohl6v7YXSaGRwN2fCErSlRVph3a6y2srTJgZTorAooq6ht1eZChYsqN22a5dKe1BPPcfNEV8vuq4A83Xr+tA58oFqk5Te7jcb2e6faZAwWN/6d7kc397uN7voFBKmVAWjo8Add9S2j85ONVAflvc/bmoQl3z7UWa+sHa+bFklHYQ2M42NAc8/r14FQOVvnGtxmW+hYZjeBkVbitDjr9d9UvcuwnolQd/jxYuT99bj+tbH8XUOw9WHe2TE7iZYj7tnHtGkYeUGrzvMNz54nDarxWlrwXIXLTL/jttrDUtV4I8o1m6ofhNJVLRzPf79Se5n2BwZwejoBQuqr812D6JSiYfNyFYvYurJkXpDt2+9dTC0AYf5A8dt7C6yuiqXOHPuxlFYa9e6KX1bPdvs77r8tPLHuGC7blO++LDt2o9/7Vq3thYVHwGol2t3d3VwkwtxchstWTLI5XJ4HENa/v1xTUlh51i3bjCy/kz3wFbvOujr8583H+8yF7MLYurJkXrcJ0dH1We5zQ0PsLv67doV39vFRVYXf+vVq4EHH3Q3uWQ1f0BQ9iVLgMMPV/nu683Zn4b5zlauKV981HbtiePS1lzcQ/fsUR4rO3bEa0u2NgTUltnWpqaavO22Wq8gXf9p+ffHbU9h59i50+yDb0Pfg6hU4rYstUnmHcgKUfyO1OM+aZrsItiAw1z9OjriNXYXWaNeDtrNbf9++8sqSJyX46xZdnfDMJfIBQuASy9V5w36V8d9OceZrzYMW7lz5tjdBPV2U077WbPc2lpUfIQJV8Vpa0OzZpnLPO008zZd/yZZ9+wBnn3WXs9pxKrYznH//cAf/2iegyFIuVx9D6Lq3fYyts070BBMnwFFW4pg6tEkdVNbunTQ2eZu+kyMyszoImscdzn9qe+337qYtuJ4nQwMVJsH/PZvUz3bpujr6ansu3ixOsfSpYORGS1d56t1wZa90mT68F+j391yyZJB7uy03y+XcrVNX/82pTCux8XSVKY/E2rY/fdv6+xUdeOv53q9mFzrSKfZ8Ldtfe+D9WeaBtR/TttYwAUXVK8TGz8zAAwDeBDAL22C+ZciKf6kaBt/VAMeGWH+yEfMjakeN7m4uf5HRpQCTOKqlyQOwZYLxY9tUvPOzuqcOR0dKsdQVBI4Fxt5nHr3X7fNTdCf7z744lmyZDBRiuGwF3wW6aODZbi4ofq3mcYJurrsczqkEaviP4epU+OPIYnrQvr5z6t7Wy5Xy26bX6Beml3xH+y6fysofhevHmZ7wrSkOceZkw2Saa8E/XC0tTXej9nW4//MZ8wDji7X6leM3d2150la77bAIL93TfC++JO0pUkaijOMuM+krW7S7OiEkWb8Qdw5E9JABncLhIt/souvsS18PDjfZxziDpINDanBOj/796vc7lpOfa2m6x4dVQm87rwzXV960xR973sf8PrXhw/ShV3rvHlqntyrrlIJwIIkTVdhswPrcYnzzweeeabajm5K2RCHqJgM17kNbrlFTXkY5X+uy9u1q/4xkSBxB3HjtDk9fuGfenHZsuhYAVOZeoxo+3b1jF5ySUGmVoyA1Esh50KJHgHwLAAGcCMzf8Wwz4UALgSA6dOnz16zZg0AYGxsDOWkGjAjtm5VXjtEqv8wY0ZtkjAXuXfuBH7/e3NSLK3YTOeOYnxceef4k0m1tQHHHlsJwBkfryQde+65ykN3xBFjePxxJXdfn7pGfa36fG1tlesG1LG6Wen8KtOmVZeRJDBM8/TTwBNPVOobqPzV+OUOXqtm69ZqWYP4ZU+CbheAOZGXPv/Uqape9u0bw5Qpydq2Sxv0Y7oXpvo45BDgyCPDr+2ww8bw5JNK7mC5tnu+ZQswMmKXz3bPTDzzjJqX19Tmwti+fQzt7WXs3Knkca07jel5bW8Hjj5aXa8/iV8a7V4TRwfOnTt3EzOfULPB9BmQ9QLgMO/vIQB+BeBNYfsX2dTjakZxkTttm7Mfl0E3bV/1+yH7P4c3bAiXr1Qy51Avlapt8PXYml3qKCi36fPb9Tz1frrbxmxM9zOsjUTZzeOY8kzjPSMj9nz+UXPw2kwmYeNKNht/3LEIUw593eZs16/rct06c8qGOGNZpmP9bV3PEZzGXLuapjX1MPOT3t8RAN8DUCRHp1ik6buuP0F1qLyJenLum/KBm1war7hCTdvnZ9EidZ1hfuPt7bVuq4Ba589bX08mzrh546dMUfMcmM7j4sN98cX1f7rfeKN9m8v9jIo1iNMGbS6sDzxgvndArf952D3Q5drK0dMaBo8vlVQcQJx89aOj6v6YCObD1/jr8sEH1b1J+vyaXF6XLVPmHn3de/Yoc2G97T5tclf8RNRDRFP0/wDmA/hN3nKkRdp58fv71QPQ02PeXs+5TbZem9L40IeAzZtVWZs3K5tvlG123z6z2WTfvvRejnF918fH3eczMFFvAFrUiyrqfoYpUE2cNmi734Dd5BX0Pw+ru7AgJ12XNnlnzYqXVnt42G46MeXDD9bl/v3A1VfX9/wGO1THHx9+v9MIaEyDRvT4pwPYQES/ArARwA+Z+b+zKCithGdhpJ0XH1APgMkmXO+5TfURpjRmzgQOOgg4+OBKcjH/tXZ1qYasr3vlSrUEc5Nfd537BDNR6KRaNt75TiVLe3s692JsTAX7JMU0uQ6gergu8j3wQO2XSVB5xGmDYUp35cpaRbpoUe2k7P7ydKRu8HrC2lVaz4ytbgE1G5lptixT7v7LL69PFn+HKqpDUe/cFqlhsv8UbUli408juVMcolzmkiQ78wf/tLfXZ28Oqw+b/V/5gQ/W+FcH/dVNOXOCucnDyojrarhxI/PkyWbb7uTJOifNYOg5bS6FwRzsabgWBl3+Pv95t7TMOsDNVZ6ogL2gPCZ7+sgI8803V8cb2NDn/8EPBo3+6i5zMdfrZmqy8dvs+2Hus2m6vPqvW9v404yjaFo//rhLXMWfRnKntImr+E2DbUmvwaU+bFG9wejGeurRVkbcSTzCBiL1EjXZuuvgLlBfDIXt2k1ETVoOKCWSRlbLtBSdbSKWtMsJY/lycwCVTV6tlJNMMhQ3uCvtlwqzKH4r9WbSzII40Y3M6V5D3HP5lU5Q8ceVISwy2PQy0lGQUVG3AwO1dVd/SAAAE9RJREFU6QiCit81vURwxqm0e/yu+NvIxo3mdABdXW5KJ4+OT5qBUGnIEjdaPGySIdP58rYi2Ghar56sSXvANW1cMkKmeQ1xzxU2IBlHhrDrNJWxf79KwLZ7dyXT4QUXmINy+vuVL/9115nniWWOllMPzH33u2ZPKtPctHlhsxV3dUUPDmaVJbVR5bgQJ0gtapIhU7t1GWRvJlpS8Wcx4JoWrg1ID2J2dQGTJyvFlPQa4taHTenEkcF0nRdcULnOcllFfPoxRSzv2gWceaYKIgq6Rfb2Au99r3mA76ijquW0zVIFqNnAVq6sDFCWSsDy5SqSN+j6GjWzVNzMnjZ6e9VMUEFM3ipBXF/0SZwf/Me4lBNWL67l5+Gk4S/L5u5qmm3M9pLLU+ZEmD4DirYkDeDKw77oipbb1ewSNGW42nbDMA26mvZZvLgyyKkzRsadDcw2eLp4ceWTOZi5Msx0o5fgAPfIiPk8/s/4qFmqBgaiZ0xyGRzX5hX9f9z7ZWrbcezXQXn99RJsP2nNhqVt/GGBgaZ6cS0/S/OKqb5tz+dll7mbALM2CYmNv2CEvWi03K4DrXG8OVyJapCmtNBLlgyGRkHasF1DqeQ+qGpaururZbE9qD/84eBf5YgqLypi1XQOXSdh5497v2xtO0kHxuYcsHateWYwv6w2Ty3bMevWDfLatcobSHcqwupFR+lG1ZWtTJdMrlF1Y7Px28o0tRHXiPC0xz3Exl8gXGdycjG7DA8rP/QgbW3J7adRJib/9iAuduUgvb3KlzpIe7s9YrZUqkx6bctr0t6uPrs1NnODtj3HjfT1oyNWTefYtUuZnlyiWOsljv1aMzys6tLPCy8AZ52lfPaDaFlt7TjMnv/888DppwPveQ/wlrcARxxhjojV7NlTa+Yz1ZWtbmfNSj5jWjByN3i86fm8/PLauiyXayPCwyagL0LQVhWmt0HRlqL3+F3e8nFzlqfd448yMdlMM/WkCrb1lG0mnWBvzpaHJej6qSdf8Zsbwr6wXBd/j992P6Lm1U2jx58E02TpYYvtWvx+7rbe9xe+MGj8iopT7649fttxLl9FYX78pn3D5lYIHhc1MYv0+FuQJN4NYb243l412OifmrCrq74B6qiBONuALlG6g8pf/KJ5X/3lM3NmpV4WLlSDrMG61V8rN96oem9LlqhH7NJLa/O8mGQI5iECwiNWbV8vnZ0qsnfFitppJDs7zfWWx6Df6tXA7NmVL6tgbxVQ9dDdXf3VOTZmb8e2L9WxMXOOn/b2SkSsyetK09NjdzYIltndbZ7TV7eDqK+AOM+p//mM+koPpmfWNNIrLBLT26BoSyv2+F3PGzUYG4eoSMrg9sWLw32dXfH3nkxfFv7Zj0ysXVvra18u1/Zo/XUe9oVl8pGfOlXZqG0zJoXdY1e7btQYS5IgPxdbfHe3ua6CtvIkgX4jI+Yef7AnvmGDWQaXtq3PYfoiMX1ZhPXiXXv8cep71ara9lQuq/VZOJbI4G6BiFKqRZHb1nj9n7X+l03acscd/NLymJSZSXlr01VUiuMkA3C2e+ziqeXaOXAdyLW9RGyymMxhca4xjFtvHawy33V1mY/LYv7cxYvjBSfWG7lrOlce5h0/ovgLhotXT5xzpdXbD5NLuwvqSNmgq6N/Iu20cFUAftn05NzBCbODL4OvflXVWfBLJVgHSZVQXI8XjcvLQc/LHOUGaLLfu3x9uL5U4u73ox/VevWkcW5b+49rf4+SO8kzZht/mDw5GxdOP6L4m4g4cgd9+G09KNdz2ZSJbfDUv0TlvPETx+0wal9b8i3/Q6pfDKaB1y98odKbC8sJlNbLNcpvPkpBjYyounYxF0XNyZzVBOtBOSZNUos2maRVVlRd1ru/PsZvoor7jNmcIfRkRKL4RfEzs3tyubVrzQ92UOm5ENX7c/H6WLbMnvPGr7x1Jsmenvobvk22crlWudny7GhlFOapEvZSjPMS0/tH+aaHKeSNG1VdxzUX2cqKK3/YdUV94aSZq8d2jWHt31T3UTNwlUr1JSAMuxfNYOoRr56CoP2LzzrLnrrgrLPi+S6HeTG4+rczm1MEBP29P/ABJeOOHervuecm91yxyaa9kPxeFDt22M/T1qZ88U118MAD9rgG15iMoMxB75mgx4htFjRAXRdz7fWWyxUvIFu9dHfXeo7o3PBxJxD3E8enX5PGxDWmOI+w9m+qex1nAdR6UqURJ+P39DFNmlRI330fovgLgKsi27EjPHFZkDAXTtskFtqtUeetmTHD7JIYVJrBiWP27q0OtIqDTbarrlJ/TUEyJvbvV7NHmepgcLA2WC3qhRAls0t+HJsbb2+vqmu/y+CCBcotUyve+++vLaO7W8kcnKowycvLT1jAn8sMXEnp6zNPQgRU2r9pBjJTZ+maa8yunn191ROka/bvjyd7WJK/IiWFNCGKvwDEjS517f2H+R/beixa4TIDmzYB06bVL29c/LLpnlyppPzCDz8c+PCHq/2lTej4g5kzzfOimuIJ9u4Ftm2LnvEqSuakiQGnTat8EWzapI73K95LLlGy+8v42tdqZ8hKI5Nk2Ndib6+6FyYuv7w+n3Vdj3GmL7TFWXR0mOd6BlScjD/+IGmcTG9vJclfEZNCWjHZf4q2tLqN32aLv/lmtYRNOmLyxzadPyxK2OSHrO3LJrlHRqITqrnkjY/CNfq0s1MN9Po9S8K8emwDc2efbbbb1uvr7UowH7/NCyiqjDTmcnAZjNbtUtvKk+R0Citf38+keX26u2tnavPXg84xlFacTFrjKlHI4G4TESV32MBf2EBmqaQaeE9Pcq+KsIfcFAi1dm2t4u/oqAzupuXdYVPQLop53brB0JedSUnYBhXzmnAjagYu1xdQPcf6cc1YumzZYKYujK5eSqYpD8PaStQzmZcij4so/ibC1avHNluV7v2EeRKYetpxA4KCD5df7rAX0NSpSsY0H5QozwlbbzZqOsDg9ZZKzAsX1n71REUUp41pzt2kbpn1unS6vjxGRlQm1CT3fPNme6S0SZ44/v+2zLD+egh7Josy25YJUfxNRFK5bbnkp061m0G0svIfWypF59Q3PVyuyc6ycl/TbqKuPX4tp4uL4chIJaLVFH3pT73sOn9qWqaeNM5Xz7FxzEVJ2nbU10Q9uKYFCUuDncYXU1aIO2eLYxqkW7FCDfytXw98/evux+7aBXz609Epo22J42wDumFJttKgvx+47Tazy5xO2uUvO27CvGuuqU2updm/H7jyyopXyBFHqMHloKfM6Kjysrrssvo8aUwkScmcxrFZTl86NATccEP1uhtuUOvTwCT7/v3mdNQmijSlZFY4OMUJjUI3QL/boc4IeeKJqoF3dqoH0r991izzsUDFs2HevHgKwfQwlUrKlW3WrGw9GGbNqnXxK5XUCyFYdhyFZasjzZ49FQXl3+e559TfBQtULvqPfKS6TL1vknouCtq7ZsGCShtL6+Wu5zkwrQ96KCUhSnYdE2FyGQaKP2d3GkiPv8BENcDeXuCmm5QS7OlRf6+4wn6sJknvxeSuuHKlcmXLWrHFKVvv29YW7VoXVkcutLcrd8E067lIhAWc1cOcOfHWJ8Eme9RELECx5+xOC1H8BcalAfb3A489pswMgMpNP2OGavArVtQGlgDJey/+h2nTJuBv/ia/yaTjKKH+fuDYY6P3DdZvqRQvPmHvXnMEqH97s/cS04gADjJzpprvwI9//oO0CJq6gubP/fvt8Q2m9lb4CdRjIIq/4LgqvGuuUXZ8f6DKvHnqpbB4cXq9l95e4OGHqyNK07Blu5btarPu6HDb11+/jz0GrFpVXVeLFlV+d3WpXrzedu21aujPRKv0EuuNALZx/fXA5s2qvjdvVr+zJq7t3t/esqqHRiE2/iZAR9rasI0FDA+rhvupT6nZrIaHVe+tHmXk7zW1gi0bqK7f/n51Lf66uuKKym+getvUqSovkR5n6egAPvMZVd/NWh+arO/1zJnp9/LDSGq7b8U23xDFT0RvBXAtgHYA/8XM/94IOVoFlwYd9fJwJewl06wPQZBgXZl+++noUHWwb5/6Cli4MB85s6bV7nVw0Letze2rrNXqAWiAqYeI2gF8CcDbABwDoJ+IjslbjlYiz8GoieDx4Iq/J7hzp0oUdsklrWEDBlrzXvtNe8ce6zZg3Yr10Agb/xwADzPzn5h5D4A1AM5ogBwtRVYeGEEmgseDK63u792q91rb7l0yvOr9W60eiG2jU1kVSPQPAN7KzB/0fp8D4DXMvCiw34UALgSA6dOnz16zZg0AYGxsDOVyOVeZ06DV5B4fV72gri73ByhP8qjv8XHlEuiPMWhrUz3JJHVS1DYSda+LKncUceUuSpuPI/fcuXM3MfMJNRtM4bxZLgDOhrLr69/nALg+7JiJnLKh0Yjc4aQ5zaHUdb5MBLlhSdnQiPfW4wCO9P0+AsCTDZBDEOrG5AUkCEWnEYr/FwBeTkQvAfAEgPcCeF8D5BCEVEjLY0oQ8iJ3xc/M40S0CMBaKHfOlcz8UN5yCIIgTFQaMkTBzHcAuKMRZQuCIEx0JGWDIAjCBEMUvyAIwgRDFL8gCMIEI/cAriQQ0SiAR72fBwN4poHiJEXkzpdmlLsZZQZE7ryJI/cMZq7xOWsKxe+HiO5jUyRawRG586UZ5W5GmQGRO2/SkFtMPYIgCBMMUfyCIAgTjGZU/F9ptAAJEbnzpRnlbkaZAZE7b+qWu+ls/IIgCEJ9NGOPXxAEQagDUfyCIAgTjKZS/ER0ERH9jogeIqL/9K3/NyJ62Nv2lkbKaIOI/oWImIgO9n4TEV3nyf1rIjq+0TJqiOjzRPRbT67vEdEBvm2Frmsieqsn28NEdFmj5bFBREcS0SARDXnt+WJv/TQiWkdEf/D+HthoWYMQUTsRPUBEP/B+v4SIfu7JfDMRdUWdI2+I6AAi+o7XroeI6HVNUteXeO3jN0S0mohKqdS3KUl/ERcAcwGsB9Dt/T7E+3sMgF8B6AbwEgB/BNDeaHkDsh8JlY30UQAHe+tOA/AjAATgtQB+3mg5ffLOB9Dh/f8fAP6jGeoaKtvrHwG8FECXJ+sxjZbLIuuhAI73/p8C4Pde/f4ngMu89Zfpui/SAuBjAAYA/MD7fQuA93r/LwfwT42W0SDzTQA+6P3fBeCAotc1gMMBPAJgkq+ez0ujvpupx/9PAP6dmXcDADOPeOvPALCGmXcz8yMAHoaa17dILAPwrwD8I+lnAPg6K34G4AAiOrQh0gVg5juZedz7+TOoyXKA4td108znzMxPMfP93v/bAQxBPehnQCkpeH/f1RgJzRDREQDeDuC/vN8E4O8BfMfbpYgyTwXwJgArAICZ9zDzNhS8rj06AEwiog4AkwE8hRTqu5kU/9EA3uh94txDRCd66w8HsMW33+PeukJARO8E8AQz/yqwqdBy+7gA6ssEKL7MRZfPCBH1AZgF4OcApjPzU4B6OQA4pHGSGfkiVCdGzzR8EIBtvo5CEev8pQBGAXzNM1H9FxH1oOB1zcxPAFgC4DEohf8cgE1Iob4LNU02Ea0H8GLDpk9CyXoglFnkRAC3ENFLoUwlQXL1UY2Q+3Io00nNYYZ1uckdJjMz3+bt80kA4wC+pQ8z7F8kf+Ciy1cDEZUB3Argo8z8vOpAFxMiOh3ACDNvIqJT9GrDrkWr8w4AxwO4iJl/TkTXQpl2Co035nAGlFl1G4BvA3ibYdfY9V0oxc/M82zbiOifAHyXlWFrIxHth0pW1PA5fG1yE9GxUDftV94DfQSA+4loDhosd1hdAwARnQvgdABv9uocKEBdR1B0+aogok4opf8tZv6ut/ppIjqUmZ/yTH8j9jPkzkkA3klEpwEoAZgK9QVwABF1eL3QItb54wAeZ+afe7+/A6X4i1zXADAPwCPMPAoARPRdAK9HCvXdTKae70PZtkBER0MN0DwD4HYA7yWibm8e35cD2NgwKX0w84PMfAgz9zFzH1QDPJ6Z/wwl9//yvHteC+A5/dnZaIjorQA+AeCdzLzTt6mwde3x1/mcPU+H90LJXDg82/gKAEPMvNS36XYA53r/nwvgtrxls8HM/8bMR3ht+b0A/i8zvx/AIIB/8HYrlMwA4D1vW4job71VbwawGQWua4/HALyWiCZ77UXLXX99N3rkOsYIdxeAbwL4DYD7Afy9b9snobw5fgfgbY2WNeQahlHx6iEAX/LkfhDACY2Wzyfnw1C28l96y/JmqWsob6nfezJ+stHyhMj5BqhP9F/76vk0KJv5XQD+4P2d1mhZLfKfgopXz0uhOgAPQ5kjuhstn0He4wDc59X396HMxoWvawCfA/BbT+99A8qjru76lpQNgiAIE4xmMvUIgiAIKSCKXxAEYYIhil8QBGGCIYpfEARhgiGKXxAEYYIhil8QHCCisRj7nkJEr89SHkGoB1H8gpA+p0BFWApCIRE/fkFwgIjGmLkcWPcOAJ+CCi78C4D3A5gEldF0H1RisIuY+Sc5iysIoYjiFwQHLIr/QKhMiUxEHwQwk5k/TkSfBTDGzEsaIasgRFGoJG2C0GQcAeBmL8FXF9SkGYJQeMTGLwjJuR7ADcx8LICFUBkrBaHwiOIXhOS8CMAT3v/n+tZvh5pOURAKiSh+QXBjMhE97ls+BuCzAL5NRD+BShGu+T8AziSiXxLRGxshrCCEIYO7giAIEwzp8QuCIEwwRPELgiBMMETxC4IgTDBE8QuCIEwwRPELgiBMMETxC4IgTDBE8QuCIEww/h/ttSloYiukRAAAAABJRU5ErkJggg==\n",
      "text/plain": [
       "<Figure size 432x288 with 1 Axes>"
      ]
     },
     "metadata": {
      "needs_background": "light"
     },
     "output_type": "display_data"
    }
   ],
   "source": [
    "wd = weather_df.plot(kind='scatter', x='Lat', y='Wind Speed', color='blue', grid=True, title=\"City Latitude vs. Wind Speed (04/19/20)\")\n",
    "wd.set_xlabel=('Latitude') \n",
    "wd.set_ylabel=('Wind Speed (mph)')\n",
    "plt.savefig('LatVsWind')\n",
    "plt.show()"
   ]
  },
  {
   "cell_type": "markdown",
   "metadata": {},
   "source": [
    "- This scatter plot shows that based on reported information, the wind speeds are slower at the equator."
   ]
  },
  {
   "cell_type": "markdown",
   "metadata": {},
   "source": [
    "## Linear Regression"
   ]
  },
  {
   "cell_type": "code",
   "execution_count": 138,
   "metadata": {},
   "outputs": [],
   "source": [
    "# OPTIONAL: Create a function to create Linear Regression plots\n",
    "\n",
    "#def regress(x_values,y_values):\n",
    "#    (slope, intercept, rvalue, pvalue, stderr) = linregress(x_value, y_value)\n",
    "#    regress_values = x_values * slope + intercept\n",
    "#    line_eq = \"y = \" + str(round(slope,2)) + \"x + \" + str(round(intercept,2))\n",
    "#    return [regress_values, line_eq]\n",
    "    \n",
    "\n",
    "# Linear regression on x_values vs. y_values\n",
    "#(slope, intercept, rvalue, pvalue, stderr) = linregress(x_values, y_values)\n",
    "# Get regression values\n",
    "#regress_values = x_values * slope + intercept\n",
    "# Create line equation string\n",
    "#line_eq = \"y = \" + str(round(slope,2)) + \"x + \" + str(round(intercept,2))"
   ]
  },
  {
   "cell_type": "code",
   "execution_count": 139,
   "metadata": {},
   "outputs": [
    {
     "data": {
      "text/html": [
       "<div>\n",
       "<style scoped>\n",
       "    .dataframe tbody tr th:only-of-type {\n",
       "        vertical-align: middle;\n",
       "    }\n",
       "\n",
       "    .dataframe tbody tr th {\n",
       "        vertical-align: top;\n",
       "    }\n",
       "\n",
       "    .dataframe thead th {\n",
       "        text-align: right;\n",
       "    }\n",
       "</style>\n",
       "<table border=\"1\" class=\"dataframe\">\n",
       "  <thead>\n",
       "    <tr style=\"text-align: right;\">\n",
       "      <th></th>\n",
       "      <th>City</th>\n",
       "      <th>Cloudiness</th>\n",
       "      <th>Country</th>\n",
       "      <th>Date</th>\n",
       "      <th>Humidity</th>\n",
       "      <th>Lat</th>\n",
       "      <th>Lng</th>\n",
       "      <th>Temp</th>\n",
       "      <th>Wind Speed</th>\n",
       "    </tr>\n",
       "  </thead>\n",
       "  <tbody>\n",
       "    <tr>\n",
       "      <th>0</th>\n",
       "      <td>Erzin</td>\n",
       "      <td>84</td>\n",
       "      <td>TR</td>\n",
       "      <td>1588217084</td>\n",
       "      <td>89</td>\n",
       "      <td>36.96</td>\n",
       "      <td>36.20</td>\n",
       "      <td>64.00</td>\n",
       "      <td>0.43</td>\n",
       "    </tr>\n",
       "    <tr>\n",
       "      <th>1</th>\n",
       "      <td>Mbekenyera</td>\n",
       "      <td>100</td>\n",
       "      <td>TZ</td>\n",
       "      <td>1588217173</td>\n",
       "      <td>87</td>\n",
       "      <td>-10.00</td>\n",
       "      <td>38.98</td>\n",
       "      <td>70.20</td>\n",
       "      <td>2.91</td>\n",
       "    </tr>\n",
       "    <tr>\n",
       "      <th>2</th>\n",
       "      <td>Busselton</td>\n",
       "      <td>0</td>\n",
       "      <td>AU</td>\n",
       "      <td>1588217050</td>\n",
       "      <td>33</td>\n",
       "      <td>-33.65</td>\n",
       "      <td>115.33</td>\n",
       "      <td>63.73</td>\n",
       "      <td>12.68</td>\n",
       "    </tr>\n",
       "    <tr>\n",
       "      <th>3</th>\n",
       "      <td>Thompson</td>\n",
       "      <td>75</td>\n",
       "      <td>CA</td>\n",
       "      <td>1588217057</td>\n",
       "      <td>56</td>\n",
       "      <td>55.74</td>\n",
       "      <td>-97.86</td>\n",
       "      <td>44.60</td>\n",
       "      <td>10.29</td>\n",
       "    </tr>\n",
       "    <tr>\n",
       "      <th>4</th>\n",
       "      <td>Road Town</td>\n",
       "      <td>90</td>\n",
       "      <td>VG</td>\n",
       "      <td>1588216882</td>\n",
       "      <td>94</td>\n",
       "      <td>18.42</td>\n",
       "      <td>-64.62</td>\n",
       "      <td>77.11</td>\n",
       "      <td>8.05</td>\n",
       "    </tr>\n",
       "  </tbody>\n",
       "</table>\n",
       "</div>"
      ],
      "text/plain": [
       "         City  Cloudiness Country        Date  Humidity    Lat     Lng   Temp  \\\n",
       "0       Erzin          84      TR  1588217084        89  36.96   36.20  64.00   \n",
       "1  Mbekenyera         100      TZ  1588217173        87 -10.00   38.98  70.20   \n",
       "2   Busselton           0      AU  1588217050        33 -33.65  115.33  63.73   \n",
       "3    Thompson          75      CA  1588217057        56  55.74  -97.86  44.60   \n",
       "4   Road Town          90      VG  1588216882        94  18.42  -64.62  77.11   \n",
       "\n",
       "   Wind Speed  \n",
       "0        0.43  \n",
       "1        2.91  \n",
       "2       12.68  \n",
       "3       10.29  \n",
       "4        8.05  "
      ]
     },
     "execution_count": 139,
     "metadata": {},
     "output_type": "execute_result"
    }
   ],
   "source": [
    "# Create Northern and Southern Hemisphere DataFrames\n",
    "weather_df.head()"
   ]
  },
  {
   "cell_type": "code",
   "execution_count": 140,
   "metadata": {},
   "outputs": [
    {
     "data": {
      "text/html": [
       "<div>\n",
       "<style scoped>\n",
       "    .dataframe tbody tr th:only-of-type {\n",
       "        vertical-align: middle;\n",
       "    }\n",
       "\n",
       "    .dataframe tbody tr th {\n",
       "        vertical-align: top;\n",
       "    }\n",
       "\n",
       "    .dataframe thead th {\n",
       "        text-align: right;\n",
       "    }\n",
       "</style>\n",
       "<table border=\"1\" class=\"dataframe\">\n",
       "  <thead>\n",
       "    <tr style=\"text-align: right;\">\n",
       "      <th></th>\n",
       "      <th>City</th>\n",
       "      <th>Cloudiness</th>\n",
       "      <th>Country</th>\n",
       "      <th>Date</th>\n",
       "      <th>Humidity</th>\n",
       "      <th>Lat</th>\n",
       "      <th>Lng</th>\n",
       "      <th>Temp</th>\n",
       "      <th>Wind Speed</th>\n",
       "    </tr>\n",
       "  </thead>\n",
       "  <tbody>\n",
       "    <tr>\n",
       "      <th>1</th>\n",
       "      <td>Mbekenyera</td>\n",
       "      <td>100</td>\n",
       "      <td>TZ</td>\n",
       "      <td>1588217173</td>\n",
       "      <td>87</td>\n",
       "      <td>-10.00</td>\n",
       "      <td>38.98</td>\n",
       "      <td>70.20</td>\n",
       "      <td>2.91</td>\n",
       "    </tr>\n",
       "    <tr>\n",
       "      <th>2</th>\n",
       "      <td>Busselton</td>\n",
       "      <td>0</td>\n",
       "      <td>AU</td>\n",
       "      <td>1588217050</td>\n",
       "      <td>33</td>\n",
       "      <td>-33.65</td>\n",
       "      <td>115.33</td>\n",
       "      <td>63.73</td>\n",
       "      <td>12.68</td>\n",
       "    </tr>\n",
       "    <tr>\n",
       "      <th>5</th>\n",
       "      <td>Mar del Plata</td>\n",
       "      <td>40</td>\n",
       "      <td>AR</td>\n",
       "      <td>1588216942</td>\n",
       "      <td>82</td>\n",
       "      <td>-38.00</td>\n",
       "      <td>-57.56</td>\n",
       "      <td>58.08</td>\n",
       "      <td>9.17</td>\n",
       "    </tr>\n",
       "    <tr>\n",
       "      <th>9</th>\n",
       "      <td>Ushuaia</td>\n",
       "      <td>90</td>\n",
       "      <td>AR</td>\n",
       "      <td>1588217174</td>\n",
       "      <td>81</td>\n",
       "      <td>-54.80</td>\n",
       "      <td>-68.30</td>\n",
       "      <td>44.60</td>\n",
       "      <td>4.07</td>\n",
       "    </tr>\n",
       "    <tr>\n",
       "      <th>11</th>\n",
       "      <td>Mataura</td>\n",
       "      <td>97</td>\n",
       "      <td>NZ</td>\n",
       "      <td>1588217174</td>\n",
       "      <td>62</td>\n",
       "      <td>-46.19</td>\n",
       "      <td>168.86</td>\n",
       "      <td>62.01</td>\n",
       "      <td>11.01</td>\n",
       "    </tr>\n",
       "  </tbody>\n",
       "</table>\n",
       "</div>"
      ],
      "text/plain": [
       "             City  Cloudiness Country        Date  Humidity    Lat     Lng  \\\n",
       "1      Mbekenyera         100      TZ  1588217173        87 -10.00   38.98   \n",
       "2       Busselton           0      AU  1588217050        33 -33.65  115.33   \n",
       "5   Mar del Plata          40      AR  1588216942        82 -38.00  -57.56   \n",
       "9         Ushuaia          90      AR  1588217174        81 -54.80  -68.30   \n",
       "11        Mataura          97      NZ  1588217174        62 -46.19  168.86   \n",
       "\n",
       "     Temp  Wind Speed  \n",
       "1   70.20        2.91  \n",
       "2   63.73       12.68  \n",
       "5   58.08        9.17  \n",
       "9   44.60        4.07  \n",
       "11  62.01       11.01  "
      ]
     },
     "execution_count": 140,
     "metadata": {},
     "output_type": "execute_result"
    }
   ],
   "source": [
    "#Creating Southern Hemisphere\n",
    "s_hemi_df = weather_df[weather_df['Lat'] < 0]\n",
    "s_hemi_df.head()"
   ]
  },
  {
   "cell_type": "code",
   "execution_count": 141,
   "metadata": {},
   "outputs": [
    {
     "data": {
      "text/html": [
       "<div>\n",
       "<style scoped>\n",
       "    .dataframe tbody tr th:only-of-type {\n",
       "        vertical-align: middle;\n",
       "    }\n",
       "\n",
       "    .dataframe tbody tr th {\n",
       "        vertical-align: top;\n",
       "    }\n",
       "\n",
       "    .dataframe thead th {\n",
       "        text-align: right;\n",
       "    }\n",
       "</style>\n",
       "<table border=\"1\" class=\"dataframe\">\n",
       "  <thead>\n",
       "    <tr style=\"text-align: right;\">\n",
       "      <th></th>\n",
       "      <th>City</th>\n",
       "      <th>Cloudiness</th>\n",
       "      <th>Country</th>\n",
       "      <th>Date</th>\n",
       "      <th>Humidity</th>\n",
       "      <th>Lat</th>\n",
       "      <th>Lng</th>\n",
       "      <th>Temp</th>\n",
       "      <th>Wind Speed</th>\n",
       "    </tr>\n",
       "  </thead>\n",
       "  <tbody>\n",
       "    <tr>\n",
       "      <th>0</th>\n",
       "      <td>Erzin</td>\n",
       "      <td>84</td>\n",
       "      <td>TR</td>\n",
       "      <td>1588217084</td>\n",
       "      <td>89</td>\n",
       "      <td>36.96</td>\n",
       "      <td>36.20</td>\n",
       "      <td>64.00</td>\n",
       "      <td>0.43</td>\n",
       "    </tr>\n",
       "    <tr>\n",
       "      <th>3</th>\n",
       "      <td>Thompson</td>\n",
       "      <td>75</td>\n",
       "      <td>CA</td>\n",
       "      <td>1588217057</td>\n",
       "      <td>56</td>\n",
       "      <td>55.74</td>\n",
       "      <td>-97.86</td>\n",
       "      <td>44.60</td>\n",
       "      <td>10.29</td>\n",
       "    </tr>\n",
       "    <tr>\n",
       "      <th>4</th>\n",
       "      <td>Road Town</td>\n",
       "      <td>90</td>\n",
       "      <td>VG</td>\n",
       "      <td>1588216882</td>\n",
       "      <td>94</td>\n",
       "      <td>18.42</td>\n",
       "      <td>-64.62</td>\n",
       "      <td>77.11</td>\n",
       "      <td>8.05</td>\n",
       "    </tr>\n",
       "    <tr>\n",
       "      <th>6</th>\n",
       "      <td>Dikson</td>\n",
       "      <td>100</td>\n",
       "      <td>RU</td>\n",
       "      <td>1588217048</td>\n",
       "      <td>94</td>\n",
       "      <td>73.51</td>\n",
       "      <td>80.55</td>\n",
       "      <td>21.38</td>\n",
       "      <td>9.73</td>\n",
       "    </tr>\n",
       "    <tr>\n",
       "      <th>7</th>\n",
       "      <td>Iranshahr</td>\n",
       "      <td>0</td>\n",
       "      <td>IR</td>\n",
       "      <td>1588217174</td>\n",
       "      <td>27</td>\n",
       "      <td>27.20</td>\n",
       "      <td>60.68</td>\n",
       "      <td>78.80</td>\n",
       "      <td>4.70</td>\n",
       "    </tr>\n",
       "  </tbody>\n",
       "</table>\n",
       "</div>"
      ],
      "text/plain": [
       "        City  Cloudiness Country        Date  Humidity    Lat    Lng   Temp  \\\n",
       "0      Erzin          84      TR  1588217084        89  36.96  36.20  64.00   \n",
       "3   Thompson          75      CA  1588217057        56  55.74 -97.86  44.60   \n",
       "4  Road Town          90      VG  1588216882        94  18.42 -64.62  77.11   \n",
       "6     Dikson         100      RU  1588217048        94  73.51  80.55  21.38   \n",
       "7  Iranshahr           0      IR  1588217174        27  27.20  60.68  78.80   \n",
       "\n",
       "   Wind Speed  \n",
       "0        0.43  \n",
       "3       10.29  \n",
       "4        8.05  \n",
       "6        9.73  \n",
       "7        4.70  "
      ]
     },
     "execution_count": 141,
     "metadata": {},
     "output_type": "execute_result"
    }
   ],
   "source": [
    "#Creating Northern Hemisphere\n",
    "n_hemi_df = weather_df[weather_df['Lat'] >= 0]\n",
    "n_hemi_df.head()"
   ]
  },
  {
   "cell_type": "markdown",
   "metadata": {},
   "source": [
    "####  Northern Hemisphere - Max Temp vs. Latitude Linear Regression"
   ]
  },
  {
   "cell_type": "code",
   "execution_count": 142,
   "metadata": {},
   "outputs": [
    {
     "name": "stdout",
     "output_type": "stream",
     "text": [
      "The r-squared is: -0.8558244340664901\n"
     ]
    },
    {
     "data": {
      "image/png": "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\n",
      "text/plain": [
       "<Figure size 432x288 with 1 Axes>"
      ]
     },
     "metadata": {
      "needs_background": "light"
     },
     "output_type": "display_data"
    }
   ],
   "source": [
    "x_values = n_hemi_df['Lat']\n",
    "y_values = n_hemi_df['Temp']\n",
    "\n",
    "# Create scatter plot\n",
    "plt.scatter(x_values,y_values)\n",
    "\n",
    "# Linear regression on x_values vs. y_values\n",
    "(slope, intercept, rvalue, pvalue, stderr) = linregress(x_values, y_values)\n",
    "\n",
    "# Get regression values\n",
    "regress_values = x_values * slope + intercept\n",
    "plt.plot(x_values,regress_values,\"r-\")\n",
    "\n",
    "# Create line equation string\n",
    "line_eq = \"y = \" + str(round(slope,2)) + \"x + \" + str(round(intercept,2))\n",
    "\n",
    "# Print r-squared value\n",
    "print(f\"The r-squared is: {rvalue}\")\n",
    "\n",
    "# Create labels\n",
    "plt.annotate(line_eq,(5,20), fontsize=15,color=\"red\")\n",
    "plt.title('Northern Hemisphere - Max Temp vs. Latitude')\n",
    "#plt.xlabel('Latitude')\n",
    "#plt.ylabel('Max Tempreture')\n",
    "plt.annotate(line_eq,(5,20), fontsize=15,color=\"red\")\n",
    "plt.title('Northern Hemisphere - Max Temp vs. Latitude')\n",
    "plt.savefig('NorthHemMaxTempVsLat')\n",
    "plt.show()\n"
   ]
  },
  {
   "cell_type": "markdown",
   "metadata": {},
   "source": [
    "####  Southern Hemisphere - Max Temp vs. Latitude Linear Regression"
   ]
  },
  {
   "cell_type": "code",
   "execution_count": 143,
   "metadata": {},
   "outputs": [
    {
     "name": "stdout",
     "output_type": "stream",
     "text": [
      "The r-squared is: 0.7158582847737619\n"
     ]
    },
    {
     "data": {
      "image/png": "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\n",
      "text/plain": [
       "<Figure size 432x288 with 1 Axes>"
      ]
     },
     "metadata": {
      "needs_background": "light"
     },
     "output_type": "display_data"
    }
   ],
   "source": [
    "x_values = s_hemi_df['Lat']\n",
    "y_values = s_hemi_df['Temp']\n",
    "\n",
    "# Create scatter plot\n",
    "plt.scatter(x_values,y_values)\n",
    "\n",
    "# Linear regression on x_values vs. y_values\n",
    "(slope, intercept, rvalue, pvalue, stderr) = linregress(x_values, y_values)\n",
    "\n",
    "# Get regression values\n",
    "regress_values = x_values * slope + intercept\n",
    "plt.plot(x_values,regress_values,\"r-\")\n",
    "\n",
    "# Create line equation string\n",
    "line_eq = \"y = \" + str(round(slope,2)) + \"x + \" + str(round(intercept,2))\n",
    "\n",
    "# Print r-squared value\n",
    "print(f\"The r-squared is: {rvalue}\")\n",
    "\n",
    "# Create labels\n",
    "#plt.xlabel('Latitude')\n",
    "#plt.ylabel('Max Tempreture')\n",
    "plt.annotate(line_eq,(-25,47), fontsize=15,color=\"red\")\n",
    "plt.title('Southern Hemisphere - Max Temp vs. Latitude')\n",
    "plt.savefig('SorthhemMaxTempVsLat')\n",
    "plt.show()"
   ]
  },
  {
   "cell_type": "markdown",
   "metadata": {},
   "source": [
    "- The two above scatter plots show the expected results that it is hotter at the equator.  However, the southern hemisphere has a wider variation of tempretures than the northern hemisphere."
   ]
  },
  {
   "cell_type": "markdown",
   "metadata": {},
   "source": [
    "####  Northern Hemisphere - Humidity (%) vs. Latitude Linear Regression"
   ]
  },
  {
   "cell_type": "code",
   "execution_count": 144,
   "metadata": {},
   "outputs": [
    {
     "name": "stdout",
     "output_type": "stream",
     "text": [
      "The r-squared is: 0.11814859151494063\n"
     ]
    },
    {
     "data": {
      "image/png": "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\n",
      "text/plain": [
       "<Figure size 432x288 with 1 Axes>"
      ]
     },
     "metadata": {
      "needs_background": "light"
     },
     "output_type": "display_data"
    }
   ],
   "source": [
    "x_values = n_hemi_df['Lat']\n",
    "y_values = n_hemi_df['Humidity']\n",
    "\n",
    "# Create scatter plot\n",
    "plt.scatter(x_values,y_values)\n",
    "\n",
    "# Linear regression on x_values vs. y_values\n",
    "(slope, intercept, rvalue, pvalue, stderr) = linregress(x_values, y_values)\n",
    "\n",
    "# Get regression values\n",
    "regress_values = x_values * slope + intercept\n",
    "plt.plot(x_values,regress_values,\"r-\")\n",
    "\n",
    "# Create line equation string\n",
    "line_eq = \"y = \" + str(round(slope,2)) + \"x + \" + str(round(intercept,2))\n",
    "\n",
    "# Print r-squared value\n",
    "print(f\"The r-squared is: {rvalue}\")\n",
    "\n",
    "# Create labels\n",
    "#plt.xlabel('Latitude')\n",
    "#plt.ylabel('Max Tempreture')\n",
    "plt.annotate(line_eq,(45,15), fontsize=15,color=\"red\")\n",
    "plt.title('Northern Hemisphere - Humidity vs. Latitude')\n",
    "plt.savefig('NorthHemHumidVsLat')\n",
    "plt.show()"
   ]
  },
  {
   "cell_type": "code",
   "execution_count": null,
   "metadata": {
    "scrolled": true
   },
   "outputs": [],
   "source": []
  },
  {
   "cell_type": "markdown",
   "metadata": {},
   "source": [
    "####  Southern Hemisphere - Humidity (%) vs. Latitude Linear Regression"
   ]
  },
  {
   "cell_type": "code",
   "execution_count": 145,
   "metadata": {},
   "outputs": [
    {
     "name": "stdout",
     "output_type": "stream",
     "text": [
      "The r-squared is: 0.1323193675549273\n"
     ]
    },
    {
     "data": {
      "image/png": "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\n",
      "text/plain": [
       "<Figure size 432x288 with 1 Axes>"
      ]
     },
     "metadata": {
      "needs_background": "light"
     },
     "output_type": "display_data"
    }
   ],
   "source": [
    "x_values = s_hemi_df['Lat']\n",
    "y_values = s_hemi_df['Humidity']\n",
    "\n",
    "# Create scatter plot\n",
    "plt.scatter(x_values,y_values)\n",
    "\n",
    "# Linear regression on x_values vs. y_values\n",
    "(slope, intercept, rvalue, pvalue, stderr) = linregress(x_values, y_values)\n",
    "\n",
    "# Get regression values\n",
    "regress_values = x_values * slope + intercept\n",
    "plt.plot(x_values,regress_values,\"r-\")\n",
    "\n",
    "# Create line equation string\n",
    "line_eq = \"y = \" + str(round(slope,2)) + \"x + \" + str(round(intercept,2))\n",
    "\n",
    "# Print r-squared value\n",
    "print(f\"The r-squared is: {rvalue}\")\n",
    "\n",
    "# Create labels\n",
    "#plt.xlabel('Latitude')\n",
    "#plt.ylabel('Max Tempreture')\n",
    "plt.annotate(line_eq,(-21,20), fontsize=15,color=\"red\")\n",
    "plt.title('Southern Hemisphere - Humidity (%) vs. Latitude')\n",
    "plt.savefig('SouthHemHumidVsLat')\n",
    "plt.show()"
   ]
  },
  {
   "cell_type": "markdown",
   "metadata": {
    "scrolled": true
   },
   "source": [
    "- Both hemisphere appear to be equal in variations of humidity."
   ]
  },
  {
   "cell_type": "markdown",
   "metadata": {},
   "source": [
    "####  Northern Hemisphere - Cloudiness (%) vs. Latitude Linear Regression"
   ]
  },
  {
   "cell_type": "code",
   "execution_count": 146,
   "metadata": {},
   "outputs": [
    {
     "name": "stdout",
     "output_type": "stream",
     "text": [
      "The r-squared is: 0.0983809842013453\n"
     ]
    },
    {
     "data": {
      "image/png": "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\n",
      "text/plain": [
       "<Figure size 432x288 with 1 Axes>"
      ]
     },
     "metadata": {
      "needs_background": "light"
     },
     "output_type": "display_data"
    }
   ],
   "source": [
    "x_values = n_hemi_df['Lat']\n",
    "y_values = n_hemi_df['Cloudiness']\n",
    "\n",
    "# Create scatter plot\n",
    "plt.scatter(x_values,y_values)\n",
    "\n",
    "# Linear regression on x_values vs. y_values\n",
    "(slope, intercept, rvalue, pvalue, stderr) = linregress(x_values, y_values)\n",
    "\n",
    "# Get regression values\n",
    "regress_values = x_values * slope + intercept\n",
    "plt.plot(x_values,regress_values,\"r-\")\n",
    "\n",
    "# Create line equation string\n",
    "line_eq = \"y = \" + str(round(slope,2)) + \"x + \" + str(round(intercept,2))\n",
    "\n",
    "# Print r-squared value\n",
    "print(f\"The r-squared is: {rvalue}\")\n",
    "\n",
    "# Create labels\n",
    "#plt.xlabel('Latitude')\n",
    "#plt.ylabel('Max Tempreture')\n",
    "plt.annotate(line_eq,(30,26), fontsize=15,color=\"red\")\n",
    "plt.title('Northern Hemisphere - Cloudiness vs. Latitude')\n",
    "plt.savefig('NorthHemCloudVsLat')\n",
    "plt.show()"
   ]
  },
  {
   "cell_type": "code",
   "execution_count": null,
   "metadata": {
    "scrolled": true
   },
   "outputs": [],
   "source": []
  },
  {
   "cell_type": "markdown",
   "metadata": {},
   "source": [
    "####  Southern Hemisphere - Cloudiness (%) vs. Latitude Linear Regression"
   ]
  },
  {
   "cell_type": "code",
   "execution_count": 147,
   "metadata": {},
   "outputs": [
    {
     "name": "stdout",
     "output_type": "stream",
     "text": [
      "The r-squared is: 0.01354423239625422\n"
     ]
    },
    {
     "data": {
      "image/png": "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\n",
      "text/plain": [
       "<Figure size 432x288 with 1 Axes>"
      ]
     },
     "metadata": {
      "needs_background": "light"
     },
     "output_type": "display_data"
    }
   ],
   "source": [
    "x_values = s_hemi_df['Lat']\n",
    "y_values = s_hemi_df['Cloudiness']\n",
    "\n",
    "# Create scatter plot\n",
    "plt.scatter(x_values,y_values)\n",
    "\n",
    "# Linear regression on x_values vs. y_values\n",
    "(slope, intercept, rvalue, pvalue, stderr) = linregress(x_values, y_values)\n",
    "\n",
    "# Get regression values\n",
    "regress_values = x_values * slope + intercept\n",
    "plt.plot(x_values,regress_values,\"r-\")\n",
    "\n",
    "# Create line equation string\n",
    "line_eq = \"y = \" + str(round(slope,2)) + \"x + \" + str(round(intercept,2))\n",
    "\n",
    "# Print r-squared value\n",
    "print(f\"The r-squared is: {rvalue}\")\n",
    "\n",
    "# Create labels\n",
    "#plt.xlabel('Latitude')\n",
    "#plt.ylabel('Max Tempreture')\n",
    "plt.annotate(line_eq,(-55,26), fontsize=15,color=\"red\")\n",
    "plt.title('Southern Hemisphere - Cloudiness vs. Latitude')\n",
    "plt.savefig('SouthHemCloudVsLat')\n",
    "plt.show()"
   ]
  },
  {
   "cell_type": "markdown",
   "metadata": {},
   "source": [
    "- Data from both above scatter plots are too random to make an obervation."
   ]
  },
  {
   "cell_type": "markdown",
   "metadata": {},
   "source": [
    "####  Northern Hemisphere - Wind Speed (mph) vs. Latitude Linear Regression"
   ]
  },
  {
   "cell_type": "code",
   "execution_count": 148,
   "metadata": {},
   "outputs": [
    {
     "name": "stdout",
     "output_type": "stream",
     "text": [
      "The r-squared is: 0.19384605479074252\n"
     ]
    },
    {
     "data": {
      "image/png": "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\n",
      "text/plain": [
       "<Figure size 432x288 with 1 Axes>"
      ]
     },
     "metadata": {
      "needs_background": "light"
     },
     "output_type": "display_data"
    }
   ],
   "source": [
    "x_values = n_hemi_df['Lat']\n",
    "y_values = n_hemi_df['Wind Speed']\n",
    "\n",
    "# Create scatter plot\n",
    "plt.scatter(x_values,y_values)\n",
    "\n",
    "# Linear regression on x_values vs. y_values\n",
    "(slope, intercept, rvalue, pvalue, stderr) = linregress(x_values, y_values)\n",
    "\n",
    "# Get regression values\n",
    "regress_values = x_values * slope + intercept\n",
    "plt.plot(x_values,regress_values,\"r-\")\n",
    "\n",
    "# Create line equation string\n",
    "line_eq = \"y = \" + str(round(slope,2)) + \"x + \" + str(round(intercept,2))\n",
    "\n",
    "# Print r-squared value\n",
    "print(f\"The r-squared is: {rvalue}\")\n",
    "\n",
    "# Create labels\n",
    "#plt.xlabel('Latitude')\n",
    "#plt.ylabel('Max Tempreture')\n",
    "plt.annotate(line_eq,(30,21), fontsize=15,color=\"red\")\n",
    "plt.title('Northern Hemisphere - Wind Speed vs. Latitude')\n",
    "plt.savefig('NorthHemWindVsLat')\n",
    "plt.show()"
   ]
  },
  {
   "cell_type": "markdown",
   "metadata": {},
   "source": [
    "####  Southern Hemisphere - Wind Speed (mph) vs. Latitude Linear Regression"
   ]
  },
  {
   "cell_type": "code",
   "execution_count": 149,
   "metadata": {
    "scrolled": true
   },
   "outputs": [
    {
     "name": "stdout",
     "output_type": "stream",
     "text": [
      "The r-squared is: -0.2299125105294577\n"
     ]
    },
    {
     "data": {
      "image/png": "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\n",
      "text/plain": [
       "<Figure size 432x288 with 1 Axes>"
      ]
     },
     "metadata": {
      "needs_background": "light"
     },
     "output_type": "display_data"
    }
   ],
   "source": [
    "x_values = s_hemi_df['Lat']\n",
    "y_values = s_hemi_df['Wind Speed']\n",
    "\n",
    "# Create scatter plot\n",
    "plt.scatter(x_values,y_values)\n",
    "\n",
    "# Linear regression on x_values vs. y_values\n",
    "(slope, intercept, rvalue, pvalue, stderr) = linregress(x_values, y_values)\n",
    "\n",
    "# Get regression values\n",
    "regress_values = x_values * slope + intercept\n",
    "plt.plot(x_values,regress_values,\"r-\")\n",
    "\n",
    "# Create line equation string\n",
    "line_eq = \"y = \" + str(round(slope,2)) + \"x + \" + str(round(intercept,2))\n",
    "\n",
    "# Print r-squared value\n",
    "print(f\"The r-squared is: {rvalue}\")\n",
    "\n",
    "# Create labels\n",
    "#plt.xlabel('Latitude')\n",
    "#plt.ylabel('Max Tempreture')\n",
    "plt.annotate(line_eq,(-30,17), fontsize=15,color=\"red\")\n",
    "plt.title('Southern Hemisphere - Wind Speed (mph) vs. Latitude')\n",
    "plt.savefig('SouthHemWindVsLat')\n",
    "plt.show()"
   ]
  },
  {
   "cell_type": "markdown",
   "metadata": {},
   "source": [
    "- Both scatter plots show that the wind speeds get slower as the measurements get towards the equator."
   ]
  },
  {
   "cell_type": "code",
   "execution_count": null,
   "metadata": {},
   "outputs": [],
   "source": []
  }
 ],
 "metadata": {
  "anaconda-cloud": {},
  "kernel_info": {
   "name": "python3"
  },
  "kernelspec": {
   "display_name": "Python 3",
   "language": "python",
   "name": "python3"
  },
  "language_info": {
   "codemirror_mode": {
    "name": "ipython",
    "version": 3
   },
   "file_extension": ".py",
   "mimetype": "text/x-python",
   "name": "python",
   "nbconvert_exporter": "python",
   "pygments_lexer": "ipython3",
   "version": "3.7.7"
  },
  "latex_envs": {
   "LaTeX_envs_menu_present": true,
   "autoclose": false,
   "autocomplete": true,
   "bibliofile": "biblio.bib",
   "cite_by": "apalike",
   "current_citInitial": 1,
   "eqLabelWithNumbers": true,
   "eqNumInitial": 1,
   "hotkeys": {
    "equation": "Ctrl-E",
    "itemize": "Ctrl-I"
   },
   "labels_anchors": false,
   "latex_user_defs": false,
   "report_style_numbering": false,
   "user_envs_cfg": false
  },
  "nteract": {
   "version": "0.12.3"
  }
 },
 "nbformat": 4,
 "nbformat_minor": 4
}
